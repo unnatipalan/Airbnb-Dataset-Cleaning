{
  "nbformat": 4,
  "nbformat_minor": 0,
  "metadata": {
    "colab": {
      "name": "Copy of Cleaning Data in Python live_students.ipynb",
      "provenance": [],
      "collapsed_sections": [
        "7rrd0kYCnIYE",
        "SvMs1y6gucs6",
        "32vk2-Vn5l3Z",
        "VnxYYabO0Bdt",
        "zaF7ZDbzA6P7"
      ]
    },
    "kernelspec": {
      "name": "python3",
      "display_name": "Python 3"
    }
  },
  "cells": [
    {
      "cell_type": "markdown",
      "metadata": {
        "id": "6Ijg5wUCTQYG",
        "colab_type": "text"
      },
      "source": [
        "<p align=\"center\">\n",
        "<img src=\"https://cdn.datacamp.com/main-app/assets/brand/datacamp-horizontal-rgb-b641f95b7bdd7560b554c761a0b4910f9619907dd823c0e41244ed72078723bf.svg\" alt = \"DataCamp icon\" width=\"50%\">\n",
        "</p>\n",
        "<br><br>\n",
        "\n",
        "## **Cleaning Data in Python live training**\n",
        "\n",
        "\n",
        "Welcome to this live, hands-on training where you will learn how to effectively diagnose and treat missing data in Python.\n",
        "\n",
        "The majority of data science work often revolves around pre-processing data, and making sure it's ready for analysis. In this session, we will be covering how transform our raw data into accurate insights. In this notebook, you will learn:\n",
        "\n",
        "* Import data into `pandas`, and use simple functions to diagnose problems in our data.\n",
        "* Visualize missing and out of range data using `missingno` and `seaborn`.\n",
        "* Apply a range of data cleaning tasks that will ensure the delivery of accurate insights.\n",
        "\n",
        "## **The Dataset**\n",
        "\n",
        "The dataset to be used in this webinar is a CSV file named `airbnb.csv`, which contains data on airbnb listings in the state of New York. It contains the following columns:\n",
        "\n",
        "- `listing_id`: The unique identifier for a listing\n",
        "- `description`: The description used on the listing\n",
        "- `host_id`: Unique identifier for a host\n",
        "- `host_name`: Name of host\n",
        "- `neighbourhood_full`: Name of boroughs and neighbourhoods\n",
        "- `coordinates`: Coordinates of listing _(latitude, longitude)_\n",
        "- `Listing added`: Date of added listing\n",
        "- `room_type`: Type of room \n",
        "- `rating`: Rating from 0 to 5.\n",
        "- `price`: Price per night for listing\n",
        "- `number_of_reviews`: Amount of reviews received \n",
        "- `last_review`: Date of last review\n",
        "- `reviews_per_month`: Number of reviews per month\n",
        "- `availability_365`: Number of days available per year\n",
        "- `Number of stays`: Total number of stays thus far\n"
      ]
    },
    {
      "cell_type": "markdown",
      "metadata": {
        "id": "BMYfcKeDY85K",
        "colab_type": "text"
      },
      "source": [
        "## **Getting started**"
      ]
    },
    {
      "cell_type": "code",
      "metadata": {
        "id": "EMQfyC7GUNhT",
        "colab_type": "code",
        "outputId": "5cde0918-c68a-435c-a92f-8f944265b501",
        "colab": {
          "base_uri": "https://localhost:8080/",
          "height": 70
        }
      },
      "source": [
        "# Import libraries\n",
        "import pandas as pd\n",
        "import matplotlib.pyplot as plt\n",
        "import numpy as np\n",
        "import seaborn as sns\n",
        "import datetime as dt\n",
        "import missingno as msno\n",
        "import datetime as dt"
      ],
      "execution_count": 0,
      "outputs": [
        {
          "output_type": "stream",
          "text": [
            "/usr/local/lib/python3.6/dist-packages/statsmodels/tools/_testing.py:19: FutureWarning: pandas.util.testing is deprecated. Use the functions in the public API at pandas.testing instead.\n",
            "  import pandas.util.testing as tm\n"
          ],
          "name": "stderr"
        }
      ]
    },
    {
      "cell_type": "code",
      "metadata": {
        "id": "l8t_EwRNZPLB",
        "colab_type": "code",
        "colab": {}
      },
      "source": [
        "# Read in the dataset\n",
        "airbnb = pd.read_csv('https://github.com/adelnehme/python-for-spreadsheet-users-webinar/blob/master/datasets/airbnb.csv?raw=true', index_col = 'Unnamed: 0')\n",
        "#setting first column/unnamed as o - index_col"
      ],
      "execution_count": 0,
      "outputs": []
    },
    {
      "cell_type": "markdown",
      "metadata": {
        "id": "1ui1uvtyZwfQ",
        "colab_type": "text"
      },
      "source": [
        "## **Diagnosing data cleaning problems using simple `pandas` and visualizations** "
      ]
    },
    {
      "cell_type": "markdown",
      "metadata": {
        "id": "t3fgtos4Z6Xa",
        "colab_type": "text"
      },
      "source": [
        "Some important and common methods needed to get a better understanding of DataFrames and diagnose potential data problems are the following: \n",
        "\n",
        "- `.head()` prints the header of a DataFrame\n",
        "- `.dtypes` prints datatypes of all columns in a DataFrame\n",
        "- `.info()` provides a bird's eye view of column data types and missing values in a DataFrame\n",
        "- `.describe()` returns a distribution of numeric columns in your DataFrame\n",
        "- `.isna().sum()` allows us to break down the number of missing values per column in our DataFrame\n",
        "- `.unique()` finds the number of unique values in a DataFrame column\n",
        "\n",
        "<br>\n",
        "\n",
        "- `sns.displot()` plots the distribution of one column in your DataFrame."
      ]
    },
    {
      "cell_type": "code",
      "metadata": {
        "id": "x3w1WbkFZ-ig",
        "colab_type": "code",
        "outputId": "fd6aa86d-94af-4f0a-e225-651a8f0c31a1",
        "colab": {
          "base_uri": "https://localhost:8080/",
          "height": 469
        }
      },
      "source": [
        "# Print the header of the DataFrame\n",
        "airbnb.head() #methods are similar to functions"
      ],
      "execution_count": 0,
      "outputs": [
        {
          "output_type": "execute_result",
          "data": {
            "text/html": [
              "<div>\n",
              "<style scoped>\n",
              "    .dataframe tbody tr th:only-of-type {\n",
              "        vertical-align: middle;\n",
              "    }\n",
              "\n",
              "    .dataframe tbody tr th {\n",
              "        vertical-align: top;\n",
              "    }\n",
              "\n",
              "    .dataframe thead th {\n",
              "        text-align: right;\n",
              "    }\n",
              "</style>\n",
              "<table border=\"1\" class=\"dataframe\">\n",
              "  <thead>\n",
              "    <tr style=\"text-align: right;\">\n",
              "      <th></th>\n",
              "      <th>listing_id</th>\n",
              "      <th>name</th>\n",
              "      <th>host_id</th>\n",
              "      <th>host_name</th>\n",
              "      <th>neighbourhood_full</th>\n",
              "      <th>coordinates</th>\n",
              "      <th>room_type</th>\n",
              "      <th>price</th>\n",
              "      <th>number_of_reviews</th>\n",
              "      <th>last_review</th>\n",
              "      <th>reviews_per_month</th>\n",
              "      <th>availability_365</th>\n",
              "      <th>rating</th>\n",
              "      <th>number_of_stays</th>\n",
              "      <th>5_stars</th>\n",
              "      <th>listing_added</th>\n",
              "    </tr>\n",
              "  </thead>\n",
              "  <tbody>\n",
              "    <tr>\n",
              "      <th>0</th>\n",
              "      <td>13740704</td>\n",
              "      <td>Cozy,budget friendly, cable inc, private entra...</td>\n",
              "      <td>20583125</td>\n",
              "      <td>Michel</td>\n",
              "      <td>Brooklyn, Flatlands</td>\n",
              "      <td>(40.63222, -73.93398)</td>\n",
              "      <td>Private room</td>\n",
              "      <td>45$</td>\n",
              "      <td>10</td>\n",
              "      <td>2018-12-12</td>\n",
              "      <td>0.70</td>\n",
              "      <td>85</td>\n",
              "      <td>4.100954</td>\n",
              "      <td>12.0</td>\n",
              "      <td>0.609432</td>\n",
              "      <td>2018-06-08</td>\n",
              "    </tr>\n",
              "    <tr>\n",
              "      <th>1</th>\n",
              "      <td>22005115</td>\n",
              "      <td>Two floor apartment near Central Park</td>\n",
              "      <td>82746113</td>\n",
              "      <td>Cecilia</td>\n",
              "      <td>Manhattan, Upper West Side</td>\n",
              "      <td>(40.78761, -73.96862)</td>\n",
              "      <td>Entire home/apt</td>\n",
              "      <td>135$</td>\n",
              "      <td>1</td>\n",
              "      <td>2019-06-30</td>\n",
              "      <td>1.00</td>\n",
              "      <td>145</td>\n",
              "      <td>3.367600</td>\n",
              "      <td>1.2</td>\n",
              "      <td>0.746135</td>\n",
              "      <td>2018-12-25</td>\n",
              "    </tr>\n",
              "    <tr>\n",
              "      <th>2</th>\n",
              "      <td>21667615</td>\n",
              "      <td>Beautiful 1BR in Brooklyn Heights</td>\n",
              "      <td>78251</td>\n",
              "      <td>Leslie</td>\n",
              "      <td>Brooklyn, Brooklyn Heights</td>\n",
              "      <td>(40.7007, -73.99517)</td>\n",
              "      <td>Entire home/apt</td>\n",
              "      <td>150$</td>\n",
              "      <td>0</td>\n",
              "      <td>NaN</td>\n",
              "      <td>NaN</td>\n",
              "      <td>65</td>\n",
              "      <td>NaN</td>\n",
              "      <td>NaN</td>\n",
              "      <td>NaN</td>\n",
              "      <td>2018-08-15</td>\n",
              "    </tr>\n",
              "    <tr>\n",
              "      <th>3</th>\n",
              "      <td>6425850</td>\n",
              "      <td>Spacious, charming studio</td>\n",
              "      <td>32715865</td>\n",
              "      <td>Yelena</td>\n",
              "      <td>Manhattan, Upper West Side</td>\n",
              "      <td>(40.79169, -73.97498)</td>\n",
              "      <td>Entire home/apt</td>\n",
              "      <td>86$</td>\n",
              "      <td>5</td>\n",
              "      <td>2017-09-23</td>\n",
              "      <td>0.13</td>\n",
              "      <td>0</td>\n",
              "      <td>4.763203</td>\n",
              "      <td>6.0</td>\n",
              "      <td>0.769947</td>\n",
              "      <td>2017-03-20</td>\n",
              "    </tr>\n",
              "    <tr>\n",
              "      <th>4</th>\n",
              "      <td>22986519</td>\n",
              "      <td>Bedroom on the lively Lower East Side</td>\n",
              "      <td>154262349</td>\n",
              "      <td>Brooke</td>\n",
              "      <td>Manhattan, Lower East Side</td>\n",
              "      <td>(40.71884, -73.98354)</td>\n",
              "      <td>Private room</td>\n",
              "      <td>160$</td>\n",
              "      <td>23</td>\n",
              "      <td>2019-06-12</td>\n",
              "      <td>2.29</td>\n",
              "      <td>102</td>\n",
              "      <td>3.822591</td>\n",
              "      <td>27.6</td>\n",
              "      <td>0.649383</td>\n",
              "      <td>2020-10-23</td>\n",
              "    </tr>\n",
              "  </tbody>\n",
              "</table>\n",
              "</div>"
            ],
            "text/plain": [
              "   listing_id  ... listing_added\n",
              "0    13740704  ...    2018-06-08\n",
              "1    22005115  ...    2018-12-25\n",
              "2    21667615  ...    2018-08-15\n",
              "3     6425850  ...    2017-03-20\n",
              "4    22986519  ...    2020-10-23\n",
              "\n",
              "[5 rows x 16 columns]"
            ]
          },
          "metadata": {
            "tags": []
          },
          "execution_count": 3
        }
      ]
    },
    {
      "cell_type": "code",
      "metadata": {
        "id": "SiWS3EiPakp2",
        "colab_type": "code",
        "outputId": "27aedce1-154c-4601-e726-2828d84f7411",
        "colab": {
          "base_uri": "https://localhost:8080/",
          "height": 298
        }
      },
      "source": [
        "# Print data types of DataFrame \n",
        "#attributes describe something about the object\n",
        "airbnb.dtypes"
      ],
      "execution_count": 0,
      "outputs": [
        {
          "output_type": "execute_result",
          "data": {
            "text/plain": [
              "listing_id              int64\n",
              "name                   object\n",
              "host_id                 int64\n",
              "host_name              object\n",
              "neighbourhood_full     object\n",
              "coordinates            object\n",
              "room_type              object\n",
              "price                  object\n",
              "number_of_reviews       int64\n",
              "last_review            object\n",
              "reviews_per_month     float64\n",
              "availability_365        int64\n",
              "rating                float64\n",
              "number_of_stays       float64\n",
              "5_stars               float64\n",
              "listing_added          object\n",
              "dtype: object"
            ]
          },
          "metadata": {
            "tags": []
          },
          "execution_count": 4
        }
      ]
    },
    {
      "cell_type": "code",
      "metadata": {
        "id": "KoT5LMdSiW1H",
        "colab_type": "code",
        "outputId": "b9dda486-cc0e-4572-c8e6-84ba43ff1e0a",
        "colab": {
          "base_uri": "https://localhost:8080/",
          "height": 398
        }
      },
      "source": [
        "# Print info of DataFrame\n",
        "airbnb.info()"
      ],
      "execution_count": 0,
      "outputs": [
        {
          "output_type": "stream",
          "text": [
            "<class 'pandas.core.frame.DataFrame'>\n",
            "Int64Index: 10019 entries, 0 to 10018\n",
            "Data columns (total 16 columns):\n",
            " #   Column              Non-Null Count  Dtype  \n",
            "---  ------              --------------  -----  \n",
            " 0   listing_id          10019 non-null  int64  \n",
            " 1   name                10014 non-null  object \n",
            " 2   host_id             10019 non-null  int64  \n",
            " 3   host_name           10017 non-null  object \n",
            " 4   neighbourhood_full  10019 non-null  object \n",
            " 5   coordinates         10019 non-null  object \n",
            " 6   room_type           10019 non-null  object \n",
            " 7   price               9781 non-null   object \n",
            " 8   number_of_reviews   10019 non-null  int64  \n",
            " 9   last_review         7944 non-null   object \n",
            " 10  reviews_per_month   7944 non-null   float64\n",
            " 11  availability_365    10019 non-null  int64  \n",
            " 12  rating              7944 non-null   float64\n",
            " 13  number_of_stays     7944 non-null   float64\n",
            " 14  5_stars             7944 non-null   float64\n",
            " 15  listing_added       10019 non-null  object \n",
            "dtypes: float64(4), int64(4), object(8)\n",
            "memory usage: 1.3+ MB\n"
          ],
          "name": "stdout"
        }
      ]
    },
    {
      "cell_type": "code",
      "metadata": {
        "id": "dvsinK9zexdv",
        "colab_type": "code",
        "outputId": "aee6bd2a-8475-46c6-d3bb-f1adfd5c761a",
        "colab": {
          "base_uri": "https://localhost:8080/",
          "height": 298
        }
      },
      "source": [
        "# Print number of missing values\n",
        "airbnb.isna().sum()"
      ],
      "execution_count": 0,
      "outputs": [
        {
          "output_type": "execute_result",
          "data": {
            "text/plain": [
              "listing_id               0\n",
              "name                     5\n",
              "host_id                  0\n",
              "host_name                2\n",
              "neighbourhood_full       0\n",
              "coordinates              0\n",
              "room_type                0\n",
              "price                  238\n",
              "number_of_reviews        0\n",
              "last_review           2075\n",
              "reviews_per_month     2075\n",
              "availability_365         0\n",
              "rating                2075\n",
              "number_of_stays       2075\n",
              "5_stars               2075\n",
              "listing_added            0\n",
              "dtype: int64"
            ]
          },
          "metadata": {
            "tags": []
          },
          "execution_count": 6
        }
      ]
    },
    {
      "cell_type": "markdown",
      "metadata": {
        "id": "BLtjk34CgDdF",
        "colab_type": "text"
      },
      "source": [
        "There are a variety of ways of dealing with missing data that is dependent on type of missingness, as well as the business assumptions behind our data - our options could be:\n",
        "\n",
        "- Dropping missing data (if the data dropped does not impact or skew our data)\n",
        "- Setting to missing and impute with statistical measures (median, mean, mode ...)\n",
        "- Imputing with more complex algorithmic/machine learning based approaches\n",
        "- Impute based on business assumptions of our data"
      ]
    },
    {
      "cell_type": "code",
      "metadata": {
        "id": "ydyKeLnKgAHq",
        "colab_type": "code",
        "outputId": "4d7ec764-d3ba-4292-adaa-d1db0ed93589",
        "colab": {
          "base_uri": "https://localhost:8080/",
          "height": 312
        }
      },
      "source": [
        "# Print description of DataFrame\n",
        "airbnb.describe()"
      ],
      "execution_count": 0,
      "outputs": [
        {
          "output_type": "execute_result",
          "data": {
            "text/html": [
              "<div>\n",
              "<style scoped>\n",
              "    .dataframe tbody tr th:only-of-type {\n",
              "        vertical-align: middle;\n",
              "    }\n",
              "\n",
              "    .dataframe tbody tr th {\n",
              "        vertical-align: top;\n",
              "    }\n",
              "\n",
              "    .dataframe thead th {\n",
              "        text-align: right;\n",
              "    }\n",
              "</style>\n",
              "<table border=\"1\" class=\"dataframe\">\n",
              "  <thead>\n",
              "    <tr style=\"text-align: right;\">\n",
              "      <th></th>\n",
              "      <th>listing_id</th>\n",
              "      <th>host_id</th>\n",
              "      <th>number_of_reviews</th>\n",
              "      <th>reviews_per_month</th>\n",
              "      <th>availability_365</th>\n",
              "      <th>rating</th>\n",
              "      <th>number_of_stays</th>\n",
              "      <th>5_stars</th>\n",
              "    </tr>\n",
              "  </thead>\n",
              "  <tbody>\n",
              "    <tr>\n",
              "      <th>count</th>\n",
              "      <td>1.001900e+04</td>\n",
              "      <td>1.001900e+04</td>\n",
              "      <td>10019.000000</td>\n",
              "      <td>7944.000000</td>\n",
              "      <td>10019.000000</td>\n",
              "      <td>7944.000000</td>\n",
              "      <td>7944.000000</td>\n",
              "      <td>7944.000000</td>\n",
              "    </tr>\n",
              "    <tr>\n",
              "      <th>mean</th>\n",
              "      <td>1.927634e+07</td>\n",
              "      <td>6.795923e+07</td>\n",
              "      <td>22.459727</td>\n",
              "      <td>1.353894</td>\n",
              "      <td>112.284260</td>\n",
              "      <td>4.014458</td>\n",
              "      <td>33.991541</td>\n",
              "      <td>0.718599</td>\n",
              "    </tr>\n",
              "    <tr>\n",
              "      <th>std</th>\n",
              "      <td>1.095056e+07</td>\n",
              "      <td>7.863106e+07</td>\n",
              "      <td>43.173896</td>\n",
              "      <td>1.615380</td>\n",
              "      <td>131.636043</td>\n",
              "      <td>0.575064</td>\n",
              "      <td>56.089279</td>\n",
              "      <td>0.079978</td>\n",
              "    </tr>\n",
              "    <tr>\n",
              "      <th>min</th>\n",
              "      <td>3.831000e+03</td>\n",
              "      <td>2.787000e+03</td>\n",
              "      <td>0.000000</td>\n",
              "      <td>0.010000</td>\n",
              "      <td>0.000000</td>\n",
              "      <td>3.000633</td>\n",
              "      <td>1.200000</td>\n",
              "      <td>0.600026</td>\n",
              "    </tr>\n",
              "    <tr>\n",
              "      <th>25%</th>\n",
              "      <td>9.674772e+06</td>\n",
              "      <td>7.910880e+06</td>\n",
              "      <td>1.000000</td>\n",
              "      <td>0.200000</td>\n",
              "      <td>0.000000</td>\n",
              "      <td>3.520443</td>\n",
              "      <td>3.600000</td>\n",
              "      <td>0.655576</td>\n",
              "    </tr>\n",
              "    <tr>\n",
              "      <th>50%</th>\n",
              "      <td>2.007030e+07</td>\n",
              "      <td>3.165167e+07</td>\n",
              "      <td>5.000000</td>\n",
              "      <td>0.710000</td>\n",
              "      <td>44.000000</td>\n",
              "      <td>4.027965</td>\n",
              "      <td>10.800000</td>\n",
              "      <td>0.709768</td>\n",
              "    </tr>\n",
              "    <tr>\n",
              "      <th>75%</th>\n",
              "      <td>2.933864e+07</td>\n",
              "      <td>1.074344e+08</td>\n",
              "      <td>22.000000</td>\n",
              "      <td>2.000000</td>\n",
              "      <td>226.000000</td>\n",
              "      <td>4.516378</td>\n",
              "      <td>38.400000</td>\n",
              "      <td>0.763978</td>\n",
              "    </tr>\n",
              "    <tr>\n",
              "      <th>max</th>\n",
              "      <td>3.648724e+07</td>\n",
              "      <td>2.741034e+08</td>\n",
              "      <td>510.000000</td>\n",
              "      <td>16.220000</td>\n",
              "      <td>365.000000</td>\n",
              "      <td>5.181114</td>\n",
              "      <td>612.000000</td>\n",
              "      <td>0.950339</td>\n",
              "    </tr>\n",
              "  </tbody>\n",
              "</table>\n",
              "</div>"
            ],
            "text/plain": [
              "         listing_id       host_id  ...  number_of_stays      5_stars\n",
              "count  1.001900e+04  1.001900e+04  ...      7944.000000  7944.000000\n",
              "mean   1.927634e+07  6.795923e+07  ...        33.991541     0.718599\n",
              "std    1.095056e+07  7.863106e+07  ...        56.089279     0.079978\n",
              "min    3.831000e+03  2.787000e+03  ...         1.200000     0.600026\n",
              "25%    9.674772e+06  7.910880e+06  ...         3.600000     0.655576\n",
              "50%    2.007030e+07  3.165167e+07  ...        10.800000     0.709768\n",
              "75%    2.933864e+07  1.074344e+08  ...        38.400000     0.763978\n",
              "max    3.648724e+07  2.741034e+08  ...       612.000000     0.950339\n",
              "\n",
              "[8 rows x 8 columns]"
            ]
          },
          "metadata": {
            "tags": []
          },
          "execution_count": 7
        }
      ]
    },
    {
      "cell_type": "code",
      "metadata": {
        "id": "VVJat5xZjJLX",
        "colab_type": "code",
        "outputId": "e10601d6-b253-47a3-9102-b452174f1ec1",
        "colab": {
          "base_uri": "https://localhost:8080/",
          "height": 295
        }
      },
      "source": [
        "# Visualize the distribution of the rating column\n",
        "\n",
        "sns.distplot(airbnb['rating'], bins = 10)\n",
        "#sns.distplot(airbnb['rating'], bins = 20)\n",
        "\n",
        "plt.title(\"Distribution of Listing Ratings\")\n",
        "plt.show()"
      ],
      "execution_count": 0,
      "outputs": [
        {
          "output_type": "display_data",
          "data": {
            "image/png": "[encoded data removed]",
            "text/plain": [
              "<Figure size 432x288 with 1 Axes>"
            ]
          },
          "metadata": {
            "tags": []
          }
        }
      ]
    },
    {
      "cell_type": "code",
      "metadata": {
        "id": "mvJGrqxRjihF",
        "colab_type": "code",
        "outputId": "b52b0c46-5d38-4ae3-ea23-50391883e0f9",
        "colab": {
          "base_uri": "https://localhost:8080/",
          "height": 50
        }
      },
      "source": [
        "# Find number of unique values in room_type column\n",
        "airbnb['room_type'].unique()"
      ],
      "execution_count": 0,
      "outputs": [
        {
          "output_type": "execute_result",
          "data": {
            "text/plain": [
              "array(['Private room', 'Entire home/apt', 'Private', 'Shared room',\n",
              "       'PRIVATE ROOM', 'home', '   Shared room      '], dtype=object)"
            ]
          },
          "metadata": {
            "tags": []
          },
          "execution_count": 9
        }
      ]
    },
    {
      "cell_type": "code",
      "metadata": {
        "id": "tZ0SBerlm2hS",
        "colab_type": "code",
        "outputId": "43c8c268-6e81-46d2-ba1b-304ba932ce46",
        "colab": {
          "base_uri": "https://localhost:8080/",
          "height": 149
        }
      },
      "source": [
        "# How many values of different room_types do we have?\n",
        "airbnb['room_type'].value_counts()\n",
        "#takes in series objects, not dataframe"
      ],
      "execution_count": 0,
      "outputs": [
        {
          "output_type": "execute_result",
          "data": {
            "text/plain": [
              "Entire home/apt         5120\n",
              "Private room            4487\n",
              "Shared room              155\n",
              "Private                   89\n",
              "   Shared room            71\n",
              "home                      66\n",
              "PRIVATE ROOM              31\n",
              "Name: room_type, dtype: int64"
            ]
          },
          "metadata": {
            "tags": []
          },
          "execution_count": 10
        }
      ]
    },
    {
      "cell_type": "markdown",
      "metadata": {
        "id": "WqwmfLp9lKjU",
        "colab_type": "text"
      },
      "source": [
        "## **Our to do list:**\n",
        "\n",
        "_Data type problems:_\n",
        "\n",
        "- **Task 1**: Split `coordinates` into 2 columns and convert them to `float`\n",
        "- **Task 2**: Remove `$` from `price` and convert it to `float`\n",
        "- **Task 3**: Convert `listing_added` and `last_review` to `datetime`\n",
        "\n",
        "<br>\n",
        "\n",
        "_Text/categorical data problems:_\n",
        "\n",
        "- **Task 4**: We need to collapse `room_type` into correct categories\n",
        "- **Task 5**: Divide `neighbourhood_full` into 2 columns and making sure they are clean\n",
        "\n",
        "<br>\n",
        "\n",
        "_Data range problems:_\n",
        "\n",
        "- **Task 6**: Make sure we set the correct maximum for `rating` column out of range values\n",
        "\n",
        "<br>\n",
        "\n",
        "_Dealing with missing data:_\n",
        "\n",
        "- **Task 7**: Understand the type of missingness, and deal with the missing data in most of the remaining columns. \n",
        "\n",
        "<br>\n",
        "\n",
        "_Is that all though?_\n",
        "\n",
        "- We need to investigate if we duplicates in our data\n",
        "- We need to make sure that data makes sense by applying some sanity checks on our DataFrame "
      ]
    },
    {
      "cell_type": "markdown",
      "metadata": {
        "id": "XxjReNRA09ef",
        "colab_type": "text"
      },
      "source": [
        "## **Q&A**"
      ]
    },
    {
      "cell_type": "markdown",
      "metadata": {
        "id": "8jp5m7QmnCsM",
        "colab_type": "text"
      },
      "source": [
        "## **Cleaning data** "
      ]
    },
    {
      "cell_type": "markdown",
      "metadata": {
        "id": "7rrd0kYCnIYE",
        "colab_type": "text"
      },
      "source": [
        "### Data type problems"
      ]
    },
    {
      "cell_type": "code",
      "metadata": {
        "id": "NawK3x5Tk7HF",
        "colab_type": "code",
        "outputId": "939ae0e2-484f-44c8-fc29-72a0a1723c8c",
        "colab": {
          "base_uri": "https://localhost:8080/",
          "height": 469
        }
      },
      "source": [
        "# Reminder of the DataFrame\n",
        "airbnb.head()"
      ],
      "execution_count": 0,
      "outputs": [
        {
          "output_type": "execute_result",
          "data": {
            "text/html": [
              "<div>\n",
              "<style scoped>\n",
              "    .dataframe tbody tr th:only-of-type {\n",
              "        vertical-align: middle;\n",
              "    }\n",
              "\n",
              "    .dataframe tbody tr th {\n",
              "        vertical-align: top;\n",
              "    }\n",
              "\n",
              "    .dataframe thead th {\n",
              "        text-align: right;\n",
              "    }\n",
              "</style>\n",
              "<table border=\"1\" class=\"dataframe\">\n",
              "  <thead>\n",
              "    <tr style=\"text-align: right;\">\n",
              "      <th></th>\n",
              "      <th>listing_id</th>\n",
              "      <th>name</th>\n",
              "      <th>host_id</th>\n",
              "      <th>host_name</th>\n",
              "      <th>neighbourhood_full</th>\n",
              "      <th>coordinates</th>\n",
              "      <th>room_type</th>\n",
              "      <th>price</th>\n",
              "      <th>number_of_reviews</th>\n",
              "      <th>last_review</th>\n",
              "      <th>reviews_per_month</th>\n",
              "      <th>availability_365</th>\n",
              "      <th>rating</th>\n",
              "      <th>number_of_stays</th>\n",
              "      <th>5_stars</th>\n",
              "      <th>listing_added</th>\n",
              "    </tr>\n",
              "  </thead>\n",
              "  <tbody>\n",
              "    <tr>\n",
              "      <th>0</th>\n",
              "      <td>13740704</td>\n",
              "      <td>Cozy,budget friendly, cable inc, private entra...</td>\n",
              "      <td>20583125</td>\n",
              "      <td>Michel</td>\n",
              "      <td>Brooklyn, Flatlands</td>\n",
              "      <td>(40.63222, -73.93398)</td>\n",
              "      <td>Private room</td>\n",
              "      <td>45$</td>\n",
              "      <td>10</td>\n",
              "      <td>2018-12-12</td>\n",
              "      <td>0.70</td>\n",
              "      <td>85</td>\n",
              "      <td>4.100954</td>\n",
              "      <td>12.0</td>\n",
              "      <td>0.609432</td>\n",
              "      <td>2018-06-08</td>\n",
              "    </tr>\n",
              "    <tr>\n",
              "      <th>1</th>\n",
              "      <td>22005115</td>\n",
              "      <td>Two floor apartment near Central Park</td>\n",
              "      <td>82746113</td>\n",
              "      <td>Cecilia</td>\n",
              "      <td>Manhattan, Upper West Side</td>\n",
              "      <td>(40.78761, -73.96862)</td>\n",
              "      <td>Entire home/apt</td>\n",
              "      <td>135$</td>\n",
              "      <td>1</td>\n",
              "      <td>2019-06-30</td>\n",
              "      <td>1.00</td>\n",
              "      <td>145</td>\n",
              "      <td>3.367600</td>\n",
              "      <td>1.2</td>\n",
              "      <td>0.746135</td>\n",
              "      <td>2018-12-25</td>\n",
              "    </tr>\n",
              "    <tr>\n",
              "      <th>2</th>\n",
              "      <td>21667615</td>\n",
              "      <td>Beautiful 1BR in Brooklyn Heights</td>\n",
              "      <td>78251</td>\n",
              "      <td>Leslie</td>\n",
              "      <td>Brooklyn, Brooklyn Heights</td>\n",
              "      <td>(40.7007, -73.99517)</td>\n",
              "      <td>Entire home/apt</td>\n",
              "      <td>150$</td>\n",
              "      <td>0</td>\n",
              "      <td>NaN</td>\n",
              "      <td>NaN</td>\n",
              "      <td>65</td>\n",
              "      <td>NaN</td>\n",
              "      <td>NaN</td>\n",
              "      <td>NaN</td>\n",
              "      <td>2018-08-15</td>\n",
              "    </tr>\n",
              "    <tr>\n",
              "      <th>3</th>\n",
              "      <td>6425850</td>\n",
              "      <td>Spacious, charming studio</td>\n",
              "      <td>32715865</td>\n",
              "      <td>Yelena</td>\n",
              "      <td>Manhattan, Upper West Side</td>\n",
              "      <td>(40.79169, -73.97498)</td>\n",
              "      <td>Entire home/apt</td>\n",
              "      <td>86$</td>\n",
              "      <td>5</td>\n",
              "      <td>2017-09-23</td>\n",
              "      <td>0.13</td>\n",
              "      <td>0</td>\n",
              "      <td>4.763203</td>\n",
              "      <td>6.0</td>\n",
              "      <td>0.769947</td>\n",
              "      <td>2017-03-20</td>\n",
              "    </tr>\n",
              "    <tr>\n",
              "      <th>4</th>\n",
              "      <td>22986519</td>\n",
              "      <td>Bedroom on the lively Lower East Side</td>\n",
              "      <td>154262349</td>\n",
              "      <td>Brooke</td>\n",
              "      <td>Manhattan, Lower East Side</td>\n",
              "      <td>(40.71884, -73.98354)</td>\n",
              "      <td>Private room</td>\n",
              "      <td>160$</td>\n",
              "      <td>23</td>\n",
              "      <td>2019-06-12</td>\n",
              "      <td>2.29</td>\n",
              "      <td>102</td>\n",
              "      <td>3.822591</td>\n",
              "      <td>27.6</td>\n",
              "      <td>0.649383</td>\n",
              "      <td>2020-10-23</td>\n",
              "    </tr>\n",
              "  </tbody>\n",
              "</table>\n",
              "</div>"
            ],
            "text/plain": [
              "   listing_id  ... listing_added\n",
              "0    13740704  ...    2018-06-08\n",
              "1    22005115  ...    2018-12-25\n",
              "2    21667615  ...    2018-08-15\n",
              "3     6425850  ...    2017-03-20\n",
              "4    22986519  ...    2020-10-23\n",
              "\n",
              "[5 rows x 16 columns]"
            ]
          },
          "metadata": {
            "tags": []
          },
          "execution_count": 11
        }
      ]
    },
    {
      "cell_type": "markdown",
      "metadata": {
        "id": "3Ev1mCwXniDv",
        "colab_type": "text"
      },
      "source": [
        "##### **Task 1:** Replace `coordinates` with `latitude` and `longitude` columns"
      ]
    },
    {
      "cell_type": "markdown",
      "metadata": {
        "id": "ijAlYOgglvzt",
        "colab_type": "text"
      },
      "source": [
        "To perform this task, we will use the following methods:\n",
        "\n",
        "- `.str.replace(\"\",\"\")` replaces one string in each row of a column with another\n",
        "- `.str.split(\"\")` takes in a string and lets you split a column into two based on that string\n",
        "- `.astype()` lets you convert a column from one type to another"
      ]
    },
    {
      "cell_type": "code",
      "metadata": {
        "id": "UpIxvD_onOgt",
        "colab_type": "code",
        "outputId": "3ef96c85-f75e-4a51-beee-d14c14343392",
        "colab": {
          "base_uri": "https://localhost:8080/",
          "height": 116
        }
      },
      "source": [
        "# Remove \"(\" and \")\" from coordinates\n",
        "airbnb['coordinates'] = airbnb['coordinates'].str.replace(\"(\",\"\")\n",
        "airbnb['coordinates'] = airbnb['coordinates'].str.replace(\")\",\"\")\n",
        "\n",
        "# Print the header of the column\n",
        "airbnb['coordinates'].head()"
      ],
      "execution_count": 0,
      "outputs": [
        {
          "output_type": "execute_result",
          "data": {
            "text/plain": [
              "0    40.63222, -73.93398\n",
              "1    40.78761, -73.96862\n",
              "2     40.7007, -73.99517\n",
              "3    40.79169, -73.97498\n",
              "4    40.71884, -73.98354\n",
              "Name: coordinates, dtype: object"
            ]
          },
          "metadata": {
            "tags": []
          },
          "execution_count": 12
        }
      ]
    },
    {
      "cell_type": "code",
      "metadata": {
        "id": "nvEKmdRun2Md",
        "colab_type": "code",
        "outputId": "dfd7d5a6-0d98-47f1-d879-029af7440b94",
        "colab": {
          "base_uri": "https://localhost:8080/",
          "height": 201
        }
      },
      "source": [
        "# Split column into two\n",
        "lat_long = airbnb[\"coordinates\"].str.split(\",\", expand = True)\n",
        "lat_long.head()"
      ],
      "execution_count": 0,
      "outputs": [
        {
          "output_type": "execute_result",
          "data": {
            "text/html": [
              "<div>\n",
              "<style scoped>\n",
              "    .dataframe tbody tr th:only-of-type {\n",
              "        vertical-align: middle;\n",
              "    }\n",
              "\n",
              "    .dataframe tbody tr th {\n",
              "        vertical-align: top;\n",
              "    }\n",
              "\n",
              "    .dataframe thead th {\n",
              "        text-align: right;\n",
              "    }\n",
              "</style>\n",
              "<table border=\"1\" class=\"dataframe\">\n",
              "  <thead>\n",
              "    <tr style=\"text-align: right;\">\n",
              "      <th></th>\n",
              "      <th>0</th>\n",
              "      <th>1</th>\n",
              "    </tr>\n",
              "  </thead>\n",
              "  <tbody>\n",
              "    <tr>\n",
              "      <th>0</th>\n",
              "      <td>40.63222</td>\n",
              "      <td>-73.93398</td>\n",
              "    </tr>\n",
              "    <tr>\n",
              "      <th>1</th>\n",
              "      <td>40.78761</td>\n",
              "      <td>-73.96862</td>\n",
              "    </tr>\n",
              "    <tr>\n",
              "      <th>2</th>\n",
              "      <td>40.7007</td>\n",
              "      <td>-73.99517</td>\n",
              "    </tr>\n",
              "    <tr>\n",
              "      <th>3</th>\n",
              "      <td>40.79169</td>\n",
              "      <td>-73.97498</td>\n",
              "    </tr>\n",
              "    <tr>\n",
              "      <th>4</th>\n",
              "      <td>40.71884</td>\n",
              "      <td>-73.98354</td>\n",
              "    </tr>\n",
              "  </tbody>\n",
              "</table>\n",
              "</div>"
            ],
            "text/plain": [
              "          0           1\n",
              "0  40.63222   -73.93398\n",
              "1  40.78761   -73.96862\n",
              "2   40.7007   -73.99517\n",
              "3  40.79169   -73.97498\n",
              "4  40.71884   -73.98354"
            ]
          },
          "metadata": {
            "tags": []
          },
          "execution_count": 14
        }
      ]
    },
    {
      "cell_type": "code",
      "metadata": {
        "id": "LezCKPzfn4yf",
        "colab_type": "code",
        "outputId": "2f70ff3d-7913-4d63-dfd5-15683d67a966",
        "colab": {
          "base_uri": "https://localhost:8080/",
          "height": 469
        }
      },
      "source": [
        "# Assign correct columns to latitude and longitude columns in airbnb\n",
        "airbnb['latitude'] = lat_long[0]\n",
        "airbnb['longitude'] = lat_long[1]\n",
        "\n",
        "# Print the header and confirm new column creation\n",
        "airbnb.head()"
      ],
      "execution_count": 0,
      "outputs": [
        {
          "output_type": "execute_result",
          "data": {
            "text/html": [
              "<div>\n",
              "<style scoped>\n",
              "    .dataframe tbody tr th:only-of-type {\n",
              "        vertical-align: middle;\n",
              "    }\n",
              "\n",
              "    .dataframe tbody tr th {\n",
              "        vertical-align: top;\n",
              "    }\n",
              "\n",
              "    .dataframe thead th {\n",
              "        text-align: right;\n",
              "    }\n",
              "</style>\n",
              "<table border=\"1\" class=\"dataframe\">\n",
              "  <thead>\n",
              "    <tr style=\"text-align: right;\">\n",
              "      <th></th>\n",
              "      <th>listing_id</th>\n",
              "      <th>name</th>\n",
              "      <th>host_id</th>\n",
              "      <th>host_name</th>\n",
              "      <th>neighbourhood_full</th>\n",
              "      <th>coordinates</th>\n",
              "      <th>room_type</th>\n",
              "      <th>price</th>\n",
              "      <th>number_of_reviews</th>\n",
              "      <th>last_review</th>\n",
              "      <th>reviews_per_month</th>\n",
              "      <th>availability_365</th>\n",
              "      <th>rating</th>\n",
              "      <th>number_of_stays</th>\n",
              "      <th>5_stars</th>\n",
              "      <th>listing_added</th>\n",
              "      <th>latitude</th>\n",
              "      <th>longitude</th>\n",
              "    </tr>\n",
              "  </thead>\n",
              "  <tbody>\n",
              "    <tr>\n",
              "      <th>0</th>\n",
              "      <td>13740704</td>\n",
              "      <td>Cozy,budget friendly, cable inc, private entra...</td>\n",
              "      <td>20583125</td>\n",
              "      <td>Michel</td>\n",
              "      <td>Brooklyn, Flatlands</td>\n",
              "      <td>40.63222, -73.93398</td>\n",
              "      <td>Private room</td>\n",
              "      <td>45$</td>\n",
              "      <td>10</td>\n",
              "      <td>2018-12-12</td>\n",
              "      <td>0.70</td>\n",
              "      <td>85</td>\n",
              "      <td>4.100954</td>\n",
              "      <td>12.0</td>\n",
              "      <td>0.609432</td>\n",
              "      <td>2018-06-08</td>\n",
              "      <td>40.63222</td>\n",
              "      <td>-73.93398</td>\n",
              "    </tr>\n",
              "    <tr>\n",
              "      <th>1</th>\n",
              "      <td>22005115</td>\n",
              "      <td>Two floor apartment near Central Park</td>\n",
              "      <td>82746113</td>\n",
              "      <td>Cecilia</td>\n",
              "      <td>Manhattan, Upper West Side</td>\n",
              "      <td>40.78761, -73.96862</td>\n",
              "      <td>Entire home/apt</td>\n",
              "      <td>135$</td>\n",
              "      <td>1</td>\n",
              "      <td>2019-06-30</td>\n",
              "      <td>1.00</td>\n",
              "      <td>145</td>\n",
              "      <td>3.367600</td>\n",
              "      <td>1.2</td>\n",
              "      <td>0.746135</td>\n",
              "      <td>2018-12-25</td>\n",
              "      <td>40.78761</td>\n",
              "      <td>-73.96862</td>\n",
              "    </tr>\n",
              "    <tr>\n",
              "      <th>2</th>\n",
              "      <td>21667615</td>\n",
              "      <td>Beautiful 1BR in Brooklyn Heights</td>\n",
              "      <td>78251</td>\n",
              "      <td>Leslie</td>\n",
              "      <td>Brooklyn, Brooklyn Heights</td>\n",
              "      <td>40.7007, -73.99517</td>\n",
              "      <td>Entire home/apt</td>\n",
              "      <td>150$</td>\n",
              "      <td>0</td>\n",
              "      <td>NaN</td>\n",
              "      <td>NaN</td>\n",
              "      <td>65</td>\n",
              "      <td>NaN</td>\n",
              "      <td>NaN</td>\n",
              "      <td>NaN</td>\n",
              "      <td>2018-08-15</td>\n",
              "      <td>40.7007</td>\n",
              "      <td>-73.99517</td>\n",
              "    </tr>\n",
              "    <tr>\n",
              "      <th>3</th>\n",
              "      <td>6425850</td>\n",
              "      <td>Spacious, charming studio</td>\n",
              "      <td>32715865</td>\n",
              "      <td>Yelena</td>\n",
              "      <td>Manhattan, Upper West Side</td>\n",
              "      <td>40.79169, -73.97498</td>\n",
              "      <td>Entire home/apt</td>\n",
              "      <td>86$</td>\n",
              "      <td>5</td>\n",
              "      <td>2017-09-23</td>\n",
              "      <td>0.13</td>\n",
              "      <td>0</td>\n",
              "      <td>4.763203</td>\n",
              "      <td>6.0</td>\n",
              "      <td>0.769947</td>\n",
              "      <td>2017-03-20</td>\n",
              "      <td>40.79169</td>\n",
              "      <td>-73.97498</td>\n",
              "    </tr>\n",
              "    <tr>\n",
              "      <th>4</th>\n",
              "      <td>22986519</td>\n",
              "      <td>Bedroom on the lively Lower East Side</td>\n",
              "      <td>154262349</td>\n",
              "      <td>Brooke</td>\n",
              "      <td>Manhattan, Lower East Side</td>\n",
              "      <td>40.71884, -73.98354</td>\n",
              "      <td>Private room</td>\n",
              "      <td>160$</td>\n",
              "      <td>23</td>\n",
              "      <td>2019-06-12</td>\n",
              "      <td>2.29</td>\n",
              "      <td>102</td>\n",
              "      <td>3.822591</td>\n",
              "      <td>27.6</td>\n",
              "      <td>0.649383</td>\n",
              "      <td>2020-10-23</td>\n",
              "      <td>40.71884</td>\n",
              "      <td>-73.98354</td>\n",
              "    </tr>\n",
              "  </tbody>\n",
              "</table>\n",
              "</div>"
            ],
            "text/plain": [
              "   listing_id  ...   longitude\n",
              "0    13740704  ...   -73.93398\n",
              "1    22005115  ...   -73.96862\n",
              "2    21667615  ...   -73.99517\n",
              "3     6425850  ...   -73.97498\n",
              "4    22986519  ...   -73.98354\n",
              "\n",
              "[5 rows x 18 columns]"
            ]
          },
          "metadata": {
            "tags": []
          },
          "execution_count": 15
        }
      ]
    },
    {
      "cell_type": "code",
      "metadata": {
        "id": "toTHDWjFosXs",
        "colab_type": "code",
        "outputId": "c54aaefc-d7ff-427f-e6ef-6aa2ca89b7d5",
        "colab": {
          "base_uri": "https://localhost:8080/",
          "height": 332
        }
      },
      "source": [
        "# Print out dtypes again\n",
        "airbnb.dtypes"
      ],
      "execution_count": 0,
      "outputs": [
        {
          "output_type": "execute_result",
          "data": {
            "text/plain": [
              "listing_id              int64\n",
              "name                   object\n",
              "host_id                 int64\n",
              "host_name              object\n",
              "neighbourhood_full     object\n",
              "coordinates            object\n",
              "room_type              object\n",
              "price                  object\n",
              "number_of_reviews       int64\n",
              "last_review            object\n",
              "reviews_per_month     float64\n",
              "availability_365        int64\n",
              "rating                float64\n",
              "number_of_stays       float64\n",
              "5_stars               float64\n",
              "listing_added          object\n",
              "latitude               object\n",
              "longitude              object\n",
              "dtype: object"
            ]
          },
          "metadata": {
            "tags": []
          },
          "execution_count": 16
        }
      ]
    },
    {
      "cell_type": "code",
      "metadata": {
        "id": "8zDpaIqDoeNl",
        "colab_type": "code",
        "outputId": "0f007302-4436-4e61-d0fe-3bd5793bdba1",
        "colab": {
          "base_uri": "https://localhost:8080/",
          "height": 332
        }
      },
      "source": [
        "# Convert latitude and longitude to float\n",
        "airbnb['latitude'] = airbnb['latitude'].astype('float')\n",
        "airbnb['longitude'] = airbnb['longitude'].astype('float')\n",
        "\n",
        "# Print dtypes again\n",
        "airbnb.dtypes"
      ],
      "execution_count": 0,
      "outputs": [
        {
          "output_type": "execute_result",
          "data": {
            "text/plain": [
              "listing_id              int64\n",
              "name                   object\n",
              "host_id                 int64\n",
              "host_name              object\n",
              "neighbourhood_full     object\n",
              "coordinates            object\n",
              "room_type              object\n",
              "price                  object\n",
              "number_of_reviews       int64\n",
              "last_review            object\n",
              "reviews_per_month     float64\n",
              "availability_365        int64\n",
              "rating                float64\n",
              "number_of_stays       float64\n",
              "5_stars               float64\n",
              "listing_added          object\n",
              "latitude              float64\n",
              "longitude             float64\n",
              "dtype: object"
            ]
          },
          "metadata": {
            "tags": []
          },
          "execution_count": 17
        }
      ]
    },
    {
      "cell_type": "code",
      "metadata": {
        "id": "aKZGhJQRo8mp",
        "colab_type": "code",
        "colab": {}
      },
      "source": [
        "# Drop coordinates column\n",
        "airbnb.drop('coordinates',axis=1, inplace = True)"
      ],
      "execution_count": 0,
      "outputs": []
    },
    {
      "cell_type": "markdown",
      "metadata": {
        "id": "bkgGPHpdpMEW",
        "colab_type": "text"
      },
      "source": [
        "##### **Task 2:** Remove `$` from `price` and convert it to `float`"
      ]
    },
    {
      "cell_type": "markdown",
      "metadata": {
        "id": "9jkKFojOmJy5",
        "colab_type": "text"
      },
      "source": [
        "To perform this task, we will be using the following methods:\n",
        "\n",
        "- `.str.strip()` which removes a specified string from each row in a column\n",
        "- `.astype()`"
      ]
    },
    {
      "cell_type": "code",
      "metadata": {
        "id": "Ya76gXP1qLtn",
        "colab_type": "code",
        "colab": {}
      },
      "source": [
        "# Calculate mean of price without conversion\n",
        "#airbnb['price'].mean()"
      ],
      "execution_count": 0,
      "outputs": []
    },
    {
      "cell_type": "code",
      "metadata": {
        "id": "gHIB5d-1pdIO",
        "colab_type": "code",
        "outputId": "5b23cade-4995-483b-aa6c-c40a74d55851",
        "colab": {
          "base_uri": "https://localhost:8080/",
          "height": 116
        }
      },
      "source": [
        "# Remove $ from price before conversion to float\n",
        "airbnb['price'] = airbnb['price'].str.strip(\"$\")\n",
        "# Print header to make sure change was done\n",
        "airbnb['price'].head()"
      ],
      "execution_count": 0,
      "outputs": [
        {
          "output_type": "execute_result",
          "data": {
            "text/plain": [
              "0     45\n",
              "1    135\n",
              "2    150\n",
              "3     86\n",
              "4    160\n",
              "Name: price, dtype: object"
            ]
          },
          "metadata": {
            "tags": []
          },
          "execution_count": 21
        }
      ]
    },
    {
      "cell_type": "code",
      "metadata": {
        "id": "Gz4Q2xoGp4AJ",
        "colab_type": "code",
        "outputId": "59a11cf5-cd8b-4b97-d063-6bd30c0cc715",
        "colab": {
          "base_uri": "https://localhost:8080/",
          "height": 33
        }
      },
      "source": [
        "# Convert price to float\n",
        "airbnb['price'] = airbnb['price'].astype('float')\n",
        "# Calculate mean of price after conversion\n",
        "airbnb['price'].mean()"
      ],
      "execution_count": 0,
      "outputs": [
        {
          "output_type": "execute_result",
          "data": {
            "text/plain": [
              "150.90512217564665"
            ]
          },
          "metadata": {
            "tags": []
          },
          "execution_count": 22
        }
      ]
    },
    {
      "cell_type": "code",
      "metadata": {
        "id": "mSLxGradqVix",
        "colab_type": "code",
        "outputId": "341f0dc7-8e14-4b9e-fe9a-4dd486f0633d",
        "colab": {
          "base_uri": "https://localhost:8080/",
          "height": 279
        }
      },
      "source": [
        "# Visualize distribution of prices\n",
        "sns.distplot(airbnb['price'], bins = 20)\n",
        "plt.show()"
      ],
      "execution_count": 0,
      "outputs": [
        {
          "output_type": "display_data",
          "data": {
            "image/png": "[encoded data removed]",
            "text/plain": [
              "<Figure size 432x288 with 1 Axes>"
            ]
          },
          "metadata": {
            "tags": []
          }
        }
      ]
    },
    {
      "cell_type": "markdown",
      "metadata": {
        "id": "HZKW5mWvqg2Z",
        "colab_type": "text"
      },
      "source": [
        "##### **Task 3:** Convert `listing_added` and `last_review` columns to `datetime`"
      ]
    },
    {
      "cell_type": "markdown",
      "metadata": {
        "id": "9ijLZ4zwmWNS",
        "colab_type": "text"
      },
      "source": [
        "To perform this task, we will use the following functions:\n",
        "\n",
        "- `pd.to_datetime(format = \"\")`\n",
        "  - `format` takes in the desired date format `\"%Y-%m-%d\"`"
      ]
    },
    {
      "cell_type": "code",
      "metadata": {
        "id": "cggG5Bucqc6T",
        "colab_type": "code",
        "outputId": "4525a8d2-2511-475b-8372-8958699c92e3",
        "colab": {
          "base_uri": "https://localhost:8080/",
          "height": 201
        }
      },
      "source": [
        "# Print header of two columns\n",
        "airbnb[['listing_added','last_review']].head()"
      ],
      "execution_count": 0,
      "outputs": [
        {
          "output_type": "execute_result",
          "data": {
            "text/html": [
              "<div>\n",
              "<style scoped>\n",
              "    .dataframe tbody tr th:only-of-type {\n",
              "        vertical-align: middle;\n",
              "    }\n",
              "\n",
              "    .dataframe tbody tr th {\n",
              "        vertical-align: top;\n",
              "    }\n",
              "\n",
              "    .dataframe thead th {\n",
              "        text-align: right;\n",
              "    }\n",
              "</style>\n",
              "<table border=\"1\" class=\"dataframe\">\n",
              "  <thead>\n",
              "    <tr style=\"text-align: right;\">\n",
              "      <th></th>\n",
              "      <th>listing_added</th>\n",
              "      <th>last_review</th>\n",
              "    </tr>\n",
              "  </thead>\n",
              "  <tbody>\n",
              "    <tr>\n",
              "      <th>0</th>\n",
              "      <td>2018-06-08</td>\n",
              "      <td>2018-12-12</td>\n",
              "    </tr>\n",
              "    <tr>\n",
              "      <th>1</th>\n",
              "      <td>2018-12-25</td>\n",
              "      <td>2019-06-30</td>\n",
              "    </tr>\n",
              "    <tr>\n",
              "      <th>2</th>\n",
              "      <td>2018-08-15</td>\n",
              "      <td>NaN</td>\n",
              "    </tr>\n",
              "    <tr>\n",
              "      <th>3</th>\n",
              "      <td>2017-03-20</td>\n",
              "      <td>2017-09-23</td>\n",
              "    </tr>\n",
              "    <tr>\n",
              "      <th>4</th>\n",
              "      <td>2020-10-23</td>\n",
              "      <td>2019-06-12</td>\n",
              "    </tr>\n",
              "  </tbody>\n",
              "</table>\n",
              "</div>"
            ],
            "text/plain": [
              "  listing_added last_review\n",
              "0    2018-06-08  2018-12-12\n",
              "1    2018-12-25  2019-06-30\n",
              "2    2018-08-15         NaN\n",
              "3    2017-03-20  2017-09-23\n",
              "4    2020-10-23  2019-06-12"
            ]
          },
          "metadata": {
            "tags": []
          },
          "execution_count": 24
        }
      ]
    },
    {
      "cell_type": "code",
      "metadata": {
        "id": "9lVyr6-Gs19z",
        "colab_type": "code",
        "colab": {}
      },
      "source": [
        "# Convert both columns to datetime\n",
        "airbnb['listing_added'] = pd.to_datetime(airbnb['listing_added'], format = '%Y-%m-%d')\n",
        "airbnb['last_review'] = pd.to_datetime(airbnb['last_review'], format = '%Y-%m-%d')"
      ],
      "execution_count": 0,
      "outputs": []
    },
    {
      "cell_type": "code",
      "metadata": {
        "id": "jlVDTYUvtG1f",
        "colab_type": "code",
        "outputId": "ec231280-5221-4927-880f-ebb17b80d2a0",
        "colab": {
          "base_uri": "https://localhost:8080/",
          "height": 201
        }
      },
      "source": [
        "# Print header and datatypes of both columns again\n",
        "airbnb[['listing_added','last_review']].head()\n"
      ],
      "execution_count": 0,
      "outputs": [
        {
          "output_type": "execute_result",
          "data": {
            "text/html": [
              "<div>\n",
              "<style scoped>\n",
              "    .dataframe tbody tr th:only-of-type {\n",
              "        vertical-align: middle;\n",
              "    }\n",
              "\n",
              "    .dataframe tbody tr th {\n",
              "        vertical-align: top;\n",
              "    }\n",
              "\n",
              "    .dataframe thead th {\n",
              "        text-align: right;\n",
              "    }\n",
              "</style>\n",
              "<table border=\"1\" class=\"dataframe\">\n",
              "  <thead>\n",
              "    <tr style=\"text-align: right;\">\n",
              "      <th></th>\n",
              "      <th>listing_added</th>\n",
              "      <th>last_review</th>\n",
              "    </tr>\n",
              "  </thead>\n",
              "  <tbody>\n",
              "    <tr>\n",
              "      <th>0</th>\n",
              "      <td>2018-06-08</td>\n",
              "      <td>2018-12-12</td>\n",
              "    </tr>\n",
              "    <tr>\n",
              "      <th>1</th>\n",
              "      <td>2018-12-25</td>\n",
              "      <td>2019-06-30</td>\n",
              "    </tr>\n",
              "    <tr>\n",
              "      <th>2</th>\n",
              "      <td>2018-08-15</td>\n",
              "      <td>NaT</td>\n",
              "    </tr>\n",
              "    <tr>\n",
              "      <th>3</th>\n",
              "      <td>2017-03-20</td>\n",
              "      <td>2017-09-23</td>\n",
              "    </tr>\n",
              "    <tr>\n",
              "      <th>4</th>\n",
              "      <td>2020-10-23</td>\n",
              "      <td>2019-06-12</td>\n",
              "    </tr>\n",
              "  </tbody>\n",
              "</table>\n",
              "</div>"
            ],
            "text/plain": [
              "  listing_added last_review\n",
              "0    2018-06-08  2018-12-12\n",
              "1    2018-12-25  2019-06-30\n",
              "2    2018-08-15         NaT\n",
              "3    2017-03-20  2017-09-23\n",
              "4    2020-10-23  2019-06-12"
            ]
          },
          "metadata": {
            "tags": []
          },
          "execution_count": 26
        }
      ]
    },
    {
      "cell_type": "code",
      "metadata": {
        "id": "0buvAbeLjzYW",
        "colab_type": "code",
        "outputId": "1365438e-e815-494d-e40d-b5fbc0813a4d",
        "colab": {
          "base_uri": "https://localhost:8080/",
          "height": 315
        }
      },
      "source": [
        "#print datatypes\n",
        "airbnb.dtypes"
      ],
      "execution_count": 0,
      "outputs": [
        {
          "output_type": "execute_result",
          "data": {
            "text/plain": [
              "listing_id                     int64\n",
              "name                          object\n",
              "host_id                        int64\n",
              "host_name                     object\n",
              "neighbourhood_full            object\n",
              "room_type                     object\n",
              "price                        float64\n",
              "number_of_reviews              int64\n",
              "last_review           datetime64[ns]\n",
              "reviews_per_month            float64\n",
              "availability_365               int64\n",
              "rating                       float64\n",
              "number_of_stays              float64\n",
              "5_stars                      float64\n",
              "listing_added         datetime64[ns]\n",
              "latitude                     float64\n",
              "longitude                    float64\n",
              "dtype: object"
            ]
          },
          "metadata": {
            "tags": []
          },
          "execution_count": 27
        }
      ]
    },
    {
      "cell_type": "markdown",
      "metadata": {
        "id": "SvMs1y6gucs6",
        "colab_type": "text"
      },
      "source": [
        "### Text and categorical data problems"
      ]
    },
    {
      "cell_type": "markdown",
      "metadata": {
        "id": "Z19JboeNukIS",
        "colab_type": "text"
      },
      "source": [
        "##### **Task 4:** We need to collapse `room_type` into correct categories"
      ]
    },
    {
      "cell_type": "markdown",
      "metadata": {
        "id": "85lW-8k_msaY",
        "colab_type": "text"
      },
      "source": [
        "To perform this task, we will be using the following methods:\n",
        "\n",
        "- `.str.lower()` to lowercase all rows in a string column\n",
        "- `.str.strip()` to remove all white spaces of each row in a string column\n",
        "- `.replace()` to replace values in a column with another"
      ]
    },
    {
      "cell_type": "code",
      "metadata": {
        "id": "hPJHPWB4tOlP",
        "colab_type": "code",
        "outputId": "847d77f7-2e53-43e8-d1e7-b1077e153025",
        "colab": {
          "base_uri": "https://localhost:8080/",
          "height": 50
        }
      },
      "source": [
        "# Print unique values of `room_type`\n",
        "airbnb['room_type'].unique()"
      ],
      "execution_count": 0,
      "outputs": [
        {
          "output_type": "execute_result",
          "data": {
            "text/plain": [
              "array(['Private room', 'Entire home/apt', 'Private', 'Shared room',\n",
              "       'PRIVATE ROOM', 'home', '   Shared room      '], dtype=object)"
            ]
          },
          "metadata": {
            "tags": []
          },
          "execution_count": 28
        }
      ]
    },
    {
      "cell_type": "code",
      "metadata": {
        "id": "HwnSnaPEvncy",
        "colab_type": "code",
        "outputId": "81d19c4c-65f3-4319-f96e-0576aea79dc4",
        "colab": {
          "base_uri": "https://localhost:8080/",
          "height": 50
        }
      },
      "source": [
        "# Deal with capitalized values\n",
        "airbnb['room_type'] = airbnb['room_type'].str.lower()\n",
        "airbnb['room_type'].unique()"
      ],
      "execution_count": 0,
      "outputs": [
        {
          "output_type": "execute_result",
          "data": {
            "text/plain": [
              "array(['private room', 'entire home/apt', 'private', 'shared room',\n",
              "       'home', '   shared room      '], dtype=object)"
            ]
          },
          "metadata": {
            "tags": []
          },
          "execution_count": 29
        }
      ]
    },
    {
      "cell_type": "code",
      "metadata": {
        "id": "u47Ws-GtvvrC",
        "colab_type": "code",
        "outputId": "bc6ce221-fa5f-4978-c80c-79b815a94214",
        "colab": {
          "base_uri": "https://localhost:8080/",
          "height": 50
        }
      },
      "source": [
        "# Deal with trailing spaces\n",
        "airbnb['room_type'] = airbnb['room_type'].str.strip()\n",
        "airbnb['room_type'].unique()"
      ],
      "execution_count": 0,
      "outputs": [
        {
          "output_type": "execute_result",
          "data": {
            "text/plain": [
              "array(['private room', 'entire home/apt', 'private', 'shared room',\n",
              "       'home'], dtype=object)"
            ]
          },
          "metadata": {
            "tags": []
          },
          "execution_count": 30
        }
      ]
    },
    {
      "cell_type": "code",
      "metadata": {
        "id": "tYyyzZ2pwMtx",
        "colab_type": "code",
        "outputId": "32a02bbe-b3ab-4f25-8e8b-0b821a8ecbc0",
        "colab": {
          "base_uri": "https://localhost:8080/",
          "height": 33
        }
      },
      "source": [
        "# Replace values to 'Shared room', 'Entire place', 'Private room' and 'Hotel room' (if applicable).\n",
        "mappings = {'private room':'Private Room',\n",
        "            'private':'Private Room',\n",
        "            'entire home/apt':'Entire Place',\n",
        "            'shared room':'Shared Room',\n",
        "            'home':'Entire Place'}\n",
        "\n",
        "# Replace values and collapse data\n",
        "airbnb['room_type'] = airbnb['room_type'].replace(mappings)\n",
        "airbnb['room_type'].unique()"
      ],
      "execution_count": 0,
      "outputs": [
        {
          "output_type": "execute_result",
          "data": {
            "text/plain": [
              "array(['Private Room', 'Entire Place', 'Shared Room'], dtype=object)"
            ]
          },
          "metadata": {
            "tags": []
          },
          "execution_count": 31
        }
      ]
    },
    {
      "cell_type": "markdown",
      "metadata": {
        "id": "VA_2KMIkxjhL",
        "colab_type": "text"
      },
      "source": [
        "##### **Task 5:** Divide `neighbourhood_full` into 2 columns and making sure they are clean"
      ]
    },
    {
      "cell_type": "code",
      "metadata": {
        "id": "Nc3u9b57xKOu",
        "colab_type": "code",
        "outputId": "4737be64-c043-4768-c901-53d03ef2960b",
        "colab": {
          "base_uri": "https://localhost:8080/",
          "height": 116
        }
      },
      "source": [
        "# Print header of column\n",
        "airbnb['neighbourhood_full'].head()"
      ],
      "execution_count": 0,
      "outputs": [
        {
          "output_type": "execute_result",
          "data": {
            "text/plain": [
              "0           Brooklyn, Flatlands\n",
              "1    Manhattan, Upper West Side\n",
              "2    Brooklyn, Brooklyn Heights\n",
              "3    Manhattan, Upper West Side\n",
              "4    Manhattan, Lower East Side\n",
              "Name: neighbourhood_full, dtype: object"
            ]
          },
          "metadata": {
            "tags": []
          },
          "execution_count": 32
        }
      ]
    },
    {
      "cell_type": "code",
      "metadata": {
        "id": "88O9T3WYxreo",
        "colab_type": "code",
        "outputId": "f15ce23a-93b0-4984-f0ae-c1189bd2ec1b",
        "colab": {
          "base_uri": "https://localhost:8080/",
          "height": 201
        }
      },
      "source": [
        "# Split neighbourhood_full\n",
        "borough_neighbourhood = airbnb['neighbourhood_full'].str.split(',', expand = True)\n",
        "borough_neighbourhood.head()"
      ],
      "execution_count": 0,
      "outputs": [
        {
          "output_type": "execute_result",
          "data": {
            "text/html": [
              "<div>\n",
              "<style scoped>\n",
              "    .dataframe tbody tr th:only-of-type {\n",
              "        vertical-align: middle;\n",
              "    }\n",
              "\n",
              "    .dataframe tbody tr th {\n",
              "        vertical-align: top;\n",
              "    }\n",
              "\n",
              "    .dataframe thead th {\n",
              "        text-align: right;\n",
              "    }\n",
              "</style>\n",
              "<table border=\"1\" class=\"dataframe\">\n",
              "  <thead>\n",
              "    <tr style=\"text-align: right;\">\n",
              "      <th></th>\n",
              "      <th>0</th>\n",
              "      <th>1</th>\n",
              "    </tr>\n",
              "  </thead>\n",
              "  <tbody>\n",
              "    <tr>\n",
              "      <th>0</th>\n",
              "      <td>Brooklyn</td>\n",
              "      <td>Flatlands</td>\n",
              "    </tr>\n",
              "    <tr>\n",
              "      <th>1</th>\n",
              "      <td>Manhattan</td>\n",
              "      <td>Upper West Side</td>\n",
              "    </tr>\n",
              "    <tr>\n",
              "      <th>2</th>\n",
              "      <td>Brooklyn</td>\n",
              "      <td>Brooklyn Heights</td>\n",
              "    </tr>\n",
              "    <tr>\n",
              "      <th>3</th>\n",
              "      <td>Manhattan</td>\n",
              "      <td>Upper West Side</td>\n",
              "    </tr>\n",
              "    <tr>\n",
              "      <th>4</th>\n",
              "      <td>Manhattan</td>\n",
              "      <td>Lower East Side</td>\n",
              "    </tr>\n",
              "  </tbody>\n",
              "</table>\n",
              "</div>"
            ],
            "text/plain": [
              "           0                  1\n",
              "0   Brooklyn          Flatlands\n",
              "1  Manhattan    Upper West Side\n",
              "2   Brooklyn   Brooklyn Heights\n",
              "3  Manhattan    Upper West Side\n",
              "4  Manhattan    Lower East Side"
            ]
          },
          "metadata": {
            "tags": []
          },
          "execution_count": 33
        }
      ]
    },
    {
      "cell_type": "code",
      "metadata": {
        "id": "mmKhwDxkypDJ",
        "colab_type": "code",
        "outputId": "78987687-a7f9-444f-9815-823ca6f05e97",
        "colab": {
          "base_uri": "https://localhost:8080/",
          "height": 201
        }
      },
      "source": [
        "# Create borough and neighbourhood columns\n",
        "airbnb['borough'] = borough_neighbourhood[0]\n",
        "airbnb['neighbourhood'] = borough_neighbourhood[1]\n",
        "# Print header of columns\n",
        "airbnb[['borough', 'neighbourhood']].head()"
      ],
      "execution_count": 0,
      "outputs": [
        {
          "output_type": "execute_result",
          "data": {
            "text/html": [
              "<div>\n",
              "<style scoped>\n",
              "    .dataframe tbody tr th:only-of-type {\n",
              "        vertical-align: middle;\n",
              "    }\n",
              "\n",
              "    .dataframe tbody tr th {\n",
              "        vertical-align: top;\n",
              "    }\n",
              "\n",
              "    .dataframe thead th {\n",
              "        text-align: right;\n",
              "    }\n",
              "</style>\n",
              "<table border=\"1\" class=\"dataframe\">\n",
              "  <thead>\n",
              "    <tr style=\"text-align: right;\">\n",
              "      <th></th>\n",
              "      <th>borough</th>\n",
              "      <th>neighbourhood</th>\n",
              "    </tr>\n",
              "  </thead>\n",
              "  <tbody>\n",
              "    <tr>\n",
              "      <th>0</th>\n",
              "      <td>Brooklyn</td>\n",
              "      <td>Flatlands</td>\n",
              "    </tr>\n",
              "    <tr>\n",
              "      <th>1</th>\n",
              "      <td>Manhattan</td>\n",
              "      <td>Upper West Side</td>\n",
              "    </tr>\n",
              "    <tr>\n",
              "      <th>2</th>\n",
              "      <td>Brooklyn</td>\n",
              "      <td>Brooklyn Heights</td>\n",
              "    </tr>\n",
              "    <tr>\n",
              "      <th>3</th>\n",
              "      <td>Manhattan</td>\n",
              "      <td>Upper West Side</td>\n",
              "    </tr>\n",
              "    <tr>\n",
              "      <th>4</th>\n",
              "      <td>Manhattan</td>\n",
              "      <td>Lower East Side</td>\n",
              "    </tr>\n",
              "  </tbody>\n",
              "</table>\n",
              "</div>"
            ],
            "text/plain": [
              "     borough      neighbourhood\n",
              "0   Brooklyn          Flatlands\n",
              "1  Manhattan    Upper West Side\n",
              "2   Brooklyn   Brooklyn Heights\n",
              "3  Manhattan    Upper West Side\n",
              "4  Manhattan    Lower East Side"
            ]
          },
          "metadata": {
            "tags": []
          },
          "execution_count": 34
        }
      ]
    },
    {
      "cell_type": "code",
      "metadata": {
        "id": "SnflzqkwzCnt",
        "colab_type": "code",
        "colab": {}
      },
      "source": [
        "# Drop neighbourhood_full column\n",
        "airbnb.drop('neighbourhood_full', axis=1, inplace = True)"
      ],
      "execution_count": 0,
      "outputs": []
    },
    {
      "cell_type": "code",
      "metadata": {
        "id": "NJqrhMlNzNxk",
        "colab_type": "code",
        "outputId": "cc9144c5-b891-4e98-8d5e-1cb10d56247e",
        "colab": {
          "base_uri": "https://localhost:8080/",
          "height": 796
        }
      },
      "source": [
        "# Print out unique values of borough and neighbourhood\n",
        "print(airbnb['borough'].unique())\n",
        "print(airbnb['neighbourhood'].unique())"
      ],
      "execution_count": 0,
      "outputs": [
        {
          "output_type": "stream",
          "text": [
            "['Brooklyn' 'Manhattan' 'Queens' 'Bronx' 'Staten Island']\n",
            "[' Flatlands' ' Upper West Side' ' Brooklyn Heights' ' Lower East Side'\n",
            " ' Greenwich Village' ' Harlem' ' Sheepshead Bay' ' Theater District'\n",
            " ' Bushwick' ' Laurelton' ' Mott Haven' ' Flushing' ' Crown Heights'\n",
            " ' Midtown' ' Financial District' ' East Village' ' Park Slope'\n",
            " ' Washington Heights' ' Williamsburg' ' Chelsea' ' Bedford-Stuyvesant'\n",
            " ' Gowanus' ' Upper East Side' ' Ditmars Steinway' ' Cypress Hills'\n",
            " \" Hell's Kitchen\" ' Ridgewood' ' Marble Hill' ' Kips Bay'\n",
            " ' Prospect Heights' ' East New York' ' Concord' ' Stapleton' ' Astoria'\n",
            " ' East Harlem' ' Sunnyside' ' Gramercy' ' Prospect-Lefferts Gardens'\n",
            " ' Sunset Park' ' Forest Hills' ' Windsor Terrace' ' Clinton Hill'\n",
            " ' Murray Hill' ' Flatiron District' ' Greenpoint' ' East Flatbush'\n",
            " ' Tribeca' ' Woodhaven' ' Fort Greene' ' Inwood' ' Chinatown'\n",
            " ' Rockaway Beach' ' Woodside' ' Bayside' ' Bensonhurst' ' SoHo'\n",
            " ' Red Hook' ' West Village' ' South Slope' ' Richmond Hill' ' Jamaica'\n",
            " ' Boerum Hill' ' St. George' ' Clason Point' ' College Point'\n",
            " ' Vinegar Hill' ' Rego Park' ' East Elmhurst' ' Kensington'\n",
            " ' Roosevelt Island' ' Ozone Park' ' Arverne' ' Fordham' ' Wakefield'\n",
            " ' Port Morris' ' Flatbush' ' Elmhurst' ' Bay Ridge' ' Canarsie'\n",
            " ' Little Italy' ' Civic Center' ' St. Albans' ' Morningside Heights'\n",
            " ' Morrisania' ' Two Bridges' ' Concourse' ' Downtown Brooklyn'\n",
            " ' Queens Village' ' Fieldston' ' Allerton' ' Grymes Hill'\n",
            " ' Carroll Gardens' ' Kingsbridge' ' Belle Harbor' ' NoHo' ' Maspeth'\n",
            " ' Borough Park' ' Midwood' ' Fresh Meadows' ' Battery Park City'\n",
            " ' Pelham Bay' ' Van Nest' ' Long Island City' ' Williamsbridge' ' Nolita'\n",
            " ' Kew Gardens' ' Corona' ' Middle Village' ' Jackson Heights'\n",
            " ' Gravesend' ' New Dorp Beach' ' Brighton Beach' ' Belmont'\n",
            " ' Eltingville' ' South Ozone Park' ' Stuyvesant Town' ' Far Rockaway'\n",
            " ' Longwood' ' Glendale' ' Dongan Hills' ' Hollis' ' Columbia St'\n",
            " ' Tompkinsville' ' Springfield Gardens' ' Concourse Village'\n",
            " ' Throgs Neck' ' Cobble Hill' ' South Beach' ' North Riverdale'\n",
            " ' Rosedale' ' Mount Hope' ' Edenwald' ' Parkchester' ' Mill Basin'\n",
            " ' Brownsville' ' Fort Hamilton' ' Howard Beach' ' Claremont Village'\n",
            " ' Pelham Gardens' ' Westchester Square' ' Kew Gardens Hills' ' Arrochar'\n",
            " ' Edgemere' ' Shore Acres' ' Dyker Heights' ' Mount Eden'\n",
            " ' Randall Manor' ' Jamaica Hills' ' Norwood' ' Tottenville'\n",
            " ' Cambria Heights' ' East Morrisania' ' Soundview' ' Morris Park'\n",
            " ' Bronxdale' ' Bellerose' ' Navy Yard' ' Unionport' ' DUMBO' ' Bayswater'\n",
            " ' Tremont' ' Highbridge' ' Graniteville' ' Baychester' ' Morris Heights'\n",
            " ' Coney Island' ' Briarwood' ' West Farms' \" Prince's Bay\"\n",
            " ' University Heights' ' Clifton' ' Bay Terrace' ' City Island'\n",
            " ' West Brighton' ' Douglaston' ' Schuylerville' ' Port Richmond'\n",
            " ' Oakwood' ' Westerleigh' ' Little Neck' ' Holliswood' ' Bergen Beach'\n",
            " ' Castle Hill' ' Olinville' ' Rosebank' ' Melrose' ' Whitestone'\n",
            " ' Grant City' ' Riverdale' ' Neponsit' ' Bath Beach' ' Mariners Harbor'\n",
            " ' Hunts Point' ' Great Kills' ' Midland Beach' ' Eastchester'\n",
            " ' Jamaica Estates' ' New Springville']\n"
          ],
          "name": "stdout"
        }
      ]
    },
    {
      "cell_type": "code",
      "metadata": {
        "id": "sIC_fuLRz-en",
        "colab_type": "code",
        "outputId": "8fa1a0ac-b50a-43d2-a1e2-d26a7c2cc5b6",
        "colab": {
          "base_uri": "https://localhost:8080/",
          "height": 829
        }
      },
      "source": [
        "# Strip white space from neighbourhood column\n",
        "airbnb['neighbourhood'] = airbnb['neighbourhood'].str.strip()\n",
        "# Print unique values again\n",
        "airbnb['neighbourhood'].unique()"
      ],
      "execution_count": 0,
      "outputs": [
        {
          "output_type": "execute_result",
          "data": {
            "text/plain": [
              "array(['Flatlands', 'Upper West Side', 'Brooklyn Heights',\n",
              "       'Lower East Side', 'Greenwich Village', 'Harlem', 'Sheepshead Bay',\n",
              "       'Theater District', 'Bushwick', 'Laurelton', 'Mott Haven',\n",
              "       'Flushing', 'Crown Heights', 'Midtown', 'Financial District',\n",
              "       'East Village', 'Park Slope', 'Washington Heights', 'Williamsburg',\n",
              "       'Chelsea', 'Bedford-Stuyvesant', 'Gowanus', 'Upper East Side',\n",
              "       'Ditmars Steinway', 'Cypress Hills', \"Hell's Kitchen\", 'Ridgewood',\n",
              "       'Marble Hill', 'Kips Bay', 'Prospect Heights', 'East New York',\n",
              "       'Concord', 'Stapleton', 'Astoria', 'East Harlem', 'Sunnyside',\n",
              "       'Gramercy', 'Prospect-Lefferts Gardens', 'Sunset Park',\n",
              "       'Forest Hills', 'Windsor Terrace', 'Clinton Hill', 'Murray Hill',\n",
              "       'Flatiron District', 'Greenpoint', 'East Flatbush', 'Tribeca',\n",
              "       'Woodhaven', 'Fort Greene', 'Inwood', 'Chinatown',\n",
              "       'Rockaway Beach', 'Woodside', 'Bayside', 'Bensonhurst', 'SoHo',\n",
              "       'Red Hook', 'West Village', 'South Slope', 'Richmond Hill',\n",
              "       'Jamaica', 'Boerum Hill', 'St. George', 'Clason Point',\n",
              "       'College Point', 'Vinegar Hill', 'Rego Park', 'East Elmhurst',\n",
              "       'Kensington', 'Roosevelt Island', 'Ozone Park', 'Arverne',\n",
              "       'Fordham', 'Wakefield', 'Port Morris', 'Flatbush', 'Elmhurst',\n",
              "       'Bay Ridge', 'Canarsie', 'Little Italy', 'Civic Center',\n",
              "       'St. Albans', 'Morningside Heights', 'Morrisania', 'Two Bridges',\n",
              "       'Concourse', 'Downtown Brooklyn', 'Queens Village', 'Fieldston',\n",
              "       'Allerton', 'Grymes Hill', 'Carroll Gardens', 'Kingsbridge',\n",
              "       'Belle Harbor', 'NoHo', 'Maspeth', 'Borough Park', 'Midwood',\n",
              "       'Fresh Meadows', 'Battery Park City', 'Pelham Bay', 'Van Nest',\n",
              "       'Long Island City', 'Williamsbridge', 'Nolita', 'Kew Gardens',\n",
              "       'Corona', 'Middle Village', 'Jackson Heights', 'Gravesend',\n",
              "       'New Dorp Beach', 'Brighton Beach', 'Belmont', 'Eltingville',\n",
              "       'South Ozone Park', 'Stuyvesant Town', 'Far Rockaway', 'Longwood',\n",
              "       'Glendale', 'Dongan Hills', 'Hollis', 'Columbia St',\n",
              "       'Tompkinsville', 'Springfield Gardens', 'Concourse Village',\n",
              "       'Throgs Neck', 'Cobble Hill', 'South Beach', 'North Riverdale',\n",
              "       'Rosedale', 'Mount Hope', 'Edenwald', 'Parkchester', 'Mill Basin',\n",
              "       'Brownsville', 'Fort Hamilton', 'Howard Beach',\n",
              "       'Claremont Village', 'Pelham Gardens', 'Westchester Square',\n",
              "       'Kew Gardens Hills', 'Arrochar', 'Edgemere', 'Shore Acres',\n",
              "       'Dyker Heights', 'Mount Eden', 'Randall Manor', 'Jamaica Hills',\n",
              "       'Norwood', 'Tottenville', 'Cambria Heights', 'East Morrisania',\n",
              "       'Soundview', 'Morris Park', 'Bronxdale', 'Bellerose', 'Navy Yard',\n",
              "       'Unionport', 'DUMBO', 'Bayswater', 'Tremont', 'Highbridge',\n",
              "       'Graniteville', 'Baychester', 'Morris Heights', 'Coney Island',\n",
              "       'Briarwood', 'West Farms', \"Prince's Bay\", 'University Heights',\n",
              "       'Clifton', 'Bay Terrace', 'City Island', 'West Brighton',\n",
              "       'Douglaston', 'Schuylerville', 'Port Richmond', 'Oakwood',\n",
              "       'Westerleigh', 'Little Neck', 'Holliswood', 'Bergen Beach',\n",
              "       'Castle Hill', 'Olinville', 'Rosebank', 'Melrose', 'Whitestone',\n",
              "       'Grant City', 'Riverdale', 'Neponsit', 'Bath Beach',\n",
              "       'Mariners Harbor', 'Hunts Point', 'Great Kills', 'Midland Beach',\n",
              "       'Eastchester', 'Jamaica Estates', 'New Springville'], dtype=object)"
            ]
          },
          "metadata": {
            "tags": []
          },
          "execution_count": 37
        }
      ]
    },
    {
      "cell_type": "markdown",
      "metadata": {
        "id": "iFUQqbRp1lil",
        "colab_type": "text"
      },
      "source": [
        "##### **Task 6:** Make sure we set the correct maximum for `rating` column out of range values"
      ]
    },
    {
      "cell_type": "code",
      "metadata": {
        "id": "Bacl6XSU1zyD",
        "colab_type": "code",
        "outputId": "84b53f2c-ff84-4a09-d5c5-11dfed39f1a0",
        "colab": {
          "base_uri": "https://localhost:8080/",
          "height": 279
        }
      },
      "source": [
        "# Visualize the rating column again\n",
        "sns.distplot(airbnb['rating'], bins = 20)\n",
        "plt.show()"
      ],
      "execution_count": 0,
      "outputs": [
        {
          "output_type": "display_data",
          "data": {
            "image/png": "[encoded data removed]",
            "text/plain": [
              "<Figure size 432x288 with 1 Axes>"
            ]
          },
          "metadata": {
            "tags": []
          }
        }
      ]
    },
    {
      "cell_type": "code",
      "metadata": {
        "id": "toWXIeUx2C0o",
        "colab_type": "code",
        "outputId": "68828a91-ef7c-40c1-8e37-95751c89058f",
        "colab": {
          "base_uri": "https://localhost:8080/",
          "height": 342
        }
      },
      "source": [
        "# Isolate rows of rating > 5.0\n",
        "airbnb[airbnb['rating'] > 5.0]\n",
        "#airbnb[airbnb['rating'] > 5.0].index\n"
      ],
      "execution_count": 0,
      "outputs": [
        {
          "output_type": "execute_result",
          "data": {
            "text/html": [
              "<div>\n",
              "<style scoped>\n",
              "    .dataframe tbody tr th:only-of-type {\n",
              "        vertical-align: middle;\n",
              "    }\n",
              "\n",
              "    .dataframe tbody tr th {\n",
              "        vertical-align: top;\n",
              "    }\n",
              "\n",
              "    .dataframe thead th {\n",
              "        text-align: right;\n",
              "    }\n",
              "</style>\n",
              "<table border=\"1\" class=\"dataframe\">\n",
              "  <thead>\n",
              "    <tr style=\"text-align: right;\">\n",
              "      <th></th>\n",
              "      <th>listing_id</th>\n",
              "      <th>name</th>\n",
              "      <th>host_id</th>\n",
              "      <th>host_name</th>\n",
              "      <th>room_type</th>\n",
              "      <th>price</th>\n",
              "      <th>number_of_reviews</th>\n",
              "      <th>last_review</th>\n",
              "      <th>reviews_per_month</th>\n",
              "      <th>availability_365</th>\n",
              "      <th>rating</th>\n",
              "      <th>number_of_stays</th>\n",
              "      <th>5_stars</th>\n",
              "      <th>listing_added</th>\n",
              "      <th>latitude</th>\n",
              "      <th>longitude</th>\n",
              "      <th>borough</th>\n",
              "      <th>neighbourhood</th>\n",
              "    </tr>\n",
              "  </thead>\n",
              "  <tbody>\n",
              "    <tr>\n",
              "      <th>1925</th>\n",
              "      <td>36411407</td>\n",
              "      <td>Brand new 1 bedroom steps from Soho!</td>\n",
              "      <td>33917435</td>\n",
              "      <td>Mike</td>\n",
              "      <td>Entire Place</td>\n",
              "      <td>150.0</td>\n",
              "      <td>1</td>\n",
              "      <td>2019-07-06</td>\n",
              "      <td>1.0</td>\n",
              "      <td>13</td>\n",
              "      <td>5.017040</td>\n",
              "      <td>1.2</td>\n",
              "      <td>0.870161</td>\n",
              "      <td>2018-12-31</td>\n",
              "      <td>40.71825</td>\n",
              "      <td>-73.99019</td>\n",
              "      <td>Manhattan</td>\n",
              "      <td>Lower East Side</td>\n",
              "    </tr>\n",
              "    <tr>\n",
              "      <th>6732</th>\n",
              "      <td>36390226</td>\n",
              "      <td>Comfortable clean Bedstuy private room</td>\n",
              "      <td>267932490</td>\n",
              "      <td>Angela</td>\n",
              "      <td>Private Room</td>\n",
              "      <td>45.0</td>\n",
              "      <td>2</td>\n",
              "      <td>2019-07-08</td>\n",
              "      <td>2.0</td>\n",
              "      <td>14</td>\n",
              "      <td>5.087091</td>\n",
              "      <td>2.4</td>\n",
              "      <td>0.950339</td>\n",
              "      <td>2019-01-02</td>\n",
              "      <td>40.69551</td>\n",
              "      <td>-73.93951</td>\n",
              "      <td>Brooklyn</td>\n",
              "      <td>Bedford-Stuyvesant</td>\n",
              "    </tr>\n",
              "    <tr>\n",
              "      <th>8821</th>\n",
              "      <td>36413632</td>\n",
              "      <td>Spacious 2BR in Beautiful Brooklyn Heights</td>\n",
              "      <td>6608220</td>\n",
              "      <td>Matt</td>\n",
              "      <td>Entire Place</td>\n",
              "      <td>550.0</td>\n",
              "      <td>1</td>\n",
              "      <td>2019-07-07</td>\n",
              "      <td>1.0</td>\n",
              "      <td>230</td>\n",
              "      <td>5.181114</td>\n",
              "      <td>1.2</td>\n",
              "      <td>0.805418</td>\n",
              "      <td>2019-01-01</td>\n",
              "      <td>40.69827</td>\n",
              "      <td>-73.99649</td>\n",
              "      <td>Brooklyn</td>\n",
              "      <td>Brooklyn Heights</td>\n",
              "    </tr>\n",
              "  </tbody>\n",
              "</table>\n",
              "</div>"
            ],
            "text/plain": [
              "      listing_id  ...       neighbourhood\n",
              "1925    36411407  ...     Lower East Side\n",
              "6732    36390226  ...  Bedford-Stuyvesant\n",
              "8821    36413632  ...    Brooklyn Heights\n",
              "\n",
              "[3 rows x 18 columns]"
            ]
          },
          "metadata": {
            "tags": []
          },
          "execution_count": 41
        }
      ]
    },
    {
      "cell_type": "code",
      "metadata": {
        "id": "O6GzdjlP2JZN",
        "colab_type": "code",
        "colab": {}
      },
      "source": [
        "# Drop these rows and make sure we have effected changes\n",
        "airbnb.drop(airbnb[airbnb['rating'] > 5.0].index, inplace = True, axis = 0)"
      ],
      "execution_count": 0,
      "outputs": []
    },
    {
      "cell_type": "code",
      "metadata": {
        "id": "sjlhjthu3NIP",
        "colab_type": "code",
        "outputId": "ca7e8b73-7521-482f-d97b-daca68165388",
        "colab": {
          "base_uri": "https://localhost:8080/",
          "height": 279
        }
      },
      "source": [
        "# Visualize the rating column again\n",
        "sns.distplot(airbnb['rating'], bins = 20)\n",
        "plt.show()\n"
      ],
      "execution_count": 0,
      "outputs": [
        {
          "output_type": "display_data",
          "data": {
            "image/png": "[encoded data removed]",
            "text/plain": [
              "<Figure size 432x288 with 1 Axes>"
            ]
          },
          "metadata": {
            "tags": []
          }
        }
      ]
    },
    {
      "cell_type": "code",
      "metadata": {
        "id": "ll1KvVJX4Pd3",
        "colab_type": "code",
        "outputId": "92481513-813f-4f4a-ee48-17594a2bff93",
        "colab": {
          "base_uri": "https://localhost:8080/",
          "height": 33
        }
      },
      "source": [
        "# Get the maximum\n",
        "airbnb['rating'].max()"
      ],
      "execution_count": 0,
      "outputs": [
        {
          "output_type": "execute_result",
          "data": {
            "text/plain": [
              "4.999561104773598"
            ]
          },
          "metadata": {
            "tags": []
          },
          "execution_count": 46
        }
      ]
    },
    {
      "cell_type": "markdown",
      "metadata": {
        "id": "z21NCGFC04Xl",
        "colab_type": "text"
      },
      "source": [
        "## **Q&A**"
      ]
    },
    {
      "cell_type": "markdown",
      "metadata": {
        "id": "32vk2-Vn5l3Z",
        "colab_type": "text"
      },
      "source": [
        "### Dealing with missing data"
      ]
    },
    {
      "cell_type": "markdown",
      "metadata": {
        "id": "b2K5RQJLlXvf",
        "colab_type": "text"
      },
      "source": [
        "The `missingno` (imported as `msno`) package is great for visualizing missing data - we will be using:\n",
        "\n",
        "- `msno.matrix()` visualizes a missingness matrix\n",
        "- `msno.bar()` visualizes a missngness barplot\n",
        "- `plt.show()` to show the plot"
      ]
    },
    {
      "cell_type": "code",
      "metadata": {
        "id": "spvUQz2K4U4x",
        "colab_type": "code",
        "outputId": "0ef17697-c379-4570-ce9a-b80819d9fec6",
        "colab": {
          "base_uri": "https://localhost:8080/",
          "height": 368
        }
      },
      "source": [
        "# Visualize the missingness \n",
        "\n",
        "msno.matrix(airbnb)"
      ],
      "execution_count": 0,
      "outputs": [
        {
          "output_type": "execute_result",
          "data": {
            "text/plain": [
              "<matplotlib.axes._subplots.AxesSubplot at 0x7fb8b23990f0>"
            ]
          },
          "metadata": {
            "tags": []
          },
          "execution_count": 48
        },
        {
          "output_type": "display_data",
          "data": {
            "image/png": "[encoded data removed]",
            "text/plain": [
              "<Figure size 1800x720 with 2 Axes>"
            ]
          },
          "metadata": {
            "tags": []
          }
        }
      ]
    },
    {
      "cell_type": "code",
      "metadata": {
        "id": "G9QLtSbx7pCW",
        "colab_type": "code",
        "outputId": "cf624e7e-9a9e-4acf-9585-45e2e549f742",
        "colab": {
          "base_uri": "https://localhost:8080/",
          "height": 368
        }
      },
      "source": [
        "# Visualize the missingness on sorted values\n",
        "msno.matrix(airbnb.sort_values(by = 'rating'))\n"
      ],
      "execution_count": 0,
      "outputs": [
        {
          "output_type": "execute_result",
          "data": {
            "text/plain": [
              "<matplotlib.axes._subplots.AxesSubplot at 0x7fb8b231a860>"
            ]
          },
          "metadata": {
            "tags": []
          },
          "execution_count": 47
        },
        {
          "output_type": "display_data",
          "data": {
            "image/png": "[encoded data removed]",
            "text/plain": [
              "<Figure size 1800x720 with 2 Axes>"
            ]
          },
          "metadata": {
            "tags": []
          }
        }
      ]
    },
    {
      "cell_type": "code",
      "metadata": {
        "id": "W5vfZi03RwwY",
        "colab_type": "code",
        "outputId": "8d971bfa-e47d-47b5-fcc1-6688ef82399d",
        "colab": {
          "base_uri": "https://localhost:8080/",
          "height": 386
        }
      },
      "source": [
        "# Missingness barplot\n",
        "msno.bar(airbnb)\n",
        "plt.show()"
      ],
      "execution_count": 0,
      "outputs": [
        {
          "output_type": "display_data",
          "data": {
            "image/png": "[encoded data removed]",
            "text/plain": [
              "<Figure size 1728x720 with 3 Axes>"
            ]
          },
          "metadata": {
            "tags": []
          }
        }
      ]
    },
    {
      "cell_type": "markdown",
      "metadata": {
        "id": "27XSigJyg8Di",
        "colab_type": "text"
      },
      "source": [
        "**Treating the** `rating`, `number_of_stays`, `5_stars`, `reviews_per_month` **columns**"
      ]
    },
    {
      "cell_type": "code",
      "metadata": {
        "id": "pKuLIznfSv3H",
        "colab_type": "code",
        "outputId": "c3dc7875-0d01-4bf0-ade9-9f6fd7529551",
        "colab": {
          "base_uri": "https://localhost:8080/",
          "height": 312
        }
      },
      "source": [
        "# Understand DataFrame with missing values in rating, number_of_stays, 5_stars, reviews_per_month\n",
        "airbnb[airbnb['rating'].isna()].describe()"
      ],
      "execution_count": 0,
      "outputs": [
        {
          "output_type": "execute_result",
          "data": {
            "text/html": [
              "<div>\n",
              "<style scoped>\n",
              "    .dataframe tbody tr th:only-of-type {\n",
              "        vertical-align: middle;\n",
              "    }\n",
              "\n",
              "    .dataframe tbody tr th {\n",
              "        vertical-align: top;\n",
              "    }\n",
              "\n",
              "    .dataframe thead th {\n",
              "        text-align: right;\n",
              "    }\n",
              "</style>\n",
              "<table border=\"1\" class=\"dataframe\">\n",
              "  <thead>\n",
              "    <tr style=\"text-align: right;\">\n",
              "      <th></th>\n",
              "      <th>listing_id</th>\n",
              "      <th>host_id</th>\n",
              "      <th>price</th>\n",
              "      <th>number_of_reviews</th>\n",
              "      <th>reviews_per_month</th>\n",
              "      <th>availability_365</th>\n",
              "      <th>rating</th>\n",
              "      <th>number_of_stays</th>\n",
              "      <th>5_stars</th>\n",
              "      <th>latitude</th>\n",
              "      <th>longitude</th>\n",
              "    </tr>\n",
              "  </thead>\n",
              "  <tbody>\n",
              "    <tr>\n",
              "      <th>count</th>\n",
              "      <td>2.075000e+03</td>\n",
              "      <td>2.075000e+03</td>\n",
              "      <td>2028.000000</td>\n",
              "      <td>2075.0</td>\n",
              "      <td>0.0</td>\n",
              "      <td>2075.000000</td>\n",
              "      <td>0.0</td>\n",
              "      <td>0.0</td>\n",
              "      <td>0.0</td>\n",
              "      <td>2075.000000</td>\n",
              "      <td>2075.000000</td>\n",
              "    </tr>\n",
              "    <tr>\n",
              "      <th>mean</th>\n",
              "      <td>2.274238e+07</td>\n",
              "      <td>8.022455e+07</td>\n",
              "      <td>191.553748</td>\n",
              "      <td>0.0</td>\n",
              "      <td>NaN</td>\n",
              "      <td>104.531566</td>\n",
              "      <td>NaN</td>\n",
              "      <td>NaN</td>\n",
              "      <td>NaN</td>\n",
              "      <td>40.732074</td>\n",
              "      <td>-73.956771</td>\n",
              "    </tr>\n",
              "    <tr>\n",
              "      <th>std</th>\n",
              "      <td>1.123730e+07</td>\n",
              "      <td>8.663163e+07</td>\n",
              "      <td>316.186639</td>\n",
              "      <td>0.0</td>\n",
              "      <td>NaN</td>\n",
              "      <td>138.266525</td>\n",
              "      <td>NaN</td>\n",
              "      <td>NaN</td>\n",
              "      <td>NaN</td>\n",
              "      <td>0.051168</td>\n",
              "      <td>0.041065</td>\n",
              "    </tr>\n",
              "    <tr>\n",
              "      <th>min</th>\n",
              "      <td>6.358800e+04</td>\n",
              "      <td>1.475100e+04</td>\n",
              "      <td>0.000000</td>\n",
              "      <td>0.0</td>\n",
              "      <td>NaN</td>\n",
              "      <td>0.000000</td>\n",
              "      <td>NaN</td>\n",
              "      <td>NaN</td>\n",
              "      <td>NaN</td>\n",
              "      <td>40.527000</td>\n",
              "      <td>-74.209410</td>\n",
              "    </tr>\n",
              "    <tr>\n",
              "      <th>25%</th>\n",
              "      <td>1.232923e+07</td>\n",
              "      <td>1.224305e+07</td>\n",
              "      <td>70.000000</td>\n",
              "      <td>0.0</td>\n",
              "      <td>NaN</td>\n",
              "      <td>0.000000</td>\n",
              "      <td>NaN</td>\n",
              "      <td>NaN</td>\n",
              "      <td>NaN</td>\n",
              "      <td>40.697845</td>\n",
              "      <td>-73.985185</td>\n",
              "    </tr>\n",
              "    <tr>\n",
              "      <th>50%</th>\n",
              "      <td>2.345182e+07</td>\n",
              "      <td>4.040116e+07</td>\n",
              "      <td>120.000000</td>\n",
              "      <td>0.0</td>\n",
              "      <td>NaN</td>\n",
              "      <td>7.000000</td>\n",
              "      <td>NaN</td>\n",
              "      <td>NaN</td>\n",
              "      <td>NaN</td>\n",
              "      <td>40.727790</td>\n",
              "      <td>-73.960940</td>\n",
              "    </tr>\n",
              "    <tr>\n",
              "      <th>75%</th>\n",
              "      <td>3.400364e+07</td>\n",
              "      <td>1.333498e+08</td>\n",
              "      <td>205.250000</td>\n",
              "      <td>0.0</td>\n",
              "      <td>NaN</td>\n",
              "      <td>211.000000</td>\n",
              "      <td>NaN</td>\n",
              "      <td>NaN</td>\n",
              "      <td>NaN</td>\n",
              "      <td>40.763480</td>\n",
              "      <td>-73.939540</td>\n",
              "    </tr>\n",
              "    <tr>\n",
              "      <th>max</th>\n",
              "      <td>3.648724e+07</td>\n",
              "      <td>2.741034e+08</td>\n",
              "      <td>5250.000000</td>\n",
              "      <td>0.0</td>\n",
              "      <td>NaN</td>\n",
              "      <td>365.000000</td>\n",
              "      <td>NaN</td>\n",
              "      <td>NaN</td>\n",
              "      <td>NaN</td>\n",
              "      <td>40.911690</td>\n",
              "      <td>-73.727310</td>\n",
              "    </tr>\n",
              "  </tbody>\n",
              "</table>\n",
              "</div>"
            ],
            "text/plain": [
              "         listing_id       host_id  ...     latitude    longitude\n",
              "count  2.075000e+03  2.075000e+03  ...  2075.000000  2075.000000\n",
              "mean   2.274238e+07  8.022455e+07  ...    40.732074   -73.956771\n",
              "std    1.123730e+07  8.663163e+07  ...     0.051168     0.041065\n",
              "min    6.358800e+04  1.475100e+04  ...    40.527000   -74.209410\n",
              "25%    1.232923e+07  1.224305e+07  ...    40.697845   -73.985185\n",
              "50%    2.345182e+07  4.040116e+07  ...    40.727790   -73.960940\n",
              "75%    3.400364e+07  1.333498e+08  ...    40.763480   -73.939540\n",
              "max    3.648724e+07  2.741034e+08  ...    40.911690   -73.727310\n",
              "\n",
              "[8 rows x 11 columns]"
            ]
          },
          "metadata": {
            "tags": []
          },
          "execution_count": 50
        }
      ]
    },
    {
      "cell_type": "code",
      "metadata": {
        "id": "ij5BmX2gTnrW",
        "colab_type": "code",
        "outputId": "7206e1ca-6b1e-4f2d-9795-afce52f790a2",
        "colab": {
          "base_uri": "https://localhost:8080/",
          "height": 312
        }
      },
      "source": [
        "# Understand DataFrame with missing values in rating, number_of_stays, 5_stars, reviews_per_month\n",
        "airbnb[~airbnb['rating'].isna()].describe()"
      ],
      "execution_count": 0,
      "outputs": [
        {
          "output_type": "execute_result",
          "data": {
            "text/html": [
              "<div>\n",
              "<style scoped>\n",
              "    .dataframe tbody tr th:only-of-type {\n",
              "        vertical-align: middle;\n",
              "    }\n",
              "\n",
              "    .dataframe tbody tr th {\n",
              "        vertical-align: top;\n",
              "    }\n",
              "\n",
              "    .dataframe thead th {\n",
              "        text-align: right;\n",
              "    }\n",
              "</style>\n",
              "<table border=\"1\" class=\"dataframe\">\n",
              "  <thead>\n",
              "    <tr style=\"text-align: right;\">\n",
              "      <th></th>\n",
              "      <th>listing_id</th>\n",
              "      <th>host_id</th>\n",
              "      <th>price</th>\n",
              "      <th>number_of_reviews</th>\n",
              "      <th>reviews_per_month</th>\n",
              "      <th>availability_365</th>\n",
              "      <th>rating</th>\n",
              "      <th>number_of_stays</th>\n",
              "      <th>5_stars</th>\n",
              "      <th>latitude</th>\n",
              "      <th>longitude</th>\n",
              "    </tr>\n",
              "  </thead>\n",
              "  <tbody>\n",
              "    <tr>\n",
              "      <th>count</th>\n",
              "      <td>7.941000e+03</td>\n",
              "      <td>7.941000e+03</td>\n",
              "      <td>7750.000000</td>\n",
              "      <td>7941.000000</td>\n",
              "      <td>7941.000000</td>\n",
              "      <td>7941.000000</td>\n",
              "      <td>7941.000000</td>\n",
              "      <td>7941.000000</td>\n",
              "      <td>7941.000000</td>\n",
              "      <td>7941.000000</td>\n",
              "      <td>7941.000000</td>\n",
              "    </tr>\n",
              "    <tr>\n",
              "      <th>mean</th>\n",
              "      <td>1.836419e+07</td>\n",
              "      <td>6.474110e+07</td>\n",
              "      <td>140.230581</td>\n",
              "      <td>28.336482</td>\n",
              "      <td>1.353901</td>\n",
              "      <td>114.320111</td>\n",
              "      <td>4.014050</td>\n",
              "      <td>34.003778</td>\n",
              "      <td>0.718540</td>\n",
              "      <td>40.728335</td>\n",
              "      <td>-73.950632</td>\n",
              "    </tr>\n",
              "    <tr>\n",
              "      <th>std</th>\n",
              "      <td>1.068788e+07</td>\n",
              "      <td>7.606089e+07</td>\n",
              "      <td>163.630337</td>\n",
              "      <td>46.746949</td>\n",
              "      <td>1.615659</td>\n",
              "      <td>129.789313</td>\n",
              "      <td>0.574787</td>\n",
              "      <td>56.096338</td>\n",
              "      <td>0.079927</td>\n",
              "      <td>0.055491</td>\n",
              "      <td>0.047017</td>\n",
              "    </tr>\n",
              "    <tr>\n",
              "      <th>min</th>\n",
              "      <td>3.831000e+03</td>\n",
              "      <td>2.787000e+03</td>\n",
              "      <td>0.000000</td>\n",
              "      <td>1.000000</td>\n",
              "      <td>0.010000</td>\n",
              "      <td>0.000000</td>\n",
              "      <td>3.000633</td>\n",
              "      <td>1.200000</td>\n",
              "      <td>0.600026</td>\n",
              "      <td>40.508680</td>\n",
              "      <td>-74.239860</td>\n",
              "    </tr>\n",
              "    <tr>\n",
              "      <th>25%</th>\n",
              "      <td>8.964308e+06</td>\n",
              "      <td>7.138163e+06</td>\n",
              "      <td>69.000000</td>\n",
              "      <td>3.000000</td>\n",
              "      <td>0.200000</td>\n",
              "      <td>0.000000</td>\n",
              "      <td>3.519751</td>\n",
              "      <td>3.600000</td>\n",
              "      <td>0.655573</td>\n",
              "      <td>40.688560</td>\n",
              "      <td>-73.982130</td>\n",
              "    </tr>\n",
              "    <tr>\n",
              "      <th>50%</th>\n",
              "      <td>1.927436e+07</td>\n",
              "      <td>2.947846e+07</td>\n",
              "      <td>105.000000</td>\n",
              "      <td>9.000000</td>\n",
              "      <td>0.700000</td>\n",
              "      <td>54.000000</td>\n",
              "      <td>4.027415</td>\n",
              "      <td>10.800000</td>\n",
              "      <td>0.709747</td>\n",
              "      <td>40.721820</td>\n",
              "      <td>-73.954410</td>\n",
              "    </tr>\n",
              "    <tr>\n",
              "      <th>75%</th>\n",
              "      <td>2.787660e+07</td>\n",
              "      <td>1.016578e+08</td>\n",
              "      <td>170.000000</td>\n",
              "      <td>32.000000</td>\n",
              "      <td>2.000000</td>\n",
              "      <td>229.000000</td>\n",
              "      <td>4.515626</td>\n",
              "      <td>38.400000</td>\n",
              "      <td>0.763948</td>\n",
              "      <td>40.763390</td>\n",
              "      <td>-73.934930</td>\n",
              "    </tr>\n",
              "    <tr>\n",
              "      <th>max</th>\n",
              "      <td>3.635113e+07</td>\n",
              "      <td>2.733615e+08</td>\n",
              "      <td>8000.000000</td>\n",
              "      <td>510.000000</td>\n",
              "      <td>16.220000</td>\n",
              "      <td>365.000000</td>\n",
              "      <td>4.999561</td>\n",
              "      <td>612.000000</td>\n",
              "      <td>0.939950</td>\n",
              "      <td>40.913060</td>\n",
              "      <td>-73.719280</td>\n",
              "    </tr>\n",
              "  </tbody>\n",
              "</table>\n",
              "</div>"
            ],
            "text/plain": [
              "         listing_id       host_id  ...     latitude    longitude\n",
              "count  7.941000e+03  7.941000e+03  ...  7941.000000  7941.000000\n",
              "mean   1.836419e+07  6.474110e+07  ...    40.728335   -73.950632\n",
              "std    1.068788e+07  7.606089e+07  ...     0.055491     0.047017\n",
              "min    3.831000e+03  2.787000e+03  ...    40.508680   -74.239860\n",
              "25%    8.964308e+06  7.138163e+06  ...    40.688560   -73.982130\n",
              "50%    1.927436e+07  2.947846e+07  ...    40.721820   -73.954410\n",
              "75%    2.787660e+07  1.016578e+08  ...    40.763390   -73.934930\n",
              "max    3.635113e+07  2.733615e+08  ...    40.913060   -73.719280\n",
              "\n",
              "[8 rows x 11 columns]"
            ]
          },
          "metadata": {
            "tags": []
          },
          "execution_count": 51
        }
      ]
    },
    {
      "cell_type": "code",
      "metadata": {
        "id": "tuRNdMvungIq",
        "colab_type": "code",
        "outputId": "3f8e9a8a-6fe8-44fb-d2bc-dbf17b190412",
        "colab": {
          "base_uri": "https://localhost:8080/",
          "height": 469
        }
      },
      "source": [
        "# Impute missing data\n",
        "airbnb = airbnb.fillna({'reviews_per_month':0,\n",
        "                        'number_of_stays':0,\n",
        "                        '5_stars':0})\n",
        "# Create is_rated column\n",
        "is_rated = np.where(airbnb['rating'].isna() == True,0,1)\n",
        "airbnb['is_rated'] = is_rated\n",
        "airbnb.head()"
      ],
      "execution_count": 0,
      "outputs": [
        {
          "output_type": "execute_result",
          "data": {
            "text/html": [
              "<div>\n",
              "<style scoped>\n",
              "    .dataframe tbody tr th:only-of-type {\n",
              "        vertical-align: middle;\n",
              "    }\n",
              "\n",
              "    .dataframe tbody tr th {\n",
              "        vertical-align: top;\n",
              "    }\n",
              "\n",
              "    .dataframe thead th {\n",
              "        text-align: right;\n",
              "    }\n",
              "</style>\n",
              "<table border=\"1\" class=\"dataframe\">\n",
              "  <thead>\n",
              "    <tr style=\"text-align: right;\">\n",
              "      <th></th>\n",
              "      <th>listing_id</th>\n",
              "      <th>name</th>\n",
              "      <th>host_id</th>\n",
              "      <th>host_name</th>\n",
              "      <th>room_type</th>\n",
              "      <th>price</th>\n",
              "      <th>number_of_reviews</th>\n",
              "      <th>last_review</th>\n",
              "      <th>reviews_per_month</th>\n",
              "      <th>availability_365</th>\n",
              "      <th>rating</th>\n",
              "      <th>number_of_stays</th>\n",
              "      <th>5_stars</th>\n",
              "      <th>listing_added</th>\n",
              "      <th>latitude</th>\n",
              "      <th>longitude</th>\n",
              "      <th>borough</th>\n",
              "      <th>neighbourhood</th>\n",
              "      <th>is_rated</th>\n",
              "    </tr>\n",
              "  </thead>\n",
              "  <tbody>\n",
              "    <tr>\n",
              "      <th>0</th>\n",
              "      <td>13740704</td>\n",
              "      <td>Cozy,budget friendly, cable inc, private entra...</td>\n",
              "      <td>20583125</td>\n",
              "      <td>Michel</td>\n",
              "      <td>Private Room</td>\n",
              "      <td>45.0</td>\n",
              "      <td>10</td>\n",
              "      <td>2018-12-12</td>\n",
              "      <td>0.70</td>\n",
              "      <td>85</td>\n",
              "      <td>4.100954</td>\n",
              "      <td>12.0</td>\n",
              "      <td>0.609432</td>\n",
              "      <td>2018-06-08</td>\n",
              "      <td>40.63222</td>\n",
              "      <td>-73.93398</td>\n",
              "      <td>Brooklyn</td>\n",
              "      <td>Flatlands</td>\n",
              "      <td>1</td>\n",
              "    </tr>\n",
              "    <tr>\n",
              "      <th>1</th>\n",
              "      <td>22005115</td>\n",
              "      <td>Two floor apartment near Central Park</td>\n",
              "      <td>82746113</td>\n",
              "      <td>Cecilia</td>\n",
              "      <td>Entire Place</td>\n",
              "      <td>135.0</td>\n",
              "      <td>1</td>\n",
              "      <td>2019-06-30</td>\n",
              "      <td>1.00</td>\n",
              "      <td>145</td>\n",
              "      <td>3.367600</td>\n",
              "      <td>1.2</td>\n",
              "      <td>0.746135</td>\n",
              "      <td>2018-12-25</td>\n",
              "      <td>40.78761</td>\n",
              "      <td>-73.96862</td>\n",
              "      <td>Manhattan</td>\n",
              "      <td>Upper West Side</td>\n",
              "      <td>1</td>\n",
              "    </tr>\n",
              "    <tr>\n",
              "      <th>2</th>\n",
              "      <td>21667615</td>\n",
              "      <td>Beautiful 1BR in Brooklyn Heights</td>\n",
              "      <td>78251</td>\n",
              "      <td>Leslie</td>\n",
              "      <td>Entire Place</td>\n",
              "      <td>150.0</td>\n",
              "      <td>0</td>\n",
              "      <td>NaT</td>\n",
              "      <td>0.00</td>\n",
              "      <td>65</td>\n",
              "      <td>NaN</td>\n",
              "      <td>0.0</td>\n",
              "      <td>0.000000</td>\n",
              "      <td>2018-08-15</td>\n",
              "      <td>40.70070</td>\n",
              "      <td>-73.99517</td>\n",
              "      <td>Brooklyn</td>\n",
              "      <td>Brooklyn Heights</td>\n",
              "      <td>0</td>\n",
              "    </tr>\n",
              "    <tr>\n",
              "      <th>3</th>\n",
              "      <td>6425850</td>\n",
              "      <td>Spacious, charming studio</td>\n",
              "      <td>32715865</td>\n",
              "      <td>Yelena</td>\n",
              "      <td>Entire Place</td>\n",
              "      <td>86.0</td>\n",
              "      <td>5</td>\n",
              "      <td>2017-09-23</td>\n",
              "      <td>0.13</td>\n",
              "      <td>0</td>\n",
              "      <td>4.763203</td>\n",
              "      <td>6.0</td>\n",
              "      <td>0.769947</td>\n",
              "      <td>2017-03-20</td>\n",
              "      <td>40.79169</td>\n",
              "      <td>-73.97498</td>\n",
              "      <td>Manhattan</td>\n",
              "      <td>Upper West Side</td>\n",
              "      <td>1</td>\n",
              "    </tr>\n",
              "    <tr>\n",
              "      <th>4</th>\n",
              "      <td>22986519</td>\n",
              "      <td>Bedroom on the lively Lower East Side</td>\n",
              "      <td>154262349</td>\n",
              "      <td>Brooke</td>\n",
              "      <td>Private Room</td>\n",
              "      <td>160.0</td>\n",
              "      <td>23</td>\n",
              "      <td>2019-06-12</td>\n",
              "      <td>2.29</td>\n",
              "      <td>102</td>\n",
              "      <td>3.822591</td>\n",
              "      <td>27.6</td>\n",
              "      <td>0.649383</td>\n",
              "      <td>2020-10-23</td>\n",
              "      <td>40.71884</td>\n",
              "      <td>-73.98354</td>\n",
              "      <td>Manhattan</td>\n",
              "      <td>Lower East Side</td>\n",
              "      <td>1</td>\n",
              "    </tr>\n",
              "  </tbody>\n",
              "</table>\n",
              "</div>"
            ],
            "text/plain": [
              "   listing_id  ... is_rated\n",
              "0    13740704  ...        1\n",
              "1    22005115  ...        1\n",
              "2    21667615  ...        0\n",
              "3     6425850  ...        1\n",
              "4    22986519  ...        1\n",
              "\n",
              "[5 rows x 19 columns]"
            ]
          },
          "metadata": {
            "tags": []
          },
          "execution_count": 52
        }
      ]
    },
    {
      "cell_type": "markdown",
      "metadata": {
        "id": "lsPP28Xzg9_z",
        "colab_type": "text"
      },
      "source": [
        "**Treating the** `price` **column**"
      ]
    },
    {
      "cell_type": "code",
      "metadata": {
        "id": "9J36PSnnug9C",
        "colab_type": "code",
        "outputId": "ee8d8844-5239-426f-f8e3-97c5d22789dc",
        "colab": {
          "base_uri": "https://localhost:8080/",
          "height": 348
        }
      },
      "source": [
        "airbnb.isna().sum()"
      ],
      "execution_count": 0,
      "outputs": [
        {
          "output_type": "execute_result",
          "data": {
            "text/plain": [
              "listing_id              0\n",
              "name                    5\n",
              "host_id                 0\n",
              "host_name               2\n",
              "room_type               0\n",
              "price                 238\n",
              "number_of_reviews       0\n",
              "last_review          2075\n",
              "reviews_per_month       0\n",
              "availability_365        0\n",
              "rating               2075\n",
              "number_of_stays         0\n",
              "5_stars                 0\n",
              "listing_added           0\n",
              "latitude                0\n",
              "longitude               0\n",
              "borough                 0\n",
              "neighbourhood           0\n",
              "is_rated                0\n",
              "dtype: int64"
            ]
          },
          "metadata": {
            "tags": []
          },
          "execution_count": 53
        }
      ]
    },
    {
      "cell_type": "code",
      "metadata": {
        "id": "lLJJG-SmYLh7",
        "colab_type": "code",
        "outputId": "a67030f0-db95-44aa-a686-70b5f1f09f94",
        "colab": {
          "base_uri": "https://localhost:8080/",
          "height": 312
        }
      },
      "source": [
        "# Investigate DataFrame with missing values in price\n",
        "airbnb[airbnb['price'].isna()].describe()"
      ],
      "execution_count": 0,
      "outputs": [
        {
          "output_type": "execute_result",
          "data": {
            "text/html": [
              "<div>\n",
              "<style scoped>\n",
              "    .dataframe tbody tr th:only-of-type {\n",
              "        vertical-align: middle;\n",
              "    }\n",
              "\n",
              "    .dataframe tbody tr th {\n",
              "        vertical-align: top;\n",
              "    }\n",
              "\n",
              "    .dataframe thead th {\n",
              "        text-align: right;\n",
              "    }\n",
              "</style>\n",
              "<table border=\"1\" class=\"dataframe\">\n",
              "  <thead>\n",
              "    <tr style=\"text-align: right;\">\n",
              "      <th></th>\n",
              "      <th>listing_id</th>\n",
              "      <th>host_id</th>\n",
              "      <th>price</th>\n",
              "      <th>number_of_reviews</th>\n",
              "      <th>reviews_per_month</th>\n",
              "      <th>availability_365</th>\n",
              "      <th>rating</th>\n",
              "      <th>number_of_stays</th>\n",
              "      <th>5_stars</th>\n",
              "      <th>latitude</th>\n",
              "      <th>longitude</th>\n",
              "      <th>is_rated</th>\n",
              "    </tr>\n",
              "  </thead>\n",
              "  <tbody>\n",
              "    <tr>\n",
              "      <th>count</th>\n",
              "      <td>2.380000e+02</td>\n",
              "      <td>2.380000e+02</td>\n",
              "      <td>0.0</td>\n",
              "      <td>238.000000</td>\n",
              "      <td>238.000000</td>\n",
              "      <td>238.000000</td>\n",
              "      <td>191.000000</td>\n",
              "      <td>238.000000</td>\n",
              "      <td>238.000000</td>\n",
              "      <td>238.000000</td>\n",
              "      <td>238.000000</td>\n",
              "      <td>238.000000</td>\n",
              "    </tr>\n",
              "    <tr>\n",
              "      <th>mean</th>\n",
              "      <td>1.805656e+07</td>\n",
              "      <td>6.262965e+07</td>\n",
              "      <td>NaN</td>\n",
              "      <td>22.445378</td>\n",
              "      <td>1.117563</td>\n",
              "      <td>98.953782</td>\n",
              "      <td>4.078343</td>\n",
              "      <td>26.934454</td>\n",
              "      <td>0.577721</td>\n",
              "      <td>40.727270</td>\n",
              "      <td>-73.946071</td>\n",
              "      <td>0.802521</td>\n",
              "    </tr>\n",
              "    <tr>\n",
              "      <th>std</th>\n",
              "      <td>1.065176e+07</td>\n",
              "      <td>7.518785e+07</td>\n",
              "      <td>NaN</td>\n",
              "      <td>35.798003</td>\n",
              "      <td>1.666262</td>\n",
              "      <td>125.872256</td>\n",
              "      <td>0.568705</td>\n",
              "      <td>42.957603</td>\n",
              "      <td>0.297066</td>\n",
              "      <td>0.057426</td>\n",
              "      <td>0.048688</td>\n",
              "      <td>0.398936</td>\n",
              "    </tr>\n",
              "    <tr>\n",
              "      <th>min</th>\n",
              "      <td>8.092400e+04</td>\n",
              "      <td>1.145900e+05</td>\n",
              "      <td>NaN</td>\n",
              "      <td>0.000000</td>\n",
              "      <td>0.000000</td>\n",
              "      <td>0.000000</td>\n",
              "      <td>3.007359</td>\n",
              "      <td>0.000000</td>\n",
              "      <td>0.000000</td>\n",
              "      <td>40.581980</td>\n",
              "      <td>-74.160620</td>\n",
              "      <td>0.000000</td>\n",
              "    </tr>\n",
              "    <tr>\n",
              "      <th>25%</th>\n",
              "      <td>8.282298e+06</td>\n",
              "      <td>6.034050e+06</td>\n",
              "      <td>NaN</td>\n",
              "      <td>1.000000</td>\n",
              "      <td>0.080000</td>\n",
              "      <td>0.000000</td>\n",
              "      <td>3.646496</td>\n",
              "      <td>1.200000</td>\n",
              "      <td>0.613462</td>\n",
              "      <td>40.688043</td>\n",
              "      <td>-73.970362</td>\n",
              "      <td>1.000000</td>\n",
              "    </tr>\n",
              "    <tr>\n",
              "      <th>50%</th>\n",
              "      <td>1.863600e+07</td>\n",
              "      <td>2.809524e+07</td>\n",
              "      <td>NaN</td>\n",
              "      <td>6.000000</td>\n",
              "      <td>0.350000</td>\n",
              "      <td>23.000000</td>\n",
              "      <td>4.149203</td>\n",
              "      <td>7.200000</td>\n",
              "      <td>0.681884</td>\n",
              "      <td>40.719925</td>\n",
              "      <td>-73.951370</td>\n",
              "      <td>1.000000</td>\n",
              "    </tr>\n",
              "    <tr>\n",
              "      <th>75%</th>\n",
              "      <td>2.753759e+07</td>\n",
              "      <td>1.009006e+08</td>\n",
              "      <td>NaN</td>\n",
              "      <td>26.000000</td>\n",
              "      <td>1.435000</td>\n",
              "      <td>192.000000</td>\n",
              "      <td>4.538671</td>\n",
              "      <td>31.200000</td>\n",
              "      <td>0.746239</td>\n",
              "      <td>40.762030</td>\n",
              "      <td>-73.927908</td>\n",
              "      <td>1.000000</td>\n",
              "    </tr>\n",
              "    <tr>\n",
              "      <th>max</th>\n",
              "      <td>3.638875e+07</td>\n",
              "      <td>2.668265e+08</td>\n",
              "      <td>NaN</td>\n",
              "      <td>207.000000</td>\n",
              "      <td>8.870000</td>\n",
              "      <td>365.000000</td>\n",
              "      <td>4.957646</td>\n",
              "      <td>248.400000</td>\n",
              "      <td>0.934979</td>\n",
              "      <td>40.870390</td>\n",
              "      <td>-73.734620</td>\n",
              "      <td>1.000000</td>\n",
              "    </tr>\n",
              "  </tbody>\n",
              "</table>\n",
              "</div>"
            ],
            "text/plain": [
              "         listing_id       host_id  price  ...    latitude   longitude    is_rated\n",
              "count  2.380000e+02  2.380000e+02    0.0  ...  238.000000  238.000000  238.000000\n",
              "mean   1.805656e+07  6.262965e+07    NaN  ...   40.727270  -73.946071    0.802521\n",
              "std    1.065176e+07  7.518785e+07    NaN  ...    0.057426    0.048688    0.398936\n",
              "min    8.092400e+04  1.145900e+05    NaN  ...   40.581980  -74.160620    0.000000\n",
              "25%    8.282298e+06  6.034050e+06    NaN  ...   40.688043  -73.970362    1.000000\n",
              "50%    1.863600e+07  2.809524e+07    NaN  ...   40.719925  -73.951370    1.000000\n",
              "75%    2.753759e+07  1.009006e+08    NaN  ...   40.762030  -73.927908    1.000000\n",
              "max    3.638875e+07  2.668265e+08    NaN  ...   40.870390  -73.734620    1.000000\n",
              "\n",
              "[8 rows x 12 columns]"
            ]
          },
          "metadata": {
            "tags": []
          },
          "execution_count": 54
        }
      ]
    },
    {
      "cell_type": "code",
      "metadata": {
        "id": "dluvKIkXr3yV",
        "colab_type": "code",
        "outputId": "c8917366-3823-4676-d1e5-8d8252e3c0de",
        "colab": {
          "base_uri": "https://localhost:8080/",
          "height": 312
        }
      },
      "source": [
        "# Investigate DataFrame with missing values in price\n",
        "airbnb[~airbnb['price'].isna()].describe()"
      ],
      "execution_count": 0,
      "outputs": [
        {
          "output_type": "execute_result",
          "data": {
            "text/html": [
              "<div>\n",
              "<style scoped>\n",
              "    .dataframe tbody tr th:only-of-type {\n",
              "        vertical-align: middle;\n",
              "    }\n",
              "\n",
              "    .dataframe tbody tr th {\n",
              "        vertical-align: top;\n",
              "    }\n",
              "\n",
              "    .dataframe thead th {\n",
              "        text-align: right;\n",
              "    }\n",
              "</style>\n",
              "<table border=\"1\" class=\"dataframe\">\n",
              "  <thead>\n",
              "    <tr style=\"text-align: right;\">\n",
              "      <th></th>\n",
              "      <th>listing_id</th>\n",
              "      <th>host_id</th>\n",
              "      <th>price</th>\n",
              "      <th>number_of_reviews</th>\n",
              "      <th>reviews_per_month</th>\n",
              "      <th>availability_365</th>\n",
              "      <th>rating</th>\n",
              "      <th>number_of_stays</th>\n",
              "      <th>5_stars</th>\n",
              "      <th>latitude</th>\n",
              "      <th>longitude</th>\n",
              "      <th>is_rated</th>\n",
              "    </tr>\n",
              "  </thead>\n",
              "  <tbody>\n",
              "    <tr>\n",
              "      <th>count</th>\n",
              "      <td>9.778000e+03</td>\n",
              "      <td>9.778000e+03</td>\n",
              "      <td>9778.00000</td>\n",
              "      <td>9778.000000</td>\n",
              "      <td>9778.000000</td>\n",
              "      <td>9778.000000</td>\n",
              "      <td>7750.000000</td>\n",
              "      <td>9778.000000</td>\n",
              "      <td>9778.000000</td>\n",
              "      <td>9778.000000</td>\n",
              "      <td>9778.000000</td>\n",
              "      <td>9778.000000</td>\n",
              "    </tr>\n",
              "    <tr>\n",
              "      <th>mean</th>\n",
              "      <td>1.930078e+07</td>\n",
              "      <td>6.807826e+07</td>\n",
              "      <td>150.87523</td>\n",
              "      <td>22.466558</td>\n",
              "      <td>1.072341</td>\n",
              "      <td>112.616895</td>\n",
              "      <td>4.012465</td>\n",
              "      <td>26.959869</td>\n",
              "      <td>0.569485</td>\n",
              "      <td>40.729154</td>\n",
              "      <td>-73.952046</td>\n",
              "      <td>0.792596</td>\n",
              "    </tr>\n",
              "    <tr>\n",
              "      <th>std</th>\n",
              "      <td>1.095415e+07</td>\n",
              "      <td>7.869506e+07</td>\n",
              "      <td>205.86666</td>\n",
              "      <td>43.344327</td>\n",
              "      <td>1.536549</td>\n",
              "      <td>131.769744</td>\n",
              "      <td>0.574882</td>\n",
              "      <td>52.013192</td>\n",
              "      <td>0.299870</td>\n",
              "      <td>0.054575</td>\n",
              "      <td>0.045837</td>\n",
              "      <td>0.405468</td>\n",
              "    </tr>\n",
              "    <tr>\n",
              "      <th>min</th>\n",
              "      <td>3.831000e+03</td>\n",
              "      <td>2.787000e+03</td>\n",
              "      <td>0.00000</td>\n",
              "      <td>0.000000</td>\n",
              "      <td>0.000000</td>\n",
              "      <td>0.000000</td>\n",
              "      <td>3.000633</td>\n",
              "      <td>0.000000</td>\n",
              "      <td>0.000000</td>\n",
              "      <td>40.508680</td>\n",
              "      <td>-74.239860</td>\n",
              "      <td>0.000000</td>\n",
              "    </tr>\n",
              "    <tr>\n",
              "      <th>25%</th>\n",
              "      <td>9.696668e+06</td>\n",
              "      <td>7.952219e+06</td>\n",
              "      <td>69.00000</td>\n",
              "      <td>1.000000</td>\n",
              "      <td>0.040000</td>\n",
              "      <td>0.000000</td>\n",
              "      <td>3.518948</td>\n",
              "      <td>1.200000</td>\n",
              "      <td>0.611644</td>\n",
              "      <td>40.689912</td>\n",
              "      <td>-73.983030</td>\n",
              "      <td>1.000000</td>\n",
              "    </tr>\n",
              "    <tr>\n",
              "      <th>50%</th>\n",
              "      <td>2.012299e+07</td>\n",
              "      <td>3.167018e+07</td>\n",
              "      <td>106.00000</td>\n",
              "      <td>5.000000</td>\n",
              "      <td>0.375000</td>\n",
              "      <td>44.500000</td>\n",
              "      <td>4.024327</td>\n",
              "      <td>6.000000</td>\n",
              "      <td>0.681882</td>\n",
              "      <td>40.723095</td>\n",
              "      <td>-73.955580</td>\n",
              "      <td>1.000000</td>\n",
              "    </tr>\n",
              "    <tr>\n",
              "      <th>75%</th>\n",
              "      <td>2.938694e+07</td>\n",
              "      <td>1.074344e+08</td>\n",
              "      <td>180.00000</td>\n",
              "      <td>22.000000</td>\n",
              "      <td>1.550000</td>\n",
              "      <td>227.750000</td>\n",
              "      <td>4.514427</td>\n",
              "      <td>26.400000</td>\n",
              "      <td>0.750110</td>\n",
              "      <td>40.763438</td>\n",
              "      <td>-73.936217</td>\n",
              "      <td>1.000000</td>\n",
              "    </tr>\n",
              "    <tr>\n",
              "      <th>max</th>\n",
              "      <td>3.648724e+07</td>\n",
              "      <td>2.741034e+08</td>\n",
              "      <td>8000.00000</td>\n",
              "      <td>510.000000</td>\n",
              "      <td>16.220000</td>\n",
              "      <td>365.000000</td>\n",
              "      <td>4.999561</td>\n",
              "      <td>612.000000</td>\n",
              "      <td>0.939950</td>\n",
              "      <td>40.913060</td>\n",
              "      <td>-73.719280</td>\n",
              "      <td>1.000000</td>\n",
              "    </tr>\n",
              "  </tbody>\n",
              "</table>\n",
              "</div>"
            ],
            "text/plain": [
              "         listing_id       host_id  ...    longitude     is_rated\n",
              "count  9.778000e+03  9.778000e+03  ...  9778.000000  9778.000000\n",
              "mean   1.930078e+07  6.807826e+07  ...   -73.952046     0.792596\n",
              "std    1.095415e+07  7.869506e+07  ...     0.045837     0.405468\n",
              "min    3.831000e+03  2.787000e+03  ...   -74.239860     0.000000\n",
              "25%    9.696668e+06  7.952219e+06  ...   -73.983030     1.000000\n",
              "50%    2.012299e+07  3.167018e+07  ...   -73.955580     1.000000\n",
              "75%    2.938694e+07  1.074344e+08  ...   -73.936217     1.000000\n",
              "max    3.648724e+07  2.741034e+08  ...   -73.719280     1.000000\n",
              "\n",
              "[8 rows x 12 columns]"
            ]
          },
          "metadata": {
            "tags": []
          },
          "execution_count": 55
        }
      ]
    },
    {
      "cell_type": "markdown",
      "metadata": {
        "id": "qxAJtTZ4hEtv",
        "colab_type": "text"
      },
      "source": [
        "From a common sense perspective, the most predictive factor for a room's price is the `room_type` column, so let's visualize how price varies by room type with `sns.boxplot()` which displays the following information:\n",
        "\n",
        "\n",
        "<p align=\"center\">\n",
        "<img src=\"https://github.com/adelnehme/cleaning-data-in-python-live-training/blob/master/boxplot.png?raw=true\" alt = \"DataCamp icon\" width=\"80%\">\n",
        "</p>\n",
        "\n",
        "\n"
      ]
    },
    {
      "cell_type": "code",
      "metadata": {
        "id": "CdHj-mMDtgRE",
        "colab_type": "code",
        "outputId": "79d9d7ce-e733-4b56-8f29-3acca020dabe",
        "colab": {
          "base_uri": "https://localhost:8080/",
          "height": 284
        }
      },
      "source": [
        "# Visualize relationship between price and room_type\n",
        "sns.boxplot(x = 'room_type', y = 'price', data = airbnb)\n",
        "plt.ylim(0, 400) #takes in minimum value i want on y axis and max\n",
        "plt.show()"
      ],
      "execution_count": 0,
      "outputs": [
        {
          "output_type": "display_data",
          "data": {
            "image/png": "[encoded data removed]",
            "text/plain": [
              "<Figure size 432x288 with 1 Axes>"
            ]
          },
          "metadata": {
            "tags": []
          }
        }
      ]
    },
    {
      "cell_type": "code",
      "metadata": {
        "id": "GzAmpxWzsqRb",
        "colab_type": "code",
        "outputId": "0090b0ff-d831-415a-e98f-d15ceac379f9",
        "colab": {
          "base_uri": "https://localhost:8080/",
          "height": 99
        }
      },
      "source": [
        "# Get median price per room_type\n",
        "airbnb.groupby('room_type').median()['price']\n",
        "\n",
        "#first part returns dataframe!!! ['price] is dataframe argument!! pandas chaining ftw"
      ],
      "execution_count": 0,
      "outputs": [
        {
          "output_type": "execute_result",
          "data": {
            "text/plain": [
              "room_type\n",
              "Entire Place    163.0\n",
              "Private Room     70.0\n",
              "Shared Room      50.0\n",
              "Name: price, dtype: float64"
            ]
          },
          "metadata": {
            "tags": []
          },
          "execution_count": 59
        }
      ]
    },
    {
      "cell_type": "code",
      "metadata": {
        "id": "AmaKYXPRypq7",
        "colab_type": "code",
        "colab": {}
      },
      "source": [
        "# Impute price based on conditions\n",
        "airbnb.loc[(airbnb['price'].isna()) & (airbnb['room_type'] == 'Private Room'), 'price']=70.0\n",
        "airbnb.loc[(airbnb['price'].isna()) & (airbnb['room_type'] == 'Entire Place'), 'price']=163.0\n",
        "airbnb.loc[(airbnb['price'].isna()) & (airbnb['room_type'] == 'Shared Room'), 'price']=50.0\n"
      ],
      "execution_count": 0,
      "outputs": []
    },
    {
      "cell_type": "code",
      "metadata": {
        "id": "bTJafaijzDkc",
        "colab_type": "code",
        "outputId": "533d131d-b7d8-4442-90ef-c6c7e7071e6a",
        "colab": {
          "base_uri": "https://localhost:8080/",
          "height": 348
        }
      },
      "source": [
        "# Confirm price has been imputed\n",
        "airbnb.isna().sum()"
      ],
      "execution_count": 0,
      "outputs": [
        {
          "output_type": "execute_result",
          "data": {
            "text/plain": [
              "listing_id              0\n",
              "name                    5\n",
              "host_id                 0\n",
              "host_name               2\n",
              "room_type               0\n",
              "price                   0\n",
              "number_of_reviews       0\n",
              "last_review          2075\n",
              "reviews_per_month       0\n",
              "availability_365        0\n",
              "rating               2075\n",
              "number_of_stays         0\n",
              "5_stars                 0\n",
              "listing_added           0\n",
              "latitude                0\n",
              "longitude               0\n",
              "borough                 0\n",
              "neighbourhood           0\n",
              "is_rated                0\n",
              "dtype: int64"
            ]
          },
          "metadata": {
            "tags": []
          },
          "execution_count": 61
        }
      ]
    },
    {
      "cell_type": "markdown",
      "metadata": {
        "id": "VnxYYabO0Bdt",
        "colab_type": "text"
      },
      "source": [
        "### What's still to be done?"
      ]
    },
    {
      "cell_type": "markdown",
      "metadata": {
        "id": "q2cyXCxk0VP3",
        "colab_type": "text"
      },
      "source": [
        "Albeit we've done a significant amount of data cleaning tasks, there are still a couple of problems we have yet to diagnose. When cleaning data, we need to consider:\n",
        "\n",
        "- Values that do not make any sense *(for example: are there values of `last_review` that older than `listing_added`? Are there listings in the future?*)\n",
        "- Presence of duplicates values - and how to deal with them?"
      ]
    },
    {
      "cell_type": "markdown",
      "metadata": {
        "id": "KGpasg3L6Je4",
        "colab_type": "text"
      },
      "source": [
        "##### **Task 8:** Do we have consistent date data?"
      ]
    },
    {
      "cell_type": "code",
      "metadata": {
        "id": "jT_hz8Dj0EhB",
        "colab_type": "code",
        "outputId": "805a7dff-4f49-4427-e506-98ece5d10aee",
        "colab": {
          "base_uri": "https://localhost:8080/",
          "height": 33
        }
      },
      "source": [
        "# Doing some sanity checks on date data\n",
        "today = dt.date.today()\n",
        "today"
      ],
      "execution_count": 0,
      "outputs": [
        {
          "output_type": "execute_result",
          "data": {
            "text/plain": [
              "datetime.date(2020, 4, 8)"
            ]
          },
          "metadata": {
            "tags": []
          },
          "execution_count": 62
        }
      ]
    },
    {
      "cell_type": "code",
      "metadata": {
        "id": "pUKi4Dbi27Zb",
        "colab_type": "code",
        "outputId": "30ec98be-fde4-46eb-e444-9e9f67a2e6c2",
        "colab": {
          "base_uri": "https://localhost:8080/",
          "height": 68
        }
      },
      "source": [
        "# Are there reviews in the future?\n",
        "airbnb[airbnb['last_review'].dt.date > today]\n",
        "#any reviews after today?"
      ],
      "execution_count": 0,
      "outputs": [
        {
          "output_type": "execute_result",
          "data": {
            "text/html": [
              "<div>\n",
              "<style scoped>\n",
              "    .dataframe tbody tr th:only-of-type {\n",
              "        vertical-align: middle;\n",
              "    }\n",
              "\n",
              "    .dataframe tbody tr th {\n",
              "        vertical-align: top;\n",
              "    }\n",
              "\n",
              "    .dataframe thead th {\n",
              "        text-align: right;\n",
              "    }\n",
              "</style>\n",
              "<table border=\"1\" class=\"dataframe\">\n",
              "  <thead>\n",
              "    <tr style=\"text-align: right;\">\n",
              "      <th></th>\n",
              "      <th>listing_id</th>\n",
              "      <th>name</th>\n",
              "      <th>host_id</th>\n",
              "      <th>host_name</th>\n",
              "      <th>room_type</th>\n",
              "      <th>price</th>\n",
              "      <th>number_of_reviews</th>\n",
              "      <th>last_review</th>\n",
              "      <th>reviews_per_month</th>\n",
              "      <th>availability_365</th>\n",
              "      <th>rating</th>\n",
              "      <th>number_of_stays</th>\n",
              "      <th>5_stars</th>\n",
              "      <th>listing_added</th>\n",
              "      <th>latitude</th>\n",
              "      <th>longitude</th>\n",
              "      <th>borough</th>\n",
              "      <th>neighbourhood</th>\n",
              "      <th>is_rated</th>\n",
              "    </tr>\n",
              "  </thead>\n",
              "  <tbody>\n",
              "  </tbody>\n",
              "</table>\n",
              "</div>"
            ],
            "text/plain": [
              "Empty DataFrame\n",
              "Columns: [listing_id, name, host_id, host_name, room_type, price, number_of_reviews, last_review, reviews_per_month, availability_365, rating, number_of_stays, 5_stars, listing_added, latitude, longitude, borough, neighbourhood, is_rated]\n",
              "Index: []"
            ]
          },
          "metadata": {
            "tags": []
          },
          "execution_count": 63
        }
      ]
    },
    {
      "cell_type": "code",
      "metadata": {
        "id": "dZO_yoOZ2-jf",
        "colab_type": "code",
        "outputId": "1cd6cef7-b91d-4c85-9544-d2e2cff44462",
        "colab": {
          "base_uri": "https://localhost:8080/",
          "height": 489
        }
      },
      "source": [
        "# Are there listings in the future?\n",
        "airbnb[airbnb['listing_added'].dt.date > today]\n"
      ],
      "execution_count": 0,
      "outputs": [
        {
          "output_type": "execute_result",
          "data": {
            "text/html": [
              "<div>\n",
              "<style scoped>\n",
              "    .dataframe tbody tr th:only-of-type {\n",
              "        vertical-align: middle;\n",
              "    }\n",
              "\n",
              "    .dataframe tbody tr th {\n",
              "        vertical-align: top;\n",
              "    }\n",
              "\n",
              "    .dataframe thead th {\n",
              "        text-align: right;\n",
              "    }\n",
              "</style>\n",
              "<table border=\"1\" class=\"dataframe\">\n",
              "  <thead>\n",
              "    <tr style=\"text-align: right;\">\n",
              "      <th></th>\n",
              "      <th>listing_id</th>\n",
              "      <th>name</th>\n",
              "      <th>host_id</th>\n",
              "      <th>host_name</th>\n",
              "      <th>room_type</th>\n",
              "      <th>price</th>\n",
              "      <th>number_of_reviews</th>\n",
              "      <th>last_review</th>\n",
              "      <th>reviews_per_month</th>\n",
              "      <th>availability_365</th>\n",
              "      <th>rating</th>\n",
              "      <th>number_of_stays</th>\n",
              "      <th>5_stars</th>\n",
              "      <th>listing_added</th>\n",
              "      <th>latitude</th>\n",
              "      <th>longitude</th>\n",
              "      <th>borough</th>\n",
              "      <th>neighbourhood</th>\n",
              "      <th>is_rated</th>\n",
              "    </tr>\n",
              "  </thead>\n",
              "  <tbody>\n",
              "    <tr>\n",
              "      <th>4</th>\n",
              "      <td>22986519</td>\n",
              "      <td>Bedroom on the lively Lower East Side</td>\n",
              "      <td>154262349</td>\n",
              "      <td>Brooke</td>\n",
              "      <td>Private Room</td>\n",
              "      <td>160.0</td>\n",
              "      <td>23</td>\n",
              "      <td>2019-06-12</td>\n",
              "      <td>2.29</td>\n",
              "      <td>102</td>\n",
              "      <td>3.822591</td>\n",
              "      <td>27.6</td>\n",
              "      <td>0.649383</td>\n",
              "      <td>2020-10-23</td>\n",
              "      <td>40.71884</td>\n",
              "      <td>-73.98354</td>\n",
              "      <td>Manhattan</td>\n",
              "      <td>Lower East Side</td>\n",
              "      <td>1</td>\n",
              "    </tr>\n",
              "    <tr>\n",
              "      <th>124</th>\n",
              "      <td>28659894</td>\n",
              "      <td>Private bedroom in prime Bushwick! Near Trains!!!</td>\n",
              "      <td>216235179</td>\n",
              "      <td>Nina</td>\n",
              "      <td>Private Room</td>\n",
              "      <td>55.0</td>\n",
              "      <td>4</td>\n",
              "      <td>2019-04-12</td>\n",
              "      <td>0.58</td>\n",
              "      <td>358</td>\n",
              "      <td>4.916252</td>\n",
              "      <td>4.8</td>\n",
              "      <td>0.703117</td>\n",
              "      <td>2020-08-23</td>\n",
              "      <td>40.69988</td>\n",
              "      <td>-73.92072</td>\n",
              "      <td>Brooklyn</td>\n",
              "      <td>Bushwick</td>\n",
              "      <td>1</td>\n",
              "    </tr>\n",
              "    <tr>\n",
              "      <th>511</th>\n",
              "      <td>33619855</td>\n",
              "      <td>Modern &amp; Spacious in trendy Crown Heights</td>\n",
              "      <td>253354074</td>\n",
              "      <td>Yehudis</td>\n",
              "      <td>Entire Place</td>\n",
              "      <td>150.0</td>\n",
              "      <td>6</td>\n",
              "      <td>2019-05-27</td>\n",
              "      <td>2.50</td>\n",
              "      <td>148</td>\n",
              "      <td>3.462432</td>\n",
              "      <td>7.2</td>\n",
              "      <td>0.610929</td>\n",
              "      <td>2020-10-07</td>\n",
              "      <td>40.66387</td>\n",
              "      <td>-73.93840</td>\n",
              "      <td>Brooklyn</td>\n",
              "      <td>Crown Heights</td>\n",
              "      <td>1</td>\n",
              "    </tr>\n",
              "    <tr>\n",
              "      <th>521</th>\n",
              "      <td>25317793</td>\n",
              "      <td>Awesome Cozy Room in The Heart of Sunnyside!</td>\n",
              "      <td>136406167</td>\n",
              "      <td>Kara</td>\n",
              "      <td>Private Room</td>\n",
              "      <td>65.0</td>\n",
              "      <td>22</td>\n",
              "      <td>2019-06-11</td>\n",
              "      <td>1.63</td>\n",
              "      <td>131</td>\n",
              "      <td>4.442485</td>\n",
              "      <td>26.4</td>\n",
              "      <td>0.722388</td>\n",
              "      <td>2020-10-22</td>\n",
              "      <td>40.74090</td>\n",
              "      <td>-73.92696</td>\n",
              "      <td>Queens</td>\n",
              "      <td>Sunnyside</td>\n",
              "      <td>1</td>\n",
              "    </tr>\n",
              "  </tbody>\n",
              "</table>\n",
              "</div>"
            ],
            "text/plain": [
              "     listing_id  ... is_rated\n",
              "4      22986519  ...        1\n",
              "124    28659894  ...        1\n",
              "511    33619855  ...        1\n",
              "521    25317793  ...        1\n",
              "\n",
              "[4 rows x 19 columns]"
            ]
          },
          "metadata": {
            "tags": []
          },
          "execution_count": 64
        }
      ]
    },
    {
      "cell_type": "code",
      "metadata": {
        "id": "3xJUlJFm3cmc",
        "colab_type": "code",
        "colab": {}
      },
      "source": [
        "# Drop these rows since they are only 4 rows\n",
        "airbnb = airbnb[~(airbnb['listing_added'].dt.date >today)]"
      ],
      "execution_count": 0,
      "outputs": []
    },
    {
      "cell_type": "code",
      "metadata": {
        "id": "BvqMxmux4e_Q",
        "colab_type": "code",
        "outputId": "ff7b6f27-67e5-4298-8247-04ca6d8b8dfe",
        "colab": {
          "base_uri": "https://localhost:8080/",
          "height": 245
        }
      },
      "source": [
        "# Are there any listings with listing_added > last_review\n",
        "inconsistent_dates = airbnb[airbnb['listing_added'].dt.date > airbnb['last_review'].dt.date]\n",
        "inconsistent_dates\n"
      ],
      "execution_count": 0,
      "outputs": [
        {
          "output_type": "execute_result",
          "data": {
            "text/html": [
              "<div>\n",
              "<style scoped>\n",
              "    .dataframe tbody tr th:only-of-type {\n",
              "        vertical-align: middle;\n",
              "    }\n",
              "\n",
              "    .dataframe tbody tr th {\n",
              "        vertical-align: top;\n",
              "    }\n",
              "\n",
              "    .dataframe thead th {\n",
              "        text-align: right;\n",
              "    }\n",
              "</style>\n",
              "<table border=\"1\" class=\"dataframe\">\n",
              "  <thead>\n",
              "    <tr style=\"text-align: right;\">\n",
              "      <th></th>\n",
              "      <th>listing_id</th>\n",
              "      <th>name</th>\n",
              "      <th>host_id</th>\n",
              "      <th>host_name</th>\n",
              "      <th>room_type</th>\n",
              "      <th>price</th>\n",
              "      <th>number_of_reviews</th>\n",
              "      <th>last_review</th>\n",
              "      <th>reviews_per_month</th>\n",
              "      <th>availability_365</th>\n",
              "      <th>rating</th>\n",
              "      <th>number_of_stays</th>\n",
              "      <th>5_stars</th>\n",
              "      <th>listing_added</th>\n",
              "      <th>latitude</th>\n",
              "      <th>longitude</th>\n",
              "      <th>borough</th>\n",
              "      <th>neighbourhood</th>\n",
              "      <th>is_rated</th>\n",
              "    </tr>\n",
              "  </thead>\n",
              "  <tbody>\n",
              "    <tr>\n",
              "      <th>50</th>\n",
              "      <td>20783900</td>\n",
              "      <td>Marvelous Manhattan Marble Hill Private Suites</td>\n",
              "      <td>148960265</td>\n",
              "      <td>Randy</td>\n",
              "      <td>Private Room</td>\n",
              "      <td>93.0</td>\n",
              "      <td>7</td>\n",
              "      <td>2018-10-06</td>\n",
              "      <td>0.32</td>\n",
              "      <td>0</td>\n",
              "      <td>4.868036</td>\n",
              "      <td>8.4</td>\n",
              "      <td>0.609263</td>\n",
              "      <td>2020-02-17</td>\n",
              "      <td>40.87618</td>\n",
              "      <td>-73.91266</td>\n",
              "      <td>Manhattan</td>\n",
              "      <td>Marble Hill</td>\n",
              "      <td>1</td>\n",
              "    </tr>\n",
              "    <tr>\n",
              "      <th>60</th>\n",
              "      <td>1908852</td>\n",
              "      <td>Oversized Studio By Columbus Circle</td>\n",
              "      <td>684629</td>\n",
              "      <td>Alana</td>\n",
              "      <td>Entire Place</td>\n",
              "      <td>189.0</td>\n",
              "      <td>7</td>\n",
              "      <td>2016-05-06</td>\n",
              "      <td>0.13</td>\n",
              "      <td>0</td>\n",
              "      <td>4.841204</td>\n",
              "      <td>8.4</td>\n",
              "      <td>0.725995</td>\n",
              "      <td>2017-09-17</td>\n",
              "      <td>40.77060</td>\n",
              "      <td>-73.98919</td>\n",
              "      <td>Manhattan</td>\n",
              "      <td>Upper West Side</td>\n",
              "      <td>1</td>\n",
              "    </tr>\n",
              "  </tbody>\n",
              "</table>\n",
              "</div>"
            ],
            "text/plain": [
              "    listing_id  ... is_rated\n",
              "50    20783900  ...        1\n",
              "60     1908852  ...        1\n",
              "\n",
              "[2 rows x 19 columns]"
            ]
          },
          "metadata": {
            "tags": []
          },
          "execution_count": 66
        }
      ]
    },
    {
      "cell_type": "code",
      "metadata": {
        "id": "cCziTT7T4xbT",
        "colab_type": "code",
        "colab": {}
      },
      "source": [
        "# Drop these rows since they are only 2 rows\n",
        "airbnb.drop(inconsistent_dates.index, inplace=True)"
      ],
      "execution_count": 0,
      "outputs": []
    },
    {
      "cell_type": "markdown",
      "metadata": {
        "id": "JD1ChXPF6BR7",
        "colab_type": "text"
      },
      "source": [
        "##### **Task 9:** Let's deal with duplicate data"
      ]
    },
    {
      "cell_type": "markdown",
      "metadata": {
        "id": "hz9oQHyt8KmO",
        "colab_type": "text"
      },
      "source": [
        "\n",
        "There are two notable types of duplicate data:\n",
        "\n",
        "- Identical duplicate data across all columns\n",
        "- Identical duplicate data cross most or some columns\n",
        "\n",
        "To diagnose, and deal with duplicate data, we will be using the following methods and functions:\n",
        "\n",
        "- `.duplicated(subset = , keep = )`\n",
        "  - `subset` lets us pick one or more columns with duplicate values.\n",
        "  - `keep` returns lets us return all instances of duplicate values.\n",
        "- `.drop_duplicates(subset = , keep = )`\n",
        "  "
      ]
    },
    {
      "cell_type": "code",
      "metadata": {
        "id": "_m3Gdg7x6ATJ",
        "colab_type": "code",
        "outputId": "4d5639fe-e428-447e-e939-e2f64f3c30fd",
        "colab": {
          "base_uri": "https://localhost:8080/",
          "height": 453
        }
      },
      "source": [
        "# Print the header of the DataFrame again\n",
        "airbnb.head()"
      ],
      "execution_count": 0,
      "outputs": [
        {
          "output_type": "execute_result",
          "data": {
            "text/html": [
              "<div>\n",
              "<style scoped>\n",
              "    .dataframe tbody tr th:only-of-type {\n",
              "        vertical-align: middle;\n",
              "    }\n",
              "\n",
              "    .dataframe tbody tr th {\n",
              "        vertical-align: top;\n",
              "    }\n",
              "\n",
              "    .dataframe thead th {\n",
              "        text-align: right;\n",
              "    }\n",
              "</style>\n",
              "<table border=\"1\" class=\"dataframe\">\n",
              "  <thead>\n",
              "    <tr style=\"text-align: right;\">\n",
              "      <th></th>\n",
              "      <th>listing_id</th>\n",
              "      <th>name</th>\n",
              "      <th>host_id</th>\n",
              "      <th>host_name</th>\n",
              "      <th>room_type</th>\n",
              "      <th>price</th>\n",
              "      <th>number_of_reviews</th>\n",
              "      <th>last_review</th>\n",
              "      <th>reviews_per_month</th>\n",
              "      <th>availability_365</th>\n",
              "      <th>rating</th>\n",
              "      <th>number_of_stays</th>\n",
              "      <th>5_stars</th>\n",
              "      <th>listing_added</th>\n",
              "      <th>latitude</th>\n",
              "      <th>longitude</th>\n",
              "      <th>borough</th>\n",
              "      <th>neighbourhood</th>\n",
              "      <th>is_rated</th>\n",
              "    </tr>\n",
              "  </thead>\n",
              "  <tbody>\n",
              "    <tr>\n",
              "      <th>0</th>\n",
              "      <td>13740704</td>\n",
              "      <td>Cozy,budget friendly, cable inc, private entra...</td>\n",
              "      <td>20583125</td>\n",
              "      <td>Michel</td>\n",
              "      <td>Private Room</td>\n",
              "      <td>45.0</td>\n",
              "      <td>10</td>\n",
              "      <td>2018-12-12</td>\n",
              "      <td>0.70</td>\n",
              "      <td>85</td>\n",
              "      <td>4.100954</td>\n",
              "      <td>12.0</td>\n",
              "      <td>0.609432</td>\n",
              "      <td>2018-06-08</td>\n",
              "      <td>40.63222</td>\n",
              "      <td>-73.93398</td>\n",
              "      <td>Brooklyn</td>\n",
              "      <td>Flatlands</td>\n",
              "      <td>1</td>\n",
              "    </tr>\n",
              "    <tr>\n",
              "      <th>1</th>\n",
              "      <td>22005115</td>\n",
              "      <td>Two floor apartment near Central Park</td>\n",
              "      <td>82746113</td>\n",
              "      <td>Cecilia</td>\n",
              "      <td>Entire Place</td>\n",
              "      <td>135.0</td>\n",
              "      <td>1</td>\n",
              "      <td>2019-06-30</td>\n",
              "      <td>1.00</td>\n",
              "      <td>145</td>\n",
              "      <td>3.367600</td>\n",
              "      <td>1.2</td>\n",
              "      <td>0.746135</td>\n",
              "      <td>2018-12-25</td>\n",
              "      <td>40.78761</td>\n",
              "      <td>-73.96862</td>\n",
              "      <td>Manhattan</td>\n",
              "      <td>Upper West Side</td>\n",
              "      <td>1</td>\n",
              "    </tr>\n",
              "    <tr>\n",
              "      <th>2</th>\n",
              "      <td>21667615</td>\n",
              "      <td>Beautiful 1BR in Brooklyn Heights</td>\n",
              "      <td>78251</td>\n",
              "      <td>Leslie</td>\n",
              "      <td>Entire Place</td>\n",
              "      <td>150.0</td>\n",
              "      <td>0</td>\n",
              "      <td>NaT</td>\n",
              "      <td>0.00</td>\n",
              "      <td>65</td>\n",
              "      <td>NaN</td>\n",
              "      <td>0.0</td>\n",
              "      <td>0.000000</td>\n",
              "      <td>2018-08-15</td>\n",
              "      <td>40.70070</td>\n",
              "      <td>-73.99517</td>\n",
              "      <td>Brooklyn</td>\n",
              "      <td>Brooklyn Heights</td>\n",
              "      <td>0</td>\n",
              "    </tr>\n",
              "    <tr>\n",
              "      <th>3</th>\n",
              "      <td>6425850</td>\n",
              "      <td>Spacious, charming studio</td>\n",
              "      <td>32715865</td>\n",
              "      <td>Yelena</td>\n",
              "      <td>Entire Place</td>\n",
              "      <td>86.0</td>\n",
              "      <td>5</td>\n",
              "      <td>2017-09-23</td>\n",
              "      <td>0.13</td>\n",
              "      <td>0</td>\n",
              "      <td>4.763203</td>\n",
              "      <td>6.0</td>\n",
              "      <td>0.769947</td>\n",
              "      <td>2017-03-20</td>\n",
              "      <td>40.79169</td>\n",
              "      <td>-73.97498</td>\n",
              "      <td>Manhattan</td>\n",
              "      <td>Upper West Side</td>\n",
              "      <td>1</td>\n",
              "    </tr>\n",
              "    <tr>\n",
              "      <th>5</th>\n",
              "      <td>271954</td>\n",
              "      <td>Beautiful brownstone apartment</td>\n",
              "      <td>1423798</td>\n",
              "      <td>Aj</td>\n",
              "      <td>Entire Place</td>\n",
              "      <td>150.0</td>\n",
              "      <td>203</td>\n",
              "      <td>2019-06-20</td>\n",
              "      <td>2.22</td>\n",
              "      <td>300</td>\n",
              "      <td>4.478396</td>\n",
              "      <td>243.6</td>\n",
              "      <td>0.743500</td>\n",
              "      <td>2018-12-15</td>\n",
              "      <td>40.73388</td>\n",
              "      <td>-73.99452</td>\n",
              "      <td>Manhattan</td>\n",
              "      <td>Greenwich Village</td>\n",
              "      <td>1</td>\n",
              "    </tr>\n",
              "  </tbody>\n",
              "</table>\n",
              "</div>"
            ],
            "text/plain": [
              "   listing_id  ... is_rated\n",
              "0    13740704  ...        1\n",
              "1    22005115  ...        1\n",
              "2    21667615  ...        0\n",
              "3     6425850  ...        1\n",
              "5      271954  ...        1\n",
              "\n",
              "[5 rows x 19 columns]"
            ]
          },
          "metadata": {
            "tags": []
          },
          "execution_count": 68
        }
      ]
    },
    {
      "cell_type": "code",
      "metadata": {
        "id": "EzT8q3SCIW7w",
        "colab_type": "code",
        "outputId": "4b6dd6ab-2dec-49de-f532-1539d592e19c",
        "colab": {
          "base_uri": "https://localhost:8080/",
          "height": 216
        }
      },
      "source": [
        "# Find duplicates\n",
        "\n",
        "duplicates = airbnb.duplicated(subset = 'listing_id', keep = False)\n",
        "print(duplicates)"
      ],
      "execution_count": 0,
      "outputs": [
        {
          "output_type": "stream",
          "text": [
            "0        False\n",
            "1        False\n",
            "2        False\n",
            "3        False\n",
            "5        False\n",
            "         ...  \n",
            "10014    False\n",
            "10015    False\n",
            "10016    False\n",
            "10017    False\n",
            "10018    False\n",
            "Length: 10010, dtype: bool\n"
          ],
          "name": "stdout"
        }
      ]
    },
    {
      "cell_type": "code",
      "metadata": {
        "id": "pqVxdea4Ik5g",
        "colab_type": "code",
        "outputId": "9a9f2e09-1c7e-40f2-c787-b64244c12970",
        "colab": {
          "base_uri": "https://localhost:8080/",
          "height": 1000
        }
      },
      "source": [
        "# Find duplicates\n",
        "airbnb[duplicates].sort_values('listing_id')"
      ],
      "execution_count": 0,
      "outputs": [
        {
          "output_type": "execute_result",
          "data": {
            "text/html": [
              "<div>\n",
              "<style scoped>\n",
              "    .dataframe tbody tr th:only-of-type {\n",
              "        vertical-align: middle;\n",
              "    }\n",
              "\n",
              "    .dataframe tbody tr th {\n",
              "        vertical-align: top;\n",
              "    }\n",
              "\n",
              "    .dataframe thead th {\n",
              "        text-align: right;\n",
              "    }\n",
              "</style>\n",
              "<table border=\"1\" class=\"dataframe\">\n",
              "  <thead>\n",
              "    <tr style=\"text-align: right;\">\n",
              "      <th></th>\n",
              "      <th>listing_id</th>\n",
              "      <th>name</th>\n",
              "      <th>host_id</th>\n",
              "      <th>host_name</th>\n",
              "      <th>room_type</th>\n",
              "      <th>price</th>\n",
              "      <th>number_of_reviews</th>\n",
              "      <th>last_review</th>\n",
              "      <th>reviews_per_month</th>\n",
              "      <th>availability_365</th>\n",
              "      <th>rating</th>\n",
              "      <th>number_of_stays</th>\n",
              "      <th>5_stars</th>\n",
              "      <th>listing_added</th>\n",
              "      <th>latitude</th>\n",
              "      <th>longitude</th>\n",
              "      <th>borough</th>\n",
              "      <th>neighbourhood</th>\n",
              "      <th>is_rated</th>\n",
              "    </tr>\n",
              "  </thead>\n",
              "  <tbody>\n",
              "    <tr>\n",
              "      <th>1145</th>\n",
              "      <td>253806</td>\n",
              "      <td>Loft Suite @ The Box House Hotel</td>\n",
              "      <td>417504</td>\n",
              "      <td>The Box House Hotel</td>\n",
              "      <td>Entire Place</td>\n",
              "      <td>199.0</td>\n",
              "      <td>43</td>\n",
              "      <td>2019-07-02</td>\n",
              "      <td>0.47</td>\n",
              "      <td>60</td>\n",
              "      <td>4.620238</td>\n",
              "      <td>51.6</td>\n",
              "      <td>0.861086</td>\n",
              "      <td>2018-12-27</td>\n",
              "      <td>40.73652</td>\n",
              "      <td>-73.95236</td>\n",
              "      <td>Brooklyn</td>\n",
              "      <td>Greenpoint</td>\n",
              "      <td>1</td>\n",
              "    </tr>\n",
              "    <tr>\n",
              "      <th>6562</th>\n",
              "      <td>253806</td>\n",
              "      <td>Loft Suite @ The Box House Hotel</td>\n",
              "      <td>417504</td>\n",
              "      <td>The Box House Hotel</td>\n",
              "      <td>Entire Place</td>\n",
              "      <td>199.0</td>\n",
              "      <td>43</td>\n",
              "      <td>2019-07-02</td>\n",
              "      <td>0.47</td>\n",
              "      <td>60</td>\n",
              "      <td>4.620238</td>\n",
              "      <td>51.6</td>\n",
              "      <td>0.861086</td>\n",
              "      <td>2018-12-27</td>\n",
              "      <td>40.73652</td>\n",
              "      <td>-73.95236</td>\n",
              "      <td>Brooklyn</td>\n",
              "      <td>Greenpoint</td>\n",
              "      <td>1</td>\n",
              "    </tr>\n",
              "    <tr>\n",
              "      <th>8699</th>\n",
              "      <td>2044392</td>\n",
              "      <td>The heart of Williamsburg 2 bedroom</td>\n",
              "      <td>620218</td>\n",
              "      <td>Sarah</td>\n",
              "      <td>Entire Place</td>\n",
              "      <td>245.0</td>\n",
              "      <td>0</td>\n",
              "      <td>NaT</td>\n",
              "      <td>0.00</td>\n",
              "      <td>0</td>\n",
              "      <td>NaN</td>\n",
              "      <td>0.0</td>\n",
              "      <td>0.000000</td>\n",
              "      <td>2018-08-09</td>\n",
              "      <td>40.71257</td>\n",
              "      <td>-73.96149</td>\n",
              "      <td>Brooklyn</td>\n",
              "      <td>Williamsburg</td>\n",
              "      <td>0</td>\n",
              "    </tr>\n",
              "    <tr>\n",
              "      <th>5761</th>\n",
              "      <td>2044392</td>\n",
              "      <td>The heart of Williamsburg 2 bedroom</td>\n",
              "      <td>620218</td>\n",
              "      <td>Sarah</td>\n",
              "      <td>Entire Place</td>\n",
              "      <td>250.0</td>\n",
              "      <td>0</td>\n",
              "      <td>NaT</td>\n",
              "      <td>0.00</td>\n",
              "      <td>0</td>\n",
              "      <td>NaN</td>\n",
              "      <td>0.0</td>\n",
              "      <td>0.000000</td>\n",
              "      <td>2018-05-24</td>\n",
              "      <td>40.71257</td>\n",
              "      <td>-73.96149</td>\n",
              "      <td>Brooklyn</td>\n",
              "      <td>Williamsburg</td>\n",
              "      <td>0</td>\n",
              "    </tr>\n",
              "    <tr>\n",
              "      <th>4187</th>\n",
              "      <td>4244242</td>\n",
              "      <td>Best Bedroom in Bedstuy/Bushwick. Ensuite bath...</td>\n",
              "      <td>22023014</td>\n",
              "      <td>BrooklynSleeps</td>\n",
              "      <td>Private Room</td>\n",
              "      <td>73.0</td>\n",
              "      <td>110</td>\n",
              "      <td>2019-06-23</td>\n",
              "      <td>1.96</td>\n",
              "      <td>323</td>\n",
              "      <td>4.962314</td>\n",
              "      <td>132.0</td>\n",
              "      <td>0.809882</td>\n",
              "      <td>2018-12-18</td>\n",
              "      <td>40.69496</td>\n",
              "      <td>-73.93949</td>\n",
              "      <td>Brooklyn</td>\n",
              "      <td>Bedford-Stuyvesant</td>\n",
              "      <td>1</td>\n",
              "    </tr>\n",
              "    <tr>\n",
              "      <th>2871</th>\n",
              "      <td>4244242</td>\n",
              "      <td>Best Bedroom in Bedstuy/Bushwick. Ensuite bath...</td>\n",
              "      <td>22023014</td>\n",
              "      <td>BrooklynSleeps</td>\n",
              "      <td>Private Room</td>\n",
              "      <td>70.0</td>\n",
              "      <td>110</td>\n",
              "      <td>2019-06-23</td>\n",
              "      <td>1.96</td>\n",
              "      <td>323</td>\n",
              "      <td>4.962314</td>\n",
              "      <td>132.0</td>\n",
              "      <td>0.809882</td>\n",
              "      <td>2018-12-18</td>\n",
              "      <td>40.69496</td>\n",
              "      <td>-73.93949</td>\n",
              "      <td>Brooklyn</td>\n",
              "      <td>Bedford-Stuyvesant</td>\n",
              "      <td>1</td>\n",
              "    </tr>\n",
              "    <tr>\n",
              "      <th>77</th>\n",
              "      <td>7319856</td>\n",
              "      <td>450ft Square Studio in Gramercy NY</td>\n",
              "      <td>11773680</td>\n",
              "      <td>Adam</td>\n",
              "      <td>Entire Place</td>\n",
              "      <td>289.0</td>\n",
              "      <td>4</td>\n",
              "      <td>2016-05-22</td>\n",
              "      <td>0.09</td>\n",
              "      <td>225</td>\n",
              "      <td>3.903764</td>\n",
              "      <td>4.8</td>\n",
              "      <td>0.756381</td>\n",
              "      <td>2015-11-17</td>\n",
              "      <td>40.73813</td>\n",
              "      <td>-73.98098</td>\n",
              "      <td>Manhattan</td>\n",
              "      <td>Kips Bay</td>\n",
              "      <td>1</td>\n",
              "    </tr>\n",
              "    <tr>\n",
              "      <th>2255</th>\n",
              "      <td>7319856</td>\n",
              "      <td>450ft Square Studio in Gramercy NY</td>\n",
              "      <td>11773680</td>\n",
              "      <td>Adam</td>\n",
              "      <td>Entire Place</td>\n",
              "      <td>280.0</td>\n",
              "      <td>4</td>\n",
              "      <td>2016-05-22</td>\n",
              "      <td>0.09</td>\n",
              "      <td>225</td>\n",
              "      <td>3.903764</td>\n",
              "      <td>4.8</td>\n",
              "      <td>0.756381</td>\n",
              "      <td>2015-11-17</td>\n",
              "      <td>40.73813</td>\n",
              "      <td>-73.98098</td>\n",
              "      <td>Manhattan</td>\n",
              "      <td>Kips Bay</td>\n",
              "      <td>1</td>\n",
              "    </tr>\n",
              "    <tr>\n",
              "      <th>555</th>\n",
              "      <td>9078222</td>\n",
              "      <td>Prospect Park 3 bdrm, Sleeps 8 (#2)</td>\n",
              "      <td>47219962</td>\n",
              "      <td>Babajide</td>\n",
              "      <td>Entire Place</td>\n",
              "      <td>154.0</td>\n",
              "      <td>123</td>\n",
              "      <td>2019-07-01</td>\n",
              "      <td>2.74</td>\n",
              "      <td>263</td>\n",
              "      <td>3.466881</td>\n",
              "      <td>147.6</td>\n",
              "      <td>0.738191</td>\n",
              "      <td>2018-12-26</td>\n",
              "      <td>40.66086</td>\n",
              "      <td>-73.96159</td>\n",
              "      <td>Brooklyn</td>\n",
              "      <td>Prospect-Lefferts Gardens</td>\n",
              "      <td>1</td>\n",
              "    </tr>\n",
              "    <tr>\n",
              "      <th>7933</th>\n",
              "      <td>9078222</td>\n",
              "      <td>Prospect Park 3 bdrm, Sleeps 8 (#2)</td>\n",
              "      <td>47219962</td>\n",
              "      <td>Babajide</td>\n",
              "      <td>Entire Place</td>\n",
              "      <td>150.0</td>\n",
              "      <td>123</td>\n",
              "      <td>2019-07-01</td>\n",
              "      <td>2.74</td>\n",
              "      <td>263</td>\n",
              "      <td>3.466881</td>\n",
              "      <td>147.6</td>\n",
              "      <td>0.738191</td>\n",
              "      <td>2018-12-26</td>\n",
              "      <td>40.66086</td>\n",
              "      <td>-73.96159</td>\n",
              "      <td>Brooklyn</td>\n",
              "      <td>Prospect-Lefferts Gardens</td>\n",
              "      <td>1</td>\n",
              "    </tr>\n",
              "    <tr>\n",
              "      <th>1481</th>\n",
              "      <td>15027024</td>\n",
              "      <td>Newly renovated 1bd on lively &amp; historic St Marks</td>\n",
              "      <td>8344620</td>\n",
              "      <td>Ethan</td>\n",
              "      <td>Entire Place</td>\n",
              "      <td>180.0</td>\n",
              "      <td>10</td>\n",
              "      <td>2018-12-31</td>\n",
              "      <td>0.30</td>\n",
              "      <td>0</td>\n",
              "      <td>3.969729</td>\n",
              "      <td>12.0</td>\n",
              "      <td>0.772513</td>\n",
              "      <td>2018-06-27</td>\n",
              "      <td>40.72693</td>\n",
              "      <td>-73.98385</td>\n",
              "      <td>Manhattan</td>\n",
              "      <td>East Village</td>\n",
              "      <td>1</td>\n",
              "    </tr>\n",
              "    <tr>\n",
              "      <th>3430</th>\n",
              "      <td>15027024</td>\n",
              "      <td>Newly renovated 1bd on lively &amp; historic St Marks</td>\n",
              "      <td>8344620</td>\n",
              "      <td>Ethan</td>\n",
              "      <td>Entire Place</td>\n",
              "      <td>180.0</td>\n",
              "      <td>10</td>\n",
              "      <td>2018-12-31</td>\n",
              "      <td>0.30</td>\n",
              "      <td>0</td>\n",
              "      <td>3.869729</td>\n",
              "      <td>12.0</td>\n",
              "      <td>0.772513</td>\n",
              "      <td>2018-06-27</td>\n",
              "      <td>40.72693</td>\n",
              "      <td>-73.98385</td>\n",
              "      <td>Manhattan</td>\n",
              "      <td>East Village</td>\n",
              "      <td>1</td>\n",
              "    </tr>\n",
              "    <tr>\n",
              "      <th>3065</th>\n",
              "      <td>16518377</td>\n",
              "      <td>East Village 1BR Apt with all the amenities</td>\n",
              "      <td>3012457</td>\n",
              "      <td>Cody</td>\n",
              "      <td>Entire Place</td>\n",
              "      <td>200.0</td>\n",
              "      <td>3</td>\n",
              "      <td>2018-07-10</td>\n",
              "      <td>0.16</td>\n",
              "      <td>0</td>\n",
              "      <td>4.676670</td>\n",
              "      <td>3.6</td>\n",
              "      <td>0.694443</td>\n",
              "      <td>2018-01-04</td>\n",
              "      <td>40.72350</td>\n",
              "      <td>-73.97963</td>\n",
              "      <td>Manhattan</td>\n",
              "      <td>East Village</td>\n",
              "      <td>1</td>\n",
              "    </tr>\n",
              "    <tr>\n",
              "      <th>5397</th>\n",
              "      <td>16518377</td>\n",
              "      <td>East Village 1BR Apt with all the amenities</td>\n",
              "      <td>3012457</td>\n",
              "      <td>Cody</td>\n",
              "      <td>Entire Place</td>\n",
              "      <td>200.0</td>\n",
              "      <td>3</td>\n",
              "      <td>2018-07-10</td>\n",
              "      <td>0.16</td>\n",
              "      <td>0</td>\n",
              "      <td>4.676670</td>\n",
              "      <td>3.6</td>\n",
              "      <td>0.694443</td>\n",
              "      <td>2018-01-04</td>\n",
              "      <td>40.72350</td>\n",
              "      <td>-73.97963</td>\n",
              "      <td>Manhattan</td>\n",
              "      <td>East Village</td>\n",
              "      <td>1</td>\n",
              "    </tr>\n",
              "    <tr>\n",
              "      <th>3007</th>\n",
              "      <td>17861841</td>\n",
              "      <td>THE CREATIVE COZY ROOM</td>\n",
              "      <td>47591528</td>\n",
              "      <td>Janessa</td>\n",
              "      <td>Private Room</td>\n",
              "      <td>99.0</td>\n",
              "      <td>13</td>\n",
              "      <td>2019-05-23</td>\n",
              "      <td>0.52</td>\n",
              "      <td>82</td>\n",
              "      <td>4.806590</td>\n",
              "      <td>15.6</td>\n",
              "      <td>0.937422</td>\n",
              "      <td>2018-11-17</td>\n",
              "      <td>40.59211</td>\n",
              "      <td>-73.94127</td>\n",
              "      <td>Brooklyn</td>\n",
              "      <td>Sheepshead Bay</td>\n",
              "      <td>1</td>\n",
              "    </tr>\n",
              "    <tr>\n",
              "      <th>368</th>\n",
              "      <td>17861841</td>\n",
              "      <td>THE CREATIVE COZY ROOM</td>\n",
              "      <td>47591528</td>\n",
              "      <td>Janessa</td>\n",
              "      <td>Private Room</td>\n",
              "      <td>99.0</td>\n",
              "      <td>13</td>\n",
              "      <td>2019-05-23</td>\n",
              "      <td>0.52</td>\n",
              "      <td>82</td>\n",
              "      <td>4.806590</td>\n",
              "      <td>15.6</td>\n",
              "      <td>0.937422</td>\n",
              "      <td>2018-11-17</td>\n",
              "      <td>40.59211</td>\n",
              "      <td>-73.94127</td>\n",
              "      <td>Brooklyn</td>\n",
              "      <td>Sheepshead Bay</td>\n",
              "      <td>1</td>\n",
              "    </tr>\n",
              "    <tr>\n",
              "      <th>6438</th>\n",
              "      <td>19477677</td>\n",
              "      <td>Huge sunny room next to subway!</td>\n",
              "      <td>25038748</td>\n",
              "      <td>Justin</td>\n",
              "      <td>Private Room</td>\n",
              "      <td>70.0</td>\n",
              "      <td>11</td>\n",
              "      <td>2019-05-11</td>\n",
              "      <td>0.45</td>\n",
              "      <td>0</td>\n",
              "      <td>3.074890</td>\n",
              "      <td>13.2</td>\n",
              "      <td>0.631619</td>\n",
              "      <td>2018-11-05</td>\n",
              "      <td>40.82119</td>\n",
              "      <td>-73.95583</td>\n",
              "      <td>Manhattan</td>\n",
              "      <td>Harlem</td>\n",
              "      <td>1</td>\n",
              "    </tr>\n",
              "    <tr>\n",
              "      <th>5251</th>\n",
              "      <td>19477677</td>\n",
              "      <td>Huge sunny room next to subway!</td>\n",
              "      <td>25038748</td>\n",
              "      <td>Justin</td>\n",
              "      <td>Private Room</td>\n",
              "      <td>70.0</td>\n",
              "      <td>11</td>\n",
              "      <td>2019-05-11</td>\n",
              "      <td>0.45</td>\n",
              "      <td>0</td>\n",
              "      <td>3.074890</td>\n",
              "      <td>13.2</td>\n",
              "      <td>0.631619</td>\n",
              "      <td>2018-11-05</td>\n",
              "      <td>40.82119</td>\n",
              "      <td>-73.95583</td>\n",
              "      <td>Manhattan</td>\n",
              "      <td>Harlem</td>\n",
              "      <td>1</td>\n",
              "    </tr>\n",
              "    <tr>\n",
              "      <th>5454</th>\n",
              "      <td>21106251</td>\n",
              "      <td>Private Bedroom in Great Brooklyn Apartment</td>\n",
              "      <td>25354313</td>\n",
              "      <td>Tommy</td>\n",
              "      <td>Private Room</td>\n",
              "      <td>45.0</td>\n",
              "      <td>9</td>\n",
              "      <td>2019-06-22</td>\n",
              "      <td>0.43</td>\n",
              "      <td>0</td>\n",
              "      <td>3.779114</td>\n",
              "      <td>10.8</td>\n",
              "      <td>0.738191</td>\n",
              "      <td>2018-12-17</td>\n",
              "      <td>40.67359</td>\n",
              "      <td>-73.95812</td>\n",
              "      <td>Brooklyn</td>\n",
              "      <td>Crown Heights</td>\n",
              "      <td>1</td>\n",
              "    </tr>\n",
              "    <tr>\n",
              "      <th>6832</th>\n",
              "      <td>21106251</td>\n",
              "      <td>Private Bedroom in Great Brooklyn Apartment</td>\n",
              "      <td>25354313</td>\n",
              "      <td>Tommy</td>\n",
              "      <td>Private Room</td>\n",
              "      <td>45.0</td>\n",
              "      <td>9</td>\n",
              "      <td>2019-06-22</td>\n",
              "      <td>0.43</td>\n",
              "      <td>0</td>\n",
              "      <td>3.779114</td>\n",
              "      <td>10.8</td>\n",
              "      <td>0.738191</td>\n",
              "      <td>2018-12-17</td>\n",
              "      <td>40.67359</td>\n",
              "      <td>-73.95812</td>\n",
              "      <td>Brooklyn</td>\n",
              "      <td>Crown Heights</td>\n",
              "      <td>1</td>\n",
              "    </tr>\n",
              "    <tr>\n",
              "      <th>5246</th>\n",
              "      <td>22014840</td>\n",
              "      <td>Sunny Bedroom Only 1 Metro Stop to Manhattan</td>\n",
              "      <td>32093643</td>\n",
              "      <td>Scarlett</td>\n",
              "      <td>Private Room</td>\n",
              "      <td>70.0</td>\n",
              "      <td>2</td>\n",
              "      <td>2018-01-07</td>\n",
              "      <td>0.11</td>\n",
              "      <td>0</td>\n",
              "      <td>4.024336</td>\n",
              "      <td>2.4</td>\n",
              "      <td>0.719426</td>\n",
              "      <td>2017-07-04</td>\n",
              "      <td>40.76211</td>\n",
              "      <td>-73.94887</td>\n",
              "      <td>Manhattan</td>\n",
              "      <td>Roosevelt Island</td>\n",
              "      <td>1</td>\n",
              "    </tr>\n",
              "    <tr>\n",
              "      <th>6068</th>\n",
              "      <td>22014840</td>\n",
              "      <td>Sunny Bedroom Only 1 Metro Stop to Manhattan</td>\n",
              "      <td>32093643</td>\n",
              "      <td>Scarlett</td>\n",
              "      <td>Private Room</td>\n",
              "      <td>70.0</td>\n",
              "      <td>2</td>\n",
              "      <td>2018-01-07</td>\n",
              "      <td>0.11</td>\n",
              "      <td>0</td>\n",
              "      <td>4.024336</td>\n",
              "      <td>2.4</td>\n",
              "      <td>0.719426</td>\n",
              "      <td>2017-07-04</td>\n",
              "      <td>40.76211</td>\n",
              "      <td>-73.94887</td>\n",
              "      <td>Manhattan</td>\n",
              "      <td>Roosevelt Island</td>\n",
              "      <td>1</td>\n",
              "    </tr>\n",
              "    <tr>\n",
              "      <th>5861</th>\n",
              "      <td>23990868</td>\n",
              "      <td>1 Bedroom in Luxury Building</td>\n",
              "      <td>4447548</td>\n",
              "      <td>Grace</td>\n",
              "      <td>Entire Place</td>\n",
              "      <td>88.0</td>\n",
              "      <td>8</td>\n",
              "      <td>2019-06-16</td>\n",
              "      <td>0.56</td>\n",
              "      <td>18</td>\n",
              "      <td>4.164548</td>\n",
              "      <td>9.6</td>\n",
              "      <td>0.640106</td>\n",
              "      <td>2018-12-11</td>\n",
              "      <td>40.69336</td>\n",
              "      <td>-73.94453</td>\n",
              "      <td>Brooklyn</td>\n",
              "      <td>Bedford-Stuyvesant</td>\n",
              "      <td>1</td>\n",
              "    </tr>\n",
              "    <tr>\n",
              "      <th>6132</th>\n",
              "      <td>23990868</td>\n",
              "      <td>1 Bedroom in Luxury Building</td>\n",
              "      <td>4447548</td>\n",
              "      <td>Grace</td>\n",
              "      <td>Entire Place</td>\n",
              "      <td>88.0</td>\n",
              "      <td>8</td>\n",
              "      <td>2019-06-16</td>\n",
              "      <td>0.56</td>\n",
              "      <td>18</td>\n",
              "      <td>4.164548</td>\n",
              "      <td>9.6</td>\n",
              "      <td>0.640106</td>\n",
              "      <td>2018-12-11</td>\n",
              "      <td>40.69336</td>\n",
              "      <td>-73.94453</td>\n",
              "      <td>Brooklyn</td>\n",
              "      <td>Bedford-Stuyvesant</td>\n",
              "      <td>1</td>\n",
              "    </tr>\n",
              "    <tr>\n",
              "      <th>7769</th>\n",
              "      <td>26554879</td>\n",
              "      <td>East Village/Union Square Flat</td>\n",
              "      <td>17400431</td>\n",
              "      <td>Bob</td>\n",
              "      <td>Entire Place</td>\n",
              "      <td>179.0</td>\n",
              "      <td>32</td>\n",
              "      <td>2019-06-26</td>\n",
              "      <td>2.92</td>\n",
              "      <td>12</td>\n",
              "      <td>3.125513</td>\n",
              "      <td>38.4</td>\n",
              "      <td>0.631764</td>\n",
              "      <td>2018-12-21</td>\n",
              "      <td>40.73177</td>\n",
              "      <td>-73.98691</td>\n",
              "      <td>Manhattan</td>\n",
              "      <td>East Village</td>\n",
              "      <td>1</td>\n",
              "    </tr>\n",
              "    <tr>\n",
              "      <th>7116</th>\n",
              "      <td>26554879</td>\n",
              "      <td>East Village/Union Square Flat</td>\n",
              "      <td>17400431</td>\n",
              "      <td>Bob</td>\n",
              "      <td>Entire Place</td>\n",
              "      <td>179.0</td>\n",
              "      <td>32</td>\n",
              "      <td>2019-06-26</td>\n",
              "      <td>2.92</td>\n",
              "      <td>12</td>\n",
              "      <td>3.125513</td>\n",
              "      <td>38.4</td>\n",
              "      <td>0.631764</td>\n",
              "      <td>2018-12-21</td>\n",
              "      <td>40.73177</td>\n",
              "      <td>-73.98691</td>\n",
              "      <td>Manhattan</td>\n",
              "      <td>East Village</td>\n",
              "      <td>1</td>\n",
              "    </tr>\n",
              "    <tr>\n",
              "      <th>5236</th>\n",
              "      <td>29844951</td>\n",
              "      <td>Cozy Home In Queens</td>\n",
              "      <td>49946447</td>\n",
              "      <td>Rah</td>\n",
              "      <td>Private Room</td>\n",
              "      <td>50.0</td>\n",
              "      <td>1</td>\n",
              "      <td>2019-03-19</td>\n",
              "      <td>0.27</td>\n",
              "      <td>311</td>\n",
              "      <td>4.792923</td>\n",
              "      <td>1.2</td>\n",
              "      <td>0.701232</td>\n",
              "      <td>2018-09-13</td>\n",
              "      <td>40.68842</td>\n",
              "      <td>-73.77677</td>\n",
              "      <td>Queens</td>\n",
              "      <td>Jamaica</td>\n",
              "      <td>1</td>\n",
              "    </tr>\n",
              "    <tr>\n",
              "      <th>9425</th>\n",
              "      <td>29844951</td>\n",
              "      <td>Cozy Home In Queens</td>\n",
              "      <td>49946447</td>\n",
              "      <td>Rah</td>\n",
              "      <td>Private Room</td>\n",
              "      <td>50.0</td>\n",
              "      <td>1</td>\n",
              "      <td>2019-03-19</td>\n",
              "      <td>0.27</td>\n",
              "      <td>311</td>\n",
              "      <td>4.792923</td>\n",
              "      <td>1.2</td>\n",
              "      <td>0.701232</td>\n",
              "      <td>2018-09-13</td>\n",
              "      <td>40.68842</td>\n",
              "      <td>-73.77677</td>\n",
              "      <td>Queens</td>\n",
              "      <td>Jamaica</td>\n",
              "      <td>1</td>\n",
              "    </tr>\n",
              "    <tr>\n",
              "      <th>7316</th>\n",
              "      <td>31470004</td>\n",
              "      <td>Private bedroom/Bathroom in a 2 bedroom apartment</td>\n",
              "      <td>71241932</td>\n",
              "      <td>Max</td>\n",
              "      <td>Private Room</td>\n",
              "      <td>2500.0</td>\n",
              "      <td>0</td>\n",
              "      <td>NaT</td>\n",
              "      <td>0.00</td>\n",
              "      <td>90</td>\n",
              "      <td>NaN</td>\n",
              "      <td>0.0</td>\n",
              "      <td>0.000000</td>\n",
              "      <td>2018-04-09</td>\n",
              "      <td>40.72544</td>\n",
              "      <td>-73.97818</td>\n",
              "      <td>Manhattan</td>\n",
              "      <td>East Village</td>\n",
              "      <td>0</td>\n",
              "    </tr>\n",
              "    <tr>\n",
              "      <th>9322</th>\n",
              "      <td>31470004</td>\n",
              "      <td>Private bedroom/Bathroom in a 2 bedroom apartment</td>\n",
              "      <td>71241932</td>\n",
              "      <td>Max</td>\n",
              "      <td>Private Room</td>\n",
              "      <td>2500.0</td>\n",
              "      <td>0</td>\n",
              "      <td>NaT</td>\n",
              "      <td>0.00</td>\n",
              "      <td>90</td>\n",
              "      <td>NaN</td>\n",
              "      <td>0.0</td>\n",
              "      <td>0.000000</td>\n",
              "      <td>2018-03-12</td>\n",
              "      <td>40.72544</td>\n",
              "      <td>-73.97818</td>\n",
              "      <td>Manhattan</td>\n",
              "      <td>East Village</td>\n",
              "      <td>0</td>\n",
              "    </tr>\n",
              "    <tr>\n",
              "      <th>1338</th>\n",
              "      <td>32610834</td>\n",
              "      <td>Manhattan by the water!</td>\n",
              "      <td>12132369</td>\n",
              "      <td>Omar</td>\n",
              "      <td>Entire Place</td>\n",
              "      <td>150.0</td>\n",
              "      <td>0</td>\n",
              "      <td>NaT</td>\n",
              "      <td>0.00</td>\n",
              "      <td>9</td>\n",
              "      <td>NaN</td>\n",
              "      <td>0.0</td>\n",
              "      <td>0.000000</td>\n",
              "      <td>2018-06-28</td>\n",
              "      <td>40.73767</td>\n",
              "      <td>-73.97384</td>\n",
              "      <td>Manhattan</td>\n",
              "      <td>Kips Bay</td>\n",
              "      <td>0</td>\n",
              "    </tr>\n",
              "    <tr>\n",
              "      <th>6313</th>\n",
              "      <td>32610834</td>\n",
              "      <td>Manhattan by the water!</td>\n",
              "      <td>12132369</td>\n",
              "      <td>Omar</td>\n",
              "      <td>Entire Place</td>\n",
              "      <td>150.0</td>\n",
              "      <td>0</td>\n",
              "      <td>NaT</td>\n",
              "      <td>0.00</td>\n",
              "      <td>9</td>\n",
              "      <td>NaN</td>\n",
              "      <td>0.0</td>\n",
              "      <td>0.000000</td>\n",
              "      <td>2018-06-28</td>\n",
              "      <td>40.73767</td>\n",
              "      <td>-73.97384</td>\n",
              "      <td>Manhattan</td>\n",
              "      <td>Kips Bay</td>\n",
              "      <td>0</td>\n",
              "    </tr>\n",
              "    <tr>\n",
              "      <th>6085</th>\n",
              "      <td>33346762</td>\n",
              "      <td>2BR Apartment in Brownstone Brooklyn!</td>\n",
              "      <td>50321289</td>\n",
              "      <td>Avery</td>\n",
              "      <td>Entire Place</td>\n",
              "      <td>140.0</td>\n",
              "      <td>4</td>\n",
              "      <td>2019-06-14</td>\n",
              "      <td>1.58</td>\n",
              "      <td>4</td>\n",
              "      <td>4.013393</td>\n",
              "      <td>4.8</td>\n",
              "      <td>0.719591</td>\n",
              "      <td>2018-12-09</td>\n",
              "      <td>40.68200</td>\n",
              "      <td>-73.95681</td>\n",
              "      <td>Brooklyn</td>\n",
              "      <td>Bedford-Stuyvesant</td>\n",
              "      <td>1</td>\n",
              "    </tr>\n",
              "    <tr>\n",
              "      <th>2118</th>\n",
              "      <td>33346762</td>\n",
              "      <td>2BR Apartment in Brownstone Brooklyn!</td>\n",
              "      <td>50321289</td>\n",
              "      <td>Avery</td>\n",
              "      <td>Entire Place</td>\n",
              "      <td>140.0</td>\n",
              "      <td>4</td>\n",
              "      <td>2019-06-14</td>\n",
              "      <td>1.58</td>\n",
              "      <td>4</td>\n",
              "      <td>4.013393</td>\n",
              "      <td>4.8</td>\n",
              "      <td>0.719591</td>\n",
              "      <td>2018-12-09</td>\n",
              "      <td>40.68200</td>\n",
              "      <td>-73.95681</td>\n",
              "      <td>Brooklyn</td>\n",
              "      <td>Bedford-Stuyvesant</td>\n",
              "      <td>1</td>\n",
              "    </tr>\n",
              "    <tr>\n",
              "      <th>5025</th>\n",
              "      <td>33831116</td>\n",
              "      <td>Sonder | Stock Exchange | Collected 1BR + Laundry</td>\n",
              "      <td>219517861</td>\n",
              "      <td>Sonder (NYC)</td>\n",
              "      <td>Entire Place</td>\n",
              "      <td>229.0</td>\n",
              "      <td>5</td>\n",
              "      <td>2019-06-15</td>\n",
              "      <td>1.92</td>\n",
              "      <td>350</td>\n",
              "      <td>4.026379</td>\n",
              "      <td>6.0</td>\n",
              "      <td>0.601737</td>\n",
              "      <td>2018-12-10</td>\n",
              "      <td>40.70621</td>\n",
              "      <td>-74.01199</td>\n",
              "      <td>Manhattan</td>\n",
              "      <td>Financial District</td>\n",
              "      <td>1</td>\n",
              "    </tr>\n",
              "    <tr>\n",
              "      <th>5077</th>\n",
              "      <td>33831116</td>\n",
              "      <td>Sonder | Stock Exchange | Collected 1BR + Laundry</td>\n",
              "      <td>219517861</td>\n",
              "      <td>Sonder (NYC)</td>\n",
              "      <td>Entire Place</td>\n",
              "      <td>229.0</td>\n",
              "      <td>5</td>\n",
              "      <td>2019-06-15</td>\n",
              "      <td>1.92</td>\n",
              "      <td>350</td>\n",
              "      <td>4.026379</td>\n",
              "      <td>6.0</td>\n",
              "      <td>0.601737</td>\n",
              "      <td>2018-12-10</td>\n",
              "      <td>40.70621</td>\n",
              "      <td>-74.01199</td>\n",
              "      <td>Manhattan</td>\n",
              "      <td>Financial District</td>\n",
              "      <td>1</td>\n",
              "    </tr>\n",
              "    <tr>\n",
              "      <th>1658</th>\n",
              "      <td>35646737</td>\n",
              "      <td>Private Cabins @ Chelsea, Manhattan</td>\n",
              "      <td>117365574</td>\n",
              "      <td>Maria</td>\n",
              "      <td>Private Room</td>\n",
              "      <td>85.0</td>\n",
              "      <td>1</td>\n",
              "      <td>2019-06-22</td>\n",
              "      <td>1.00</td>\n",
              "      <td>261</td>\n",
              "      <td>4.951714</td>\n",
              "      <td>1.2</td>\n",
              "      <td>0.671388</td>\n",
              "      <td>2018-12-17</td>\n",
              "      <td>40.74946</td>\n",
              "      <td>-73.99627</td>\n",
              "      <td>Manhattan</td>\n",
              "      <td>Chelsea</td>\n",
              "      <td>1</td>\n",
              "    </tr>\n",
              "    <tr>\n",
              "      <th>3340</th>\n",
              "      <td>35646737</td>\n",
              "      <td>Private Cabins @ Chelsea, Manhattan</td>\n",
              "      <td>117365574</td>\n",
              "      <td>Maria</td>\n",
              "      <td>Private Room</td>\n",
              "      <td>85.0</td>\n",
              "      <td>1</td>\n",
              "      <td>2019-06-22</td>\n",
              "      <td>1.00</td>\n",
              "      <td>261</td>\n",
              "      <td>4.951714</td>\n",
              "      <td>1.2</td>\n",
              "      <td>0.671388</td>\n",
              "      <td>2018-12-17</td>\n",
              "      <td>40.74946</td>\n",
              "      <td>-73.99627</td>\n",
              "      <td>Manhattan</td>\n",
              "      <td>Chelsea</td>\n",
              "      <td>1</td>\n",
              "    </tr>\n",
              "    <tr>\n",
              "      <th>7155</th>\n",
              "      <td>35801208</td>\n",
              "      <td>Comfy 2 bedroom Close To Manhattan</td>\n",
              "      <td>256911412</td>\n",
              "      <td>Taylor</td>\n",
              "      <td>Entire Place</td>\n",
              "      <td>101.0</td>\n",
              "      <td>0</td>\n",
              "      <td>NaT</td>\n",
              "      <td>0.00</td>\n",
              "      <td>27</td>\n",
              "      <td>NaN</td>\n",
              "      <td>0.0</td>\n",
              "      <td>0.000000</td>\n",
              "      <td>2018-10-17</td>\n",
              "      <td>40.70469</td>\n",
              "      <td>-73.93690</td>\n",
              "      <td>Brooklyn</td>\n",
              "      <td>Williamsburg</td>\n",
              "      <td>0</td>\n",
              "    </tr>\n",
              "    <tr>\n",
              "      <th>9265</th>\n",
              "      <td>35801208</td>\n",
              "      <td>Comfy 2 bedroom Close To Manhattan</td>\n",
              "      <td>256911412</td>\n",
              "      <td>Taylor</td>\n",
              "      <td>Entire Place</td>\n",
              "      <td>101.0</td>\n",
              "      <td>0</td>\n",
              "      <td>NaT</td>\n",
              "      <td>0.00</td>\n",
              "      <td>27</td>\n",
              "      <td>NaN</td>\n",
              "      <td>0.0</td>\n",
              "      <td>0.000000</td>\n",
              "      <td>2018-05-03</td>\n",
              "      <td>40.70469</td>\n",
              "      <td>-73.93690</td>\n",
              "      <td>Brooklyn</td>\n",
              "      <td>Williamsburg</td>\n",
              "      <td>0</td>\n",
              "    </tr>\n",
              "  </tbody>\n",
              "</table>\n",
              "</div>"
            ],
            "text/plain": [
              "      listing_id  ... is_rated\n",
              "1145      253806  ...        1\n",
              "6562      253806  ...        1\n",
              "8699     2044392  ...        0\n",
              "5761     2044392  ...        0\n",
              "4187     4244242  ...        1\n",
              "2871     4244242  ...        1\n",
              "77       7319856  ...        1\n",
              "2255     7319856  ...        1\n",
              "555      9078222  ...        1\n",
              "7933     9078222  ...        1\n",
              "1481    15027024  ...        1\n",
              "3430    15027024  ...        1\n",
              "3065    16518377  ...        1\n",
              "5397    16518377  ...        1\n",
              "3007    17861841  ...        1\n",
              "368     17861841  ...        1\n",
              "6438    19477677  ...        1\n",
              "5251    19477677  ...        1\n",
              "5454    21106251  ...        1\n",
              "6832    21106251  ...        1\n",
              "5246    22014840  ...        1\n",
              "6068    22014840  ...        1\n",
              "5861    23990868  ...        1\n",
              "6132    23990868  ...        1\n",
              "7769    26554879  ...        1\n",
              "7116    26554879  ...        1\n",
              "5236    29844951  ...        1\n",
              "9425    29844951  ...        1\n",
              "7316    31470004  ...        0\n",
              "9322    31470004  ...        0\n",
              "1338    32610834  ...        0\n",
              "6313    32610834  ...        0\n",
              "6085    33346762  ...        1\n",
              "2118    33346762  ...        1\n",
              "5025    33831116  ...        1\n",
              "5077    33831116  ...        1\n",
              "1658    35646737  ...        1\n",
              "3340    35646737  ...        1\n",
              "7155    35801208  ...        0\n",
              "9265    35801208  ...        0\n",
              "\n",
              "[40 rows x 19 columns]"
            ]
          },
          "metadata": {
            "tags": []
          },
          "execution_count": 74
        }
      ]
    },
    {
      "cell_type": "code",
      "metadata": {
        "id": "uSXEpMFlJCJc",
        "colab_type": "code",
        "colab": {}
      },
      "source": [
        "# Remove identical duplicates \n",
        "#true duplicates\n",
        "airbnb = airbnb.drop_duplicates()"
      ],
      "execution_count": 0,
      "outputs": []
    },
    {
      "cell_type": "code",
      "metadata": {
        "id": "nYf1M1cNKIIN",
        "colab_type": "code",
        "colab": {}
      },
      "source": [
        "# Find non-identical duplicates\n",
        "duplicates = airbnb.duplicated(subset = 'listing_id', keep = False)"
      ],
      "execution_count": 0,
      "outputs": []
    },
    {
      "cell_type": "code",
      "metadata": {
        "id": "wiN1SBw8Kizr",
        "colab_type": "code",
        "outputId": "2eed268e-f294-4778-9694-6a29cc3e304b",
        "colab": {
          "base_uri": "https://localhost:8080/",
          "height": 993
        }
      },
      "source": [
        "# Show all duplicates\n",
        "airbnb[duplicates].sort_values('listing_id')"
      ],
      "execution_count": 0,
      "outputs": [
        {
          "output_type": "execute_result",
          "data": {
            "text/html": [
              "<div>\n",
              "<style scoped>\n",
              "    .dataframe tbody tr th:only-of-type {\n",
              "        vertical-align: middle;\n",
              "    }\n",
              "\n",
              "    .dataframe tbody tr th {\n",
              "        vertical-align: top;\n",
              "    }\n",
              "\n",
              "    .dataframe thead th {\n",
              "        text-align: right;\n",
              "    }\n",
              "</style>\n",
              "<table border=\"1\" class=\"dataframe\">\n",
              "  <thead>\n",
              "    <tr style=\"text-align: right;\">\n",
              "      <th></th>\n",
              "      <th>listing_id</th>\n",
              "      <th>name</th>\n",
              "      <th>host_id</th>\n",
              "      <th>host_name</th>\n",
              "      <th>room_type</th>\n",
              "      <th>price</th>\n",
              "      <th>number_of_reviews</th>\n",
              "      <th>last_review</th>\n",
              "      <th>reviews_per_month</th>\n",
              "      <th>availability_365</th>\n",
              "      <th>rating</th>\n",
              "      <th>number_of_stays</th>\n",
              "      <th>5_stars</th>\n",
              "      <th>listing_added</th>\n",
              "      <th>latitude</th>\n",
              "      <th>longitude</th>\n",
              "      <th>borough</th>\n",
              "      <th>neighbourhood</th>\n",
              "      <th>is_rated</th>\n",
              "    </tr>\n",
              "  </thead>\n",
              "  <tbody>\n",
              "    <tr>\n",
              "      <th>5761</th>\n",
              "      <td>2044392</td>\n",
              "      <td>The heart of Williamsburg 2 bedroom</td>\n",
              "      <td>620218</td>\n",
              "      <td>Sarah</td>\n",
              "      <td>Entire Place</td>\n",
              "      <td>250.0</td>\n",
              "      <td>0</td>\n",
              "      <td>NaT</td>\n",
              "      <td>0.00</td>\n",
              "      <td>0</td>\n",
              "      <td>NaN</td>\n",
              "      <td>0.0</td>\n",
              "      <td>0.000000</td>\n",
              "      <td>2018-05-24</td>\n",
              "      <td>40.71257</td>\n",
              "      <td>-73.96149</td>\n",
              "      <td>Brooklyn</td>\n",
              "      <td>Williamsburg</td>\n",
              "      <td>0</td>\n",
              "    </tr>\n",
              "    <tr>\n",
              "      <th>8699</th>\n",
              "      <td>2044392</td>\n",
              "      <td>The heart of Williamsburg 2 bedroom</td>\n",
              "      <td>620218</td>\n",
              "      <td>Sarah</td>\n",
              "      <td>Entire Place</td>\n",
              "      <td>245.0</td>\n",
              "      <td>0</td>\n",
              "      <td>NaT</td>\n",
              "      <td>0.00</td>\n",
              "      <td>0</td>\n",
              "      <td>NaN</td>\n",
              "      <td>0.0</td>\n",
              "      <td>0.000000</td>\n",
              "      <td>2018-08-09</td>\n",
              "      <td>40.71257</td>\n",
              "      <td>-73.96149</td>\n",
              "      <td>Brooklyn</td>\n",
              "      <td>Williamsburg</td>\n",
              "      <td>0</td>\n",
              "    </tr>\n",
              "    <tr>\n",
              "      <th>2871</th>\n",
              "      <td>4244242</td>\n",
              "      <td>Best Bedroom in Bedstuy/Bushwick. Ensuite bath...</td>\n",
              "      <td>22023014</td>\n",
              "      <td>BrooklynSleeps</td>\n",
              "      <td>Private Room</td>\n",
              "      <td>70.0</td>\n",
              "      <td>110</td>\n",
              "      <td>2019-06-23</td>\n",
              "      <td>1.96</td>\n",
              "      <td>323</td>\n",
              "      <td>4.962314</td>\n",
              "      <td>132.0</td>\n",
              "      <td>0.809882</td>\n",
              "      <td>2018-12-18</td>\n",
              "      <td>40.69496</td>\n",
              "      <td>-73.93949</td>\n",
              "      <td>Brooklyn</td>\n",
              "      <td>Bedford-Stuyvesant</td>\n",
              "      <td>1</td>\n",
              "    </tr>\n",
              "    <tr>\n",
              "      <th>4187</th>\n",
              "      <td>4244242</td>\n",
              "      <td>Best Bedroom in Bedstuy/Bushwick. Ensuite bath...</td>\n",
              "      <td>22023014</td>\n",
              "      <td>BrooklynSleeps</td>\n",
              "      <td>Private Room</td>\n",
              "      <td>73.0</td>\n",
              "      <td>110</td>\n",
              "      <td>2019-06-23</td>\n",
              "      <td>1.96</td>\n",
              "      <td>323</td>\n",
              "      <td>4.962314</td>\n",
              "      <td>132.0</td>\n",
              "      <td>0.809882</td>\n",
              "      <td>2018-12-18</td>\n",
              "      <td>40.69496</td>\n",
              "      <td>-73.93949</td>\n",
              "      <td>Brooklyn</td>\n",
              "      <td>Bedford-Stuyvesant</td>\n",
              "      <td>1</td>\n",
              "    </tr>\n",
              "    <tr>\n",
              "      <th>77</th>\n",
              "      <td>7319856</td>\n",
              "      <td>450ft Square Studio in Gramercy NY</td>\n",
              "      <td>11773680</td>\n",
              "      <td>Adam</td>\n",
              "      <td>Entire Place</td>\n",
              "      <td>289.0</td>\n",
              "      <td>4</td>\n",
              "      <td>2016-05-22</td>\n",
              "      <td>0.09</td>\n",
              "      <td>225</td>\n",
              "      <td>3.903764</td>\n",
              "      <td>4.8</td>\n",
              "      <td>0.756381</td>\n",
              "      <td>2015-11-17</td>\n",
              "      <td>40.73813</td>\n",
              "      <td>-73.98098</td>\n",
              "      <td>Manhattan</td>\n",
              "      <td>Kips Bay</td>\n",
              "      <td>1</td>\n",
              "    </tr>\n",
              "    <tr>\n",
              "      <th>2255</th>\n",
              "      <td>7319856</td>\n",
              "      <td>450ft Square Studio in Gramercy NY</td>\n",
              "      <td>11773680</td>\n",
              "      <td>Adam</td>\n",
              "      <td>Entire Place</td>\n",
              "      <td>280.0</td>\n",
              "      <td>4</td>\n",
              "      <td>2016-05-22</td>\n",
              "      <td>0.09</td>\n",
              "      <td>225</td>\n",
              "      <td>3.903764</td>\n",
              "      <td>4.8</td>\n",
              "      <td>0.756381</td>\n",
              "      <td>2015-11-17</td>\n",
              "      <td>40.73813</td>\n",
              "      <td>-73.98098</td>\n",
              "      <td>Manhattan</td>\n",
              "      <td>Kips Bay</td>\n",
              "      <td>1</td>\n",
              "    </tr>\n",
              "    <tr>\n",
              "      <th>555</th>\n",
              "      <td>9078222</td>\n",
              "      <td>Prospect Park 3 bdrm, Sleeps 8 (#2)</td>\n",
              "      <td>47219962</td>\n",
              "      <td>Babajide</td>\n",
              "      <td>Entire Place</td>\n",
              "      <td>154.0</td>\n",
              "      <td>123</td>\n",
              "      <td>2019-07-01</td>\n",
              "      <td>2.74</td>\n",
              "      <td>263</td>\n",
              "      <td>3.466881</td>\n",
              "      <td>147.6</td>\n",
              "      <td>0.738191</td>\n",
              "      <td>2018-12-26</td>\n",
              "      <td>40.66086</td>\n",
              "      <td>-73.96159</td>\n",
              "      <td>Brooklyn</td>\n",
              "      <td>Prospect-Lefferts Gardens</td>\n",
              "      <td>1</td>\n",
              "    </tr>\n",
              "    <tr>\n",
              "      <th>7933</th>\n",
              "      <td>9078222</td>\n",
              "      <td>Prospect Park 3 bdrm, Sleeps 8 (#2)</td>\n",
              "      <td>47219962</td>\n",
              "      <td>Babajide</td>\n",
              "      <td>Entire Place</td>\n",
              "      <td>150.0</td>\n",
              "      <td>123</td>\n",
              "      <td>2019-07-01</td>\n",
              "      <td>2.74</td>\n",
              "      <td>263</td>\n",
              "      <td>3.466881</td>\n",
              "      <td>147.6</td>\n",
              "      <td>0.738191</td>\n",
              "      <td>2018-12-26</td>\n",
              "      <td>40.66086</td>\n",
              "      <td>-73.96159</td>\n",
              "      <td>Brooklyn</td>\n",
              "      <td>Prospect-Lefferts Gardens</td>\n",
              "      <td>1</td>\n",
              "    </tr>\n",
              "    <tr>\n",
              "      <th>1481</th>\n",
              "      <td>15027024</td>\n",
              "      <td>Newly renovated 1bd on lively &amp; historic St Marks</td>\n",
              "      <td>8344620</td>\n",
              "      <td>Ethan</td>\n",
              "      <td>Entire Place</td>\n",
              "      <td>180.0</td>\n",
              "      <td>10</td>\n",
              "      <td>2018-12-31</td>\n",
              "      <td>0.30</td>\n",
              "      <td>0</td>\n",
              "      <td>3.969729</td>\n",
              "      <td>12.0</td>\n",
              "      <td>0.772513</td>\n",
              "      <td>2018-06-27</td>\n",
              "      <td>40.72693</td>\n",
              "      <td>-73.98385</td>\n",
              "      <td>Manhattan</td>\n",
              "      <td>East Village</td>\n",
              "      <td>1</td>\n",
              "    </tr>\n",
              "    <tr>\n",
              "      <th>3430</th>\n",
              "      <td>15027024</td>\n",
              "      <td>Newly renovated 1bd on lively &amp; historic St Marks</td>\n",
              "      <td>8344620</td>\n",
              "      <td>Ethan</td>\n",
              "      <td>Entire Place</td>\n",
              "      <td>180.0</td>\n",
              "      <td>10</td>\n",
              "      <td>2018-12-31</td>\n",
              "      <td>0.30</td>\n",
              "      <td>0</td>\n",
              "      <td>3.869729</td>\n",
              "      <td>12.0</td>\n",
              "      <td>0.772513</td>\n",
              "      <td>2018-06-27</td>\n",
              "      <td>40.72693</td>\n",
              "      <td>-73.98385</td>\n",
              "      <td>Manhattan</td>\n",
              "      <td>East Village</td>\n",
              "      <td>1</td>\n",
              "    </tr>\n",
              "    <tr>\n",
              "      <th>7316</th>\n",
              "      <td>31470004</td>\n",
              "      <td>Private bedroom/Bathroom in a 2 bedroom apartment</td>\n",
              "      <td>71241932</td>\n",
              "      <td>Max</td>\n",
              "      <td>Private Room</td>\n",
              "      <td>2500.0</td>\n",
              "      <td>0</td>\n",
              "      <td>NaT</td>\n",
              "      <td>0.00</td>\n",
              "      <td>90</td>\n",
              "      <td>NaN</td>\n",
              "      <td>0.0</td>\n",
              "      <td>0.000000</td>\n",
              "      <td>2018-04-09</td>\n",
              "      <td>40.72544</td>\n",
              "      <td>-73.97818</td>\n",
              "      <td>Manhattan</td>\n",
              "      <td>East Village</td>\n",
              "      <td>0</td>\n",
              "    </tr>\n",
              "    <tr>\n",
              "      <th>9322</th>\n",
              "      <td>31470004</td>\n",
              "      <td>Private bedroom/Bathroom in a 2 bedroom apartment</td>\n",
              "      <td>71241932</td>\n",
              "      <td>Max</td>\n",
              "      <td>Private Room</td>\n",
              "      <td>2500.0</td>\n",
              "      <td>0</td>\n",
              "      <td>NaT</td>\n",
              "      <td>0.00</td>\n",
              "      <td>90</td>\n",
              "      <td>NaN</td>\n",
              "      <td>0.0</td>\n",
              "      <td>0.000000</td>\n",
              "      <td>2018-03-12</td>\n",
              "      <td>40.72544</td>\n",
              "      <td>-73.97818</td>\n",
              "      <td>Manhattan</td>\n",
              "      <td>East Village</td>\n",
              "      <td>0</td>\n",
              "    </tr>\n",
              "    <tr>\n",
              "      <th>7155</th>\n",
              "      <td>35801208</td>\n",
              "      <td>Comfy 2 bedroom Close To Manhattan</td>\n",
              "      <td>256911412</td>\n",
              "      <td>Taylor</td>\n",
              "      <td>Entire Place</td>\n",
              "      <td>101.0</td>\n",
              "      <td>0</td>\n",
              "      <td>NaT</td>\n",
              "      <td>0.00</td>\n",
              "      <td>27</td>\n",
              "      <td>NaN</td>\n",
              "      <td>0.0</td>\n",
              "      <td>0.000000</td>\n",
              "      <td>2018-10-17</td>\n",
              "      <td>40.70469</td>\n",
              "      <td>-73.93690</td>\n",
              "      <td>Brooklyn</td>\n",
              "      <td>Williamsburg</td>\n",
              "      <td>0</td>\n",
              "    </tr>\n",
              "    <tr>\n",
              "      <th>9265</th>\n",
              "      <td>35801208</td>\n",
              "      <td>Comfy 2 bedroom Close To Manhattan</td>\n",
              "      <td>256911412</td>\n",
              "      <td>Taylor</td>\n",
              "      <td>Entire Place</td>\n",
              "      <td>101.0</td>\n",
              "      <td>0</td>\n",
              "      <td>NaT</td>\n",
              "      <td>0.00</td>\n",
              "      <td>27</td>\n",
              "      <td>NaN</td>\n",
              "      <td>0.0</td>\n",
              "      <td>0.000000</td>\n",
              "      <td>2018-05-03</td>\n",
              "      <td>40.70469</td>\n",
              "      <td>-73.93690</td>\n",
              "      <td>Brooklyn</td>\n",
              "      <td>Williamsburg</td>\n",
              "      <td>0</td>\n",
              "    </tr>\n",
              "  </tbody>\n",
              "</table>\n",
              "</div>"
            ],
            "text/plain": [
              "      listing_id  ... is_rated\n",
              "5761     2044392  ...        0\n",
              "8699     2044392  ...        0\n",
              "2871     4244242  ...        1\n",
              "4187     4244242  ...        1\n",
              "77       7319856  ...        1\n",
              "2255     7319856  ...        1\n",
              "555      9078222  ...        1\n",
              "7933     9078222  ...        1\n",
              "1481    15027024  ...        1\n",
              "3430    15027024  ...        1\n",
              "7316    31470004  ...        0\n",
              "9322    31470004  ...        0\n",
              "7155    35801208  ...        0\n",
              "9265    35801208  ...        0\n",
              "\n",
              "[14 rows x 19 columns]"
            ]
          },
          "metadata": {
            "tags": []
          },
          "execution_count": 77
        }
      ]
    },
    {
      "cell_type": "markdown",
      "metadata": {
        "id": "E6_O2EYkcGoF",
        "colab_type": "text"
      },
      "source": [
        "To treat identical duplicates across some columns, we will chain the `.groupby()` and `.agg()` methods where we group by the column used to find duplicates (`listing_id`) and aggregate across statistical measures for `price`, `rating` and `list_added`. The `.agg()` method takes in a dictionary with each column's aggregation method - we will use the following aggregations:\n",
        "\n",
        "- `mean` for `price` and `rating` columns\n",
        "- `max` for `listing_added` column\n",
        "- `first` for all remaining column\n",
        "\n",
        "*A note on dictionary comprehensions:*\n",
        "\n",
        "Dictionaries are useful data structures in Python with the following format\n",
        "`my_dictionary = {key: value}` where a `key` is mapped to a `value` and whose `value` can be returned with `my_dictionary[key]` - dictionary comprehensions allow us to programmatically create dicitonaries using the structure:\n",
        "\n",
        "```\n",
        "{x: x*2 for x in [1,2,3,4,5]} \n",
        "{1:2, 2:4, 3:6, 4:8, 5:10}\n",
        "```"
      ]
    },
    {
      "cell_type": "code",
      "metadata": {
        "id": "v7l82ErIqO1-",
        "colab_type": "code",
        "outputId": "2bb966a9-2ed7-49e0-8697-6c14a34a4ce9",
        "colab": {
          "base_uri": "https://localhost:8080/",
          "height": 116
        }
      },
      "source": [
        "# Get column names from airbnb\n",
        "\n",
        "#airbnb.groupby('listing_id').agg({'price':'mean','rating':'mean', 'listing_added':'max', 'host_id':'first'})\n",
        "\n",
        "column_names = airbnb.columns\n",
        "column_names"
      ],
      "execution_count": 0,
      "outputs": [
        {
          "output_type": "execute_result",
          "data": {
            "text/plain": [
              "Index(['listing_id', 'name', 'host_id', 'host_name', 'room_type', 'price',\n",
              "       'number_of_reviews', 'last_review', 'reviews_per_month',\n",
              "       'availability_365', 'rating', 'number_of_stays', '5_stars',\n",
              "       'listing_added', 'latitude', 'longitude', 'borough', 'neighbourhood',\n",
              "       'is_rated'],\n",
              "      dtype='object')"
            ]
          },
          "metadata": {
            "tags": []
          },
          "execution_count": 78
        }
      ]
    },
    {
      "cell_type": "code",
      "metadata": {
        "id": "CxCJ3xPbKmJg",
        "colab_type": "code",
        "outputId": "eb2dedf9-10ff-40fd-fbc3-3a58c86db945",
        "colab": {
          "base_uri": "https://localhost:8080/",
          "height": 315
        }
      },
      "source": [
        "# Create dictionary comprehension with 'first' as value for all columns not being aggregated\n",
        "aggregations = {column_name:'first' for column_name in column_names.difference(['listing_id','listing_added','rating','price'])}\n",
        "aggregations['price'] = 'mean'\n",
        "aggregations['rating'] = 'mean'\n",
        "aggregations['listing_added'] = 'max'\n",
        "aggregations\n",
        "\n"
      ],
      "execution_count": 0,
      "outputs": [
        {
          "output_type": "execute_result",
          "data": {
            "text/plain": [
              "{'5_stars': 'first',\n",
              " 'availability_365': 'first',\n",
              " 'borough': 'first',\n",
              " 'host_id': 'first',\n",
              " 'host_name': 'first',\n",
              " 'is_rated': 'first',\n",
              " 'last_review': 'first',\n",
              " 'latitude': 'first',\n",
              " 'listing_added': 'max',\n",
              " 'longitude': 'first',\n",
              " 'name': 'first',\n",
              " 'neighbourhood': 'first',\n",
              " 'number_of_reviews': 'first',\n",
              " 'number_of_stays': 'first',\n",
              " 'price': 'mean',\n",
              " 'rating': 'mean',\n",
              " 'reviews_per_month': 'first',\n",
              " 'room_type': 'first'}"
            ]
          },
          "metadata": {
            "tags": []
          },
          "execution_count": 80
        }
      ]
    },
    {
      "cell_type": "code",
      "metadata": {
        "id": "jaS5j-KsRUD-",
        "colab_type": "code",
        "colab": {}
      },
      "source": [
        "# Remove non-identical duplicates\n",
        "airbnb = airbnb.groupby('listing_id').agg(aggregations).reset_index()"
      ],
      "execution_count": 0,
      "outputs": []
    },
    {
      "cell_type": "code",
      "metadata": {
        "id": "ZmIRBaZgW4q2",
        "colab_type": "code",
        "outputId": "9b1b7201-cb75-42e1-b338-41f26746ce97",
        "colab": {
          "base_uri": "https://localhost:8080/",
          "height": 436
        }
      },
      "source": [
        "# Print header of DataFrame\n",
        "airbnb.head()"
      ],
      "execution_count": 0,
      "outputs": [
        {
          "output_type": "execute_result",
          "data": {
            "text/html": [
              "<div>\n",
              "<style scoped>\n",
              "    .dataframe tbody tr th:only-of-type {\n",
              "        vertical-align: middle;\n",
              "    }\n",
              "\n",
              "    .dataframe tbody tr th {\n",
              "        vertical-align: top;\n",
              "    }\n",
              "\n",
              "    .dataframe thead th {\n",
              "        text-align: right;\n",
              "    }\n",
              "</style>\n",
              "<table border=\"1\" class=\"dataframe\">\n",
              "  <thead>\n",
              "    <tr style=\"text-align: right;\">\n",
              "      <th></th>\n",
              "      <th>listing_id</th>\n",
              "      <th>5_stars</th>\n",
              "      <th>availability_365</th>\n",
              "      <th>borough</th>\n",
              "      <th>host_id</th>\n",
              "      <th>host_name</th>\n",
              "      <th>is_rated</th>\n",
              "      <th>last_review</th>\n",
              "      <th>latitude</th>\n",
              "      <th>longitude</th>\n",
              "      <th>name</th>\n",
              "      <th>neighbourhood</th>\n",
              "      <th>number_of_reviews</th>\n",
              "      <th>number_of_stays</th>\n",
              "      <th>reviews_per_month</th>\n",
              "      <th>room_type</th>\n",
              "      <th>price</th>\n",
              "      <th>rating</th>\n",
              "      <th>listing_added</th>\n",
              "    </tr>\n",
              "  </thead>\n",
              "  <tbody>\n",
              "    <tr>\n",
              "      <th>0</th>\n",
              "      <td>3831</td>\n",
              "      <td>0.757366</td>\n",
              "      <td>194</td>\n",
              "      <td>Brooklyn</td>\n",
              "      <td>4869</td>\n",
              "      <td>LisaRoxanne</td>\n",
              "      <td>1</td>\n",
              "      <td>2019-07-05</td>\n",
              "      <td>40.68514</td>\n",
              "      <td>-73.95976</td>\n",
              "      <td>Cozy Entire Floor of Brownstone</td>\n",
              "      <td>Clinton Hill</td>\n",
              "      <td>270</td>\n",
              "      <td>324.0</td>\n",
              "      <td>4.64</td>\n",
              "      <td>Entire Place</td>\n",
              "      <td>89.0</td>\n",
              "      <td>3.273935</td>\n",
              "      <td>2018-12-30</td>\n",
              "    </tr>\n",
              "    <tr>\n",
              "      <th>1</th>\n",
              "      <td>6848</td>\n",
              "      <td>0.789743</td>\n",
              "      <td>46</td>\n",
              "      <td>Brooklyn</td>\n",
              "      <td>15991</td>\n",
              "      <td>Allen &amp; Irina</td>\n",
              "      <td>1</td>\n",
              "      <td>2019-06-29</td>\n",
              "      <td>40.70837</td>\n",
              "      <td>-73.95352</td>\n",
              "      <td>Only 2 stops to Manhattan studio</td>\n",
              "      <td>Williamsburg</td>\n",
              "      <td>148</td>\n",
              "      <td>177.6</td>\n",
              "      <td>1.20</td>\n",
              "      <td>Entire Place</td>\n",
              "      <td>140.0</td>\n",
              "      <td>3.495760</td>\n",
              "      <td>2018-12-24</td>\n",
              "    </tr>\n",
              "    <tr>\n",
              "      <th>2</th>\n",
              "      <td>7322</td>\n",
              "      <td>0.669873</td>\n",
              "      <td>12</td>\n",
              "      <td>Manhattan</td>\n",
              "      <td>18946</td>\n",
              "      <td>Doti</td>\n",
              "      <td>1</td>\n",
              "      <td>2019-07-01</td>\n",
              "      <td>40.74192</td>\n",
              "      <td>-73.99501</td>\n",
              "      <td>Chelsea Perfect</td>\n",
              "      <td>Chelsea</td>\n",
              "      <td>260</td>\n",
              "      <td>312.0</td>\n",
              "      <td>2.12</td>\n",
              "      <td>Private Room</td>\n",
              "      <td>140.0</td>\n",
              "      <td>4.389051</td>\n",
              "      <td>2018-12-26</td>\n",
              "    </tr>\n",
              "    <tr>\n",
              "      <th>3</th>\n",
              "      <td>7726</td>\n",
              "      <td>0.640251</td>\n",
              "      <td>21</td>\n",
              "      <td>Brooklyn</td>\n",
              "      <td>20950</td>\n",
              "      <td>Adam And Charity</td>\n",
              "      <td>1</td>\n",
              "      <td>2019-06-22</td>\n",
              "      <td>40.67592</td>\n",
              "      <td>-73.94694</td>\n",
              "      <td>Hip Historic Brownstone Apartment with Backyard</td>\n",
              "      <td>Crown Heights</td>\n",
              "      <td>53</td>\n",
              "      <td>63.6</td>\n",
              "      <td>4.44</td>\n",
              "      <td>Entire Place</td>\n",
              "      <td>99.0</td>\n",
              "      <td>3.305382</td>\n",
              "      <td>2018-12-17</td>\n",
              "    </tr>\n",
              "    <tr>\n",
              "      <th>4</th>\n",
              "      <td>12303</td>\n",
              "      <td>0.918593</td>\n",
              "      <td>311</td>\n",
              "      <td>Brooklyn</td>\n",
              "      <td>47618</td>\n",
              "      <td>Yolande</td>\n",
              "      <td>1</td>\n",
              "      <td>2018-09-30</td>\n",
              "      <td>40.69673</td>\n",
              "      <td>-73.97584</td>\n",
              "      <td>1bdr w private bath. in lofty apt</td>\n",
              "      <td>Fort Greene</td>\n",
              "      <td>25</td>\n",
              "      <td>30.0</td>\n",
              "      <td>0.23</td>\n",
              "      <td>Private Room</td>\n",
              "      <td>120.0</td>\n",
              "      <td>4.568745</td>\n",
              "      <td>2018-03-27</td>\n",
              "    </tr>\n",
              "  </tbody>\n",
              "</table>\n",
              "</div>"
            ],
            "text/plain": [
              "   listing_id   5_stars  availability_365  ...  price    rating listing_added\n",
              "0        3831  0.757366               194  ...   89.0  3.273935    2018-12-30\n",
              "1        6848  0.789743                46  ...  140.0  3.495760    2018-12-24\n",
              "2        7322  0.669873                12  ...  140.0  4.389051    2018-12-26\n",
              "3        7726  0.640251                21  ...   99.0  3.305382    2018-12-17\n",
              "4       12303  0.918593               311  ...  120.0  4.568745    2018-03-27\n",
              "\n",
              "[5 rows x 19 columns]"
            ]
          },
          "metadata": {
            "tags": []
          },
          "execution_count": 83
        }
      ]
    },
    {
      "cell_type": "markdown",
      "metadata": {
        "id": "nR5oNXyd0vkx",
        "colab_type": "text"
      },
      "source": [
        "## **Q&A**"
      ]
    },
    {
      "cell_type": "markdown",
      "metadata": {
        "id": "zaF7ZDbzA6P7",
        "colab_type": "text"
      },
      "source": [
        "### Take home question\n",
        "\n",
        "Try to answer the following questions about the dataset:\n",
        "\n",
        "- What is the average price of listings by borough? Visualize your results with a bar plot!\n",
        "- What is the average availability in days of listings by borough? Visualize your results with a bar plot!\n",
        "- What is the median price per room type in each borough? Visualize your results with a bar plot!\n",
        "- Visualize the number of listings over time.\n",
        "\n",
        "**Functions that should/could be used:**\n",
        "- `.groupby()` and `.agg(})`\n",
        "- `sns.barplot(x = , y = , hue = , data = )`\n",
        "- `sns.lineplot(x = , y = , data = )`\n",
        "- `.dt.strftime()` for extracting specific dates from a `datetime` column\n",
        "\n",
        "**Bonus points if:**\n",
        "- You finish more than one question\n",
        "\n",
        "**Submission details:**\n",
        "- Share with us a code snippet with your output on LinkedIn, Twitter or Facebook\n",
        "- Tag us on `@DataCamp` with the hashtag `#datacamplive`\n"
      ]
    }
  ]
}